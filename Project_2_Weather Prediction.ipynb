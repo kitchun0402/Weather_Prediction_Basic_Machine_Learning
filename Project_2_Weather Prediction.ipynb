{
 "cells": [
  {
   "cell_type": "code",
   "execution_count": 1,
   "metadata": {},
   "outputs": [
    {
     "name": "stderr",
     "output_type": "stream",
     "text": [
      "/anaconda3/envs/FTDS/lib/python3.7/site-packages/lightgbm/__init__.py:46: UserWarning: Starting from version 2.2.1, the library file in distribution wheels for macOS is built by the Apple Clang (Xcode_8.3.3) compiler.\n",
      "This means that in case of installing LightGBM from PyPI via the ``pip install lightgbm`` command, you don't need to install the gcc compiler anymore.\n",
      "Instead of that, you need to install the OpenMP library, which is required for running LightGBM on the system with the Apple Clang compiler.\n",
      "You can install the OpenMP library by the following command: ``brew install libomp``.\n",
      "  \"You can install the OpenMP library by the following command: ``brew install libomp``.\", UserWarning)\n"
     ]
    }
   ],
   "source": [
    "import pandas as pd\n",
    "import os\n",
    "import seaborn as sns\n",
    "import matplotlib\n",
    "from matplotlib import pyplot as plt\n",
    "import numpy as np\n",
    "from sklearn.model_selection import train_test_split, GridSearchCV, cross_val_score\n",
    "from sklearn.feature_selection import SelectKBest, SelectFdr, f_classif, mutual_info_classif, chi2, RFECV\n",
    "from sklearn.ensemble import RandomForestClassifier, AdaBoostClassifier, RandomForestRegressor\n",
    "from sklearn.tree import DecisionTreeClassifier\n",
    "from sklearn.pipeline import Pipeline\n",
    "from sklearn.impute import SimpleImputer\n",
    "from sklearn.preprocessing import LabelEncoder, MinMaxScaler, StandardScaler, Normalizer, LabelBinarizer, OneHotEncoder,OrdinalEncoder, FunctionTransformer\n",
    "from sklearn.compose import ColumnTransformer\n",
    "from sklearn.metrics import classification_report, accuracy_score, roc_curve, roc_auc_score, f1_score, precision_score, confusion_matrix\n",
    "from sklearn.neighbors import KNeighborsClassifier\n",
    "from sklearn.svm import SVC\n",
    "from sklearn.decomposition import PCA\n",
    "from sklearn.linear_model import LinearRegression, Lasso, RidgeClassifier, LogisticRegression\n",
    "from imblearn.over_sampling import SMOTE, RandomOverSampler\n",
    "from xgboost import XGBClassifier, plot_importance\n",
    "import lightgbm as lgbm\n",
    "%matplotlib inline\n",
    "sns.set(color_codes = True, style = 'ticks', palette = 'Set2')\n",
    "pd.options.display.max_columns = 1000"
   ]
  },
  {
   "cell_type": "code",
   "execution_count": 2,
   "metadata": {},
   "outputs": [
    {
     "data": {
      "text/plain": [
       "['.DS_Store',\n",
       " 'weather-dataset-rattle-package.zip',\n",
       " 'Project 2_basic_ver.ipynb',\n",
       " 'weatherAUS.csv',\n",
       " 'WeatherUpdated.csv',\n",
       " 'Project 2.ipynb',\n",
       " '.ipynb_checkpoints']"
      ]
     },
     "execution_count": 2,
     "metadata": {},
     "output_type": "execute_result"
    }
   ],
   "source": [
    "os.listdir()"
   ]
  },
  {
   "cell_type": "code",
   "execution_count": 3,
   "metadata": {},
   "outputs": [],
   "source": [
    "weather = pd.read_csv('weatherAUS.csv')"
   ]
  },
  {
   "cell_type": "code",
   "execution_count": 5,
   "metadata": {},
   "outputs": [
    {
     "data": {
      "text/plain": [
       "(142193, 24)"
      ]
     },
     "execution_count": 5,
     "metadata": {},
     "output_type": "execute_result"
    }
   ],
   "source": [
    "weather.shape"
   ]
  },
  {
   "cell_type": "code",
   "execution_count": 6,
   "metadata": {},
   "outputs": [
    {
     "data": {
      "text/plain": [
       "Date                 0\n",
       "Location             0\n",
       "MinTemp            637\n",
       "MaxTemp            322\n",
       "Rainfall          1406\n",
       "Evaporation      60843\n",
       "Sunshine         67816\n",
       "WindGustDir       9330\n",
       "WindGustSpeed     9270\n",
       "WindDir9am       10013\n",
       "WindDir3pm        3778\n",
       "WindSpeed9am      1348\n",
       "WindSpeed3pm      2630\n",
       "Humidity9am       1774\n",
       "Humidity3pm       3610\n",
       "Pressure9am      14014\n",
       "Pressure3pm      13981\n",
       "Cloud9am         53657\n",
       "Cloud3pm         57094\n",
       "Temp9am            904\n",
       "Temp3pm           2726\n",
       "RainToday         1406\n",
       "RISK_MM              0\n",
       "RainTomorrow         0\n",
       "dtype: int64"
      ]
     },
     "execution_count": 6,
     "metadata": {},
     "output_type": "execute_result"
    }
   ],
   "source": [
    "weather.isna().sum()"
   ]
  },
  {
   "cell_type": "code",
   "execution_count": 7,
   "metadata": {},
   "outputs": [],
   "source": [
    "weather['RainTomorrow'] = LabelEncoder().fit_transform(weather['RainTomorrow'])"
   ]
  },
  {
   "cell_type": "code",
   "execution_count": 8,
   "metadata": {},
   "outputs": [
    {
     "data": {
      "text/plain": [
       "<matplotlib.axes._subplots.AxesSubplot at 0x1a25591518>"
      ]
     },
     "execution_count": 8,
     "metadata": {},
     "output_type": "execute_result"
    },
    {
     "data": {
      "image/png": "[encoded data removed]",
      "text/plain": [
       "<Figure size 432x288 with 2 Axes>"
      ]
     },
     "metadata": {
      "needs_background": "light"
     },
     "output_type": "display_data"
    }
   ],
   "source": [
    "sns.heatmap(data= weather.isna(), cmap = 'viridis')"
   ]
  },
  {
   "cell_type": "code",
   "execution_count": 9,
   "metadata": {},
   "outputs": [
    {
     "data": {
      "text/html": [
       "<div>\n",
       "<style scoped>\n",
       "    .dataframe tbody tr th:only-of-type {\n",
       "        vertical-align: middle;\n",
       "    }\n",
       "\n",
       "    .dataframe tbody tr th {\n",
       "        vertical-align: top;\n",
       "    }\n",
       "\n",
       "    .dataframe thead th {\n",
       "        text-align: right;\n",
       "    }\n",
       "</style>\n",
       "<table border=\"1\" class=\"dataframe\">\n",
       "  <thead>\n",
       "    <tr style=\"text-align: right;\">\n",
       "      <th></th>\n",
       "      <th>Date</th>\n",
       "      <th>Location</th>\n",
       "      <th>MinTemp</th>\n",
       "      <th>MaxTemp</th>\n",
       "      <th>Rainfall</th>\n",
       "      <th>Evaporation</th>\n",
       "      <th>Sunshine</th>\n",
       "      <th>WindGustDir</th>\n",
       "      <th>WindGustSpeed</th>\n",
       "      <th>WindDir9am</th>\n",
       "      <th>WindDir3pm</th>\n",
       "      <th>WindSpeed9am</th>\n",
       "      <th>WindSpeed3pm</th>\n",
       "      <th>Humidity9am</th>\n",
       "      <th>Humidity3pm</th>\n",
       "      <th>Pressure9am</th>\n",
       "      <th>Pressure3pm</th>\n",
       "      <th>Cloud9am</th>\n",
       "      <th>Cloud3pm</th>\n",
       "      <th>Temp9am</th>\n",
       "      <th>Temp3pm</th>\n",
       "      <th>RainToday</th>\n",
       "      <th>RISK_MM</th>\n",
       "      <th>RainTomorrow</th>\n",
       "    </tr>\n",
       "  </thead>\n",
       "  <tbody>\n",
       "    <tr>\n",
       "      <th>0</th>\n",
       "      <td>2008-12-01</td>\n",
       "      <td>Albury</td>\n",
       "      <td>13.4</td>\n",
       "      <td>22.9</td>\n",
       "      <td>0.6</td>\n",
       "      <td>NaN</td>\n",
       "      <td>NaN</td>\n",
       "      <td>W</td>\n",
       "      <td>44.0</td>\n",
       "      <td>W</td>\n",
       "      <td>WNW</td>\n",
       "      <td>20.0</td>\n",
       "      <td>24.0</td>\n",
       "      <td>71.0</td>\n",
       "      <td>22.0</td>\n",
       "      <td>1007.7</td>\n",
       "      <td>1007.1</td>\n",
       "      <td>8.0</td>\n",
       "      <td>NaN</td>\n",
       "      <td>16.9</td>\n",
       "      <td>21.8</td>\n",
       "      <td>No</td>\n",
       "      <td>0.0</td>\n",
       "      <td>0</td>\n",
       "    </tr>\n",
       "    <tr>\n",
       "      <th>1</th>\n",
       "      <td>2008-12-02</td>\n",
       "      <td>Albury</td>\n",
       "      <td>7.4</td>\n",
       "      <td>25.1</td>\n",
       "      <td>0.0</td>\n",
       "      <td>NaN</td>\n",
       "      <td>NaN</td>\n",
       "      <td>WNW</td>\n",
       "      <td>44.0</td>\n",
       "      <td>NNW</td>\n",
       "      <td>WSW</td>\n",
       "      <td>4.0</td>\n",
       "      <td>22.0</td>\n",
       "      <td>44.0</td>\n",
       "      <td>25.0</td>\n",
       "      <td>1010.6</td>\n",
       "      <td>1007.8</td>\n",
       "      <td>NaN</td>\n",
       "      <td>NaN</td>\n",
       "      <td>17.2</td>\n",
       "      <td>24.3</td>\n",
       "      <td>No</td>\n",
       "      <td>0.0</td>\n",
       "      <td>0</td>\n",
       "    </tr>\n",
       "    <tr>\n",
       "      <th>2</th>\n",
       "      <td>2008-12-03</td>\n",
       "      <td>Albury</td>\n",
       "      <td>12.9</td>\n",
       "      <td>25.7</td>\n",
       "      <td>0.0</td>\n",
       "      <td>NaN</td>\n",
       "      <td>NaN</td>\n",
       "      <td>WSW</td>\n",
       "      <td>46.0</td>\n",
       "      <td>W</td>\n",
       "      <td>WSW</td>\n",
       "      <td>19.0</td>\n",
       "      <td>26.0</td>\n",
       "      <td>38.0</td>\n",
       "      <td>30.0</td>\n",
       "      <td>1007.6</td>\n",
       "      <td>1008.7</td>\n",
       "      <td>NaN</td>\n",
       "      <td>2.0</td>\n",
       "      <td>21.0</td>\n",
       "      <td>23.2</td>\n",
       "      <td>No</td>\n",
       "      <td>0.0</td>\n",
       "      <td>0</td>\n",
       "    </tr>\n",
       "    <tr>\n",
       "      <th>3</th>\n",
       "      <td>2008-12-04</td>\n",
       "      <td>Albury</td>\n",
       "      <td>9.2</td>\n",
       "      <td>28.0</td>\n",
       "      <td>0.0</td>\n",
       "      <td>NaN</td>\n",
       "      <td>NaN</td>\n",
       "      <td>NE</td>\n",
       "      <td>24.0</td>\n",
       "      <td>SE</td>\n",
       "      <td>E</td>\n",
       "      <td>11.0</td>\n",
       "      <td>9.0</td>\n",
       "      <td>45.0</td>\n",
       "      <td>16.0</td>\n",
       "      <td>1017.6</td>\n",
       "      <td>1012.8</td>\n",
       "      <td>NaN</td>\n",
       "      <td>NaN</td>\n",
       "      <td>18.1</td>\n",
       "      <td>26.5</td>\n",
       "      <td>No</td>\n",
       "      <td>1.0</td>\n",
       "      <td>0</td>\n",
       "    </tr>\n",
       "    <tr>\n",
       "      <th>4</th>\n",
       "      <td>2008-12-05</td>\n",
       "      <td>Albury</td>\n",
       "      <td>17.5</td>\n",
       "      <td>32.3</td>\n",
       "      <td>1.0</td>\n",
       "      <td>NaN</td>\n",
       "      <td>NaN</td>\n",
       "      <td>W</td>\n",
       "      <td>41.0</td>\n",
       "      <td>ENE</td>\n",
       "      <td>NW</td>\n",
       "      <td>7.0</td>\n",
       "      <td>20.0</td>\n",
       "      <td>82.0</td>\n",
       "      <td>33.0</td>\n",
       "      <td>1010.8</td>\n",
       "      <td>1006.0</td>\n",
       "      <td>7.0</td>\n",
       "      <td>8.0</td>\n",
       "      <td>17.8</td>\n",
       "      <td>29.7</td>\n",
       "      <td>No</td>\n",
       "      <td>0.2</td>\n",
       "      <td>0</td>\n",
       "    </tr>\n",
       "  </tbody>\n",
       "</table>\n",
       "</div>"
      ],
      "text/plain": [
       "         Date Location  MinTemp  MaxTemp  Rainfall  Evaporation  Sunshine  \\\n",
       "0  2008-12-01   Albury     13.4     22.9       0.6          NaN       NaN   \n",
       "1  2008-12-02   Albury      7.4     25.1       0.0          NaN       NaN   \n",
       "2  2008-12-03   Albury     12.9     25.7       0.0          NaN       NaN   \n",
       "3  2008-12-04   Albury      9.2     28.0       0.0          NaN       NaN   \n",
       "4  2008-12-05   Albury     17.5     32.3       1.0          NaN       NaN   \n",
       "\n",
       "  WindGustDir  WindGustSpeed WindDir9am WindDir3pm  WindSpeed9am  \\\n",
       "0           W           44.0          W        WNW          20.0   \n",
       "1         WNW           44.0        NNW        WSW           4.0   \n",
       "2         WSW           46.0          W        WSW          19.0   \n",
       "3          NE           24.0         SE          E          11.0   \n",
       "4           W           41.0        ENE         NW           7.0   \n",
       "\n",
       "   WindSpeed3pm  Humidity9am  Humidity3pm  Pressure9am  Pressure3pm  Cloud9am  \\\n",
       "0          24.0         71.0         22.0       1007.7       1007.1       8.0   \n",
       "1          22.0         44.0         25.0       1010.6       1007.8       NaN   \n",
       "2          26.0         38.0         30.0       1007.6       1008.7       NaN   \n",
       "3           9.0         45.0         16.0       1017.6       1012.8       NaN   \n",
       "4          20.0         82.0         33.0       1010.8       1006.0       7.0   \n",
       "\n",
       "   Cloud3pm  Temp9am  Temp3pm RainToday  RISK_MM  RainTomorrow  \n",
       "0       NaN     16.9     21.8        No      0.0             0  \n",
       "1       NaN     17.2     24.3        No      0.0             0  \n",
       "2       2.0     21.0     23.2        No      0.0             0  \n",
       "3       NaN     18.1     26.5        No      1.0             0  \n",
       "4       8.0     17.8     29.7        No      0.2             0  "
      ]
     },
     "metadata": {},
     "output_type": "display_data"
    },
    {
     "data": {
      "text/plain": [
       "(140787, 24)"
      ]
     },
     "execution_count": 9,
     "metadata": {},
     "output_type": "execute_result"
    }
   ],
   "source": [
    "#drop nan value in RainToday\n",
    "weather = weather[~weather.RainToday.isna()]\n",
    "display(weather.head())\n",
    "weather.shape"
   ]
  },
  {
   "cell_type": "code",
   "execution_count": 11,
   "metadata": {},
   "outputs": [],
   "source": [
    "# weather = create_RainYesturady(weather)\n",
    "RainYesturady = np.array(weather['RainToday'])\n",
    "RainYesturady = np.insert(RainYesturady,0,3)\n",
    "RainYesturady = np.delete(RainYesturady,-1)"
   ]
  },
  {
   "cell_type": "code",
   "execution_count": 12,
   "metadata": {},
   "outputs": [],
   "source": [
    "weather.insert((len(weather.columns)-1),'RainYesturady', RainYesturady)"
   ]
  },
  {
   "cell_type": "code",
   "execution_count": 13,
   "metadata": {},
   "outputs": [],
   "source": [
    "weather.drop(index=0, inplace = True)"
   ]
  },
  {
   "cell_type": "code",
   "execution_count": 14,
   "metadata": {},
   "outputs": [
    {
     "data": {
      "text/plain": [
       "(140787,)"
      ]
     },
     "execution_count": 14,
     "metadata": {},
     "output_type": "execute_result"
    }
   ],
   "source": [
    "RainYesturady.shape"
   ]
  },
  {
   "cell_type": "code",
   "execution_count": 15,
   "metadata": {},
   "outputs": [
    {
     "data": {
      "text/html": [
       "<div>\n",
       "<style scoped>\n",
       "    .dataframe tbody tr th:only-of-type {\n",
       "        vertical-align: middle;\n",
       "    }\n",
       "\n",
       "    .dataframe tbody tr th {\n",
       "        vertical-align: top;\n",
       "    }\n",
       "\n",
       "    .dataframe thead th {\n",
       "        text-align: right;\n",
       "    }\n",
       "</style>\n",
       "<table border=\"1\" class=\"dataframe\">\n",
       "  <thead>\n",
       "    <tr style=\"text-align: right;\">\n",
       "      <th></th>\n",
       "      <th>Date</th>\n",
       "      <th>Location</th>\n",
       "      <th>MinTemp</th>\n",
       "      <th>MaxTemp</th>\n",
       "      <th>Rainfall</th>\n",
       "      <th>Evaporation</th>\n",
       "      <th>Sunshine</th>\n",
       "      <th>WindGustDir</th>\n",
       "      <th>WindGustSpeed</th>\n",
       "      <th>WindDir9am</th>\n",
       "      <th>WindDir3pm</th>\n",
       "      <th>WindSpeed9am</th>\n",
       "      <th>WindSpeed3pm</th>\n",
       "      <th>Humidity9am</th>\n",
       "      <th>Humidity3pm</th>\n",
       "      <th>Pressure9am</th>\n",
       "      <th>Pressure3pm</th>\n",
       "      <th>Cloud9am</th>\n",
       "      <th>Cloud3pm</th>\n",
       "      <th>Temp9am</th>\n",
       "      <th>Temp3pm</th>\n",
       "      <th>RainToday</th>\n",
       "      <th>RISK_MM</th>\n",
       "      <th>RainYesturady</th>\n",
       "      <th>RainTomorrow</th>\n",
       "    </tr>\n",
       "  </thead>\n",
       "  <tbody>\n",
       "    <tr>\n",
       "      <th>1</th>\n",
       "      <td>2008-12-02</td>\n",
       "      <td>Albury</td>\n",
       "      <td>7.4</td>\n",
       "      <td>25.1</td>\n",
       "      <td>0.0</td>\n",
       "      <td>NaN</td>\n",
       "      <td>NaN</td>\n",
       "      <td>WNW</td>\n",
       "      <td>44.0</td>\n",
       "      <td>NNW</td>\n",
       "      <td>WSW</td>\n",
       "      <td>4.0</td>\n",
       "      <td>22.0</td>\n",
       "      <td>44.0</td>\n",
       "      <td>25.0</td>\n",
       "      <td>1010.6</td>\n",
       "      <td>1007.8</td>\n",
       "      <td>NaN</td>\n",
       "      <td>NaN</td>\n",
       "      <td>17.2</td>\n",
       "      <td>24.3</td>\n",
       "      <td>No</td>\n",
       "      <td>0.0</td>\n",
       "      <td>No</td>\n",
       "      <td>0</td>\n",
       "    </tr>\n",
       "    <tr>\n",
       "      <th>2</th>\n",
       "      <td>2008-12-03</td>\n",
       "      <td>Albury</td>\n",
       "      <td>12.9</td>\n",
       "      <td>25.7</td>\n",
       "      <td>0.0</td>\n",
       "      <td>NaN</td>\n",
       "      <td>NaN</td>\n",
       "      <td>WSW</td>\n",
       "      <td>46.0</td>\n",
       "      <td>W</td>\n",
       "      <td>WSW</td>\n",
       "      <td>19.0</td>\n",
       "      <td>26.0</td>\n",
       "      <td>38.0</td>\n",
       "      <td>30.0</td>\n",
       "      <td>1007.6</td>\n",
       "      <td>1008.7</td>\n",
       "      <td>NaN</td>\n",
       "      <td>2.0</td>\n",
       "      <td>21.0</td>\n",
       "      <td>23.2</td>\n",
       "      <td>No</td>\n",
       "      <td>0.0</td>\n",
       "      <td>No</td>\n",
       "      <td>0</td>\n",
       "    </tr>\n",
       "    <tr>\n",
       "      <th>3</th>\n",
       "      <td>2008-12-04</td>\n",
       "      <td>Albury</td>\n",
       "      <td>9.2</td>\n",
       "      <td>28.0</td>\n",
       "      <td>0.0</td>\n",
       "      <td>NaN</td>\n",
       "      <td>NaN</td>\n",
       "      <td>NE</td>\n",
       "      <td>24.0</td>\n",
       "      <td>SE</td>\n",
       "      <td>E</td>\n",
       "      <td>11.0</td>\n",
       "      <td>9.0</td>\n",
       "      <td>45.0</td>\n",
       "      <td>16.0</td>\n",
       "      <td>1017.6</td>\n",
       "      <td>1012.8</td>\n",
       "      <td>NaN</td>\n",
       "      <td>NaN</td>\n",
       "      <td>18.1</td>\n",
       "      <td>26.5</td>\n",
       "      <td>No</td>\n",
       "      <td>1.0</td>\n",
       "      <td>No</td>\n",
       "      <td>0</td>\n",
       "    </tr>\n",
       "    <tr>\n",
       "      <th>4</th>\n",
       "      <td>2008-12-05</td>\n",
       "      <td>Albury</td>\n",
       "      <td>17.5</td>\n",
       "      <td>32.3</td>\n",
       "      <td>1.0</td>\n",
       "      <td>NaN</td>\n",
       "      <td>NaN</td>\n",
       "      <td>W</td>\n",
       "      <td>41.0</td>\n",
       "      <td>ENE</td>\n",
       "      <td>NW</td>\n",
       "      <td>7.0</td>\n",
       "      <td>20.0</td>\n",
       "      <td>82.0</td>\n",
       "      <td>33.0</td>\n",
       "      <td>1010.8</td>\n",
       "      <td>1006.0</td>\n",
       "      <td>7.0</td>\n",
       "      <td>8.0</td>\n",
       "      <td>17.8</td>\n",
       "      <td>29.7</td>\n",
       "      <td>No</td>\n",
       "      <td>0.2</td>\n",
       "      <td>No</td>\n",
       "      <td>0</td>\n",
       "    </tr>\n",
       "    <tr>\n",
       "      <th>5</th>\n",
       "      <td>2008-12-06</td>\n",
       "      <td>Albury</td>\n",
       "      <td>14.6</td>\n",
       "      <td>29.7</td>\n",
       "      <td>0.2</td>\n",
       "      <td>NaN</td>\n",
       "      <td>NaN</td>\n",
       "      <td>WNW</td>\n",
       "      <td>56.0</td>\n",
       "      <td>W</td>\n",
       "      <td>W</td>\n",
       "      <td>19.0</td>\n",
       "      <td>24.0</td>\n",
       "      <td>55.0</td>\n",
       "      <td>23.0</td>\n",
       "      <td>1009.2</td>\n",
       "      <td>1005.4</td>\n",
       "      <td>NaN</td>\n",
       "      <td>NaN</td>\n",
       "      <td>20.6</td>\n",
       "      <td>28.9</td>\n",
       "      <td>No</td>\n",
       "      <td>0.0</td>\n",
       "      <td>No</td>\n",
       "      <td>0</td>\n",
       "    </tr>\n",
       "    <tr>\n",
       "      <th>6</th>\n",
       "      <td>2008-12-07</td>\n",
       "      <td>Albury</td>\n",
       "      <td>14.3</td>\n",
       "      <td>25.0</td>\n",
       "      <td>0.0</td>\n",
       "      <td>NaN</td>\n",
       "      <td>NaN</td>\n",
       "      <td>W</td>\n",
       "      <td>50.0</td>\n",
       "      <td>SW</td>\n",
       "      <td>W</td>\n",
       "      <td>20.0</td>\n",
       "      <td>24.0</td>\n",
       "      <td>49.0</td>\n",
       "      <td>19.0</td>\n",
       "      <td>1009.6</td>\n",
       "      <td>1008.2</td>\n",
       "      <td>1.0</td>\n",
       "      <td>NaN</td>\n",
       "      <td>18.1</td>\n",
       "      <td>24.6</td>\n",
       "      <td>No</td>\n",
       "      <td>0.0</td>\n",
       "      <td>No</td>\n",
       "      <td>0</td>\n",
       "    </tr>\n",
       "    <tr>\n",
       "      <th>7</th>\n",
       "      <td>2008-12-08</td>\n",
       "      <td>Albury</td>\n",
       "      <td>7.7</td>\n",
       "      <td>26.7</td>\n",
       "      <td>0.0</td>\n",
       "      <td>NaN</td>\n",
       "      <td>NaN</td>\n",
       "      <td>W</td>\n",
       "      <td>35.0</td>\n",
       "      <td>SSE</td>\n",
       "      <td>W</td>\n",
       "      <td>6.0</td>\n",
       "      <td>17.0</td>\n",
       "      <td>48.0</td>\n",
       "      <td>19.0</td>\n",
       "      <td>1013.4</td>\n",
       "      <td>1010.1</td>\n",
       "      <td>NaN</td>\n",
       "      <td>NaN</td>\n",
       "      <td>16.3</td>\n",
       "      <td>25.5</td>\n",
       "      <td>No</td>\n",
       "      <td>0.0</td>\n",
       "      <td>No</td>\n",
       "      <td>0</td>\n",
       "    </tr>\n",
       "    <tr>\n",
       "      <th>8</th>\n",
       "      <td>2008-12-09</td>\n",
       "      <td>Albury</td>\n",
       "      <td>9.7</td>\n",
       "      <td>31.9</td>\n",
       "      <td>0.0</td>\n",
       "      <td>NaN</td>\n",
       "      <td>NaN</td>\n",
       "      <td>NNW</td>\n",
       "      <td>80.0</td>\n",
       "      <td>SE</td>\n",
       "      <td>NW</td>\n",
       "      <td>7.0</td>\n",
       "      <td>28.0</td>\n",
       "      <td>42.0</td>\n",
       "      <td>9.0</td>\n",
       "      <td>1008.9</td>\n",
       "      <td>1003.6</td>\n",
       "      <td>NaN</td>\n",
       "      <td>NaN</td>\n",
       "      <td>18.3</td>\n",
       "      <td>30.2</td>\n",
       "      <td>No</td>\n",
       "      <td>1.4</td>\n",
       "      <td>No</td>\n",
       "      <td>1</td>\n",
       "    </tr>\n",
       "    <tr>\n",
       "      <th>9</th>\n",
       "      <td>2008-12-10</td>\n",
       "      <td>Albury</td>\n",
       "      <td>13.1</td>\n",
       "      <td>30.1</td>\n",
       "      <td>1.4</td>\n",
       "      <td>NaN</td>\n",
       "      <td>NaN</td>\n",
       "      <td>W</td>\n",
       "      <td>28.0</td>\n",
       "      <td>S</td>\n",
       "      <td>SSE</td>\n",
       "      <td>15.0</td>\n",
       "      <td>11.0</td>\n",
       "      <td>58.0</td>\n",
       "      <td>27.0</td>\n",
       "      <td>1007.0</td>\n",
       "      <td>1005.7</td>\n",
       "      <td>NaN</td>\n",
       "      <td>NaN</td>\n",
       "      <td>20.1</td>\n",
       "      <td>28.2</td>\n",
       "      <td>Yes</td>\n",
       "      <td>0.0</td>\n",
       "      <td>No</td>\n",
       "      <td>0</td>\n",
       "    </tr>\n",
       "    <tr>\n",
       "      <th>10</th>\n",
       "      <td>2008-12-11</td>\n",
       "      <td>Albury</td>\n",
       "      <td>13.4</td>\n",
       "      <td>30.4</td>\n",
       "      <td>0.0</td>\n",
       "      <td>NaN</td>\n",
       "      <td>NaN</td>\n",
       "      <td>N</td>\n",
       "      <td>30.0</td>\n",
       "      <td>SSE</td>\n",
       "      <td>ESE</td>\n",
       "      <td>17.0</td>\n",
       "      <td>6.0</td>\n",
       "      <td>48.0</td>\n",
       "      <td>22.0</td>\n",
       "      <td>1011.8</td>\n",
       "      <td>1008.7</td>\n",
       "      <td>NaN</td>\n",
       "      <td>NaN</td>\n",
       "      <td>20.4</td>\n",
       "      <td>28.8</td>\n",
       "      <td>No</td>\n",
       "      <td>2.2</td>\n",
       "      <td>Yes</td>\n",
       "      <td>1</td>\n",
       "    </tr>\n",
       "  </tbody>\n",
       "</table>\n",
       "</div>"
      ],
      "text/plain": [
       "          Date Location  MinTemp  MaxTemp  Rainfall  Evaporation  Sunshine  \\\n",
       "1   2008-12-02   Albury      7.4     25.1       0.0          NaN       NaN   \n",
       "2   2008-12-03   Albury     12.9     25.7       0.0          NaN       NaN   \n",
       "3   2008-12-04   Albury      9.2     28.0       0.0          NaN       NaN   \n",
       "4   2008-12-05   Albury     17.5     32.3       1.0          NaN       NaN   \n",
       "5   2008-12-06   Albury     14.6     29.7       0.2          NaN       NaN   \n",
       "6   2008-12-07   Albury     14.3     25.0       0.0          NaN       NaN   \n",
       "7   2008-12-08   Albury      7.7     26.7       0.0          NaN       NaN   \n",
       "8   2008-12-09   Albury      9.7     31.9       0.0          NaN       NaN   \n",
       "9   2008-12-10   Albury     13.1     30.1       1.4          NaN       NaN   \n",
       "10  2008-12-11   Albury     13.4     30.4       0.0          NaN       NaN   \n",
       "\n",
       "   WindGustDir  WindGustSpeed WindDir9am WindDir3pm  WindSpeed9am  \\\n",
       "1          WNW           44.0        NNW        WSW           4.0   \n",
       "2          WSW           46.0          W        WSW          19.0   \n",
       "3           NE           24.0         SE          E          11.0   \n",
       "4            W           41.0        ENE         NW           7.0   \n",
       "5          WNW           56.0          W          W          19.0   \n",
       "6            W           50.0         SW          W          20.0   \n",
       "7            W           35.0        SSE          W           6.0   \n",
       "8          NNW           80.0         SE         NW           7.0   \n",
       "9            W           28.0          S        SSE          15.0   \n",
       "10           N           30.0        SSE        ESE          17.0   \n",
       "\n",
       "    WindSpeed3pm  Humidity9am  Humidity3pm  Pressure9am  Pressure3pm  \\\n",
       "1           22.0         44.0         25.0       1010.6       1007.8   \n",
       "2           26.0         38.0         30.0       1007.6       1008.7   \n",
       "3            9.0         45.0         16.0       1017.6       1012.8   \n",
       "4           20.0         82.0         33.0       1010.8       1006.0   \n",
       "5           24.0         55.0         23.0       1009.2       1005.4   \n",
       "6           24.0         49.0         19.0       1009.6       1008.2   \n",
       "7           17.0         48.0         19.0       1013.4       1010.1   \n",
       "8           28.0         42.0          9.0       1008.9       1003.6   \n",
       "9           11.0         58.0         27.0       1007.0       1005.7   \n",
       "10           6.0         48.0         22.0       1011.8       1008.7   \n",
       "\n",
       "    Cloud9am  Cloud3pm  Temp9am  Temp3pm RainToday  RISK_MM RainYesturady  \\\n",
       "1        NaN       NaN     17.2     24.3        No      0.0            No   \n",
       "2        NaN       2.0     21.0     23.2        No      0.0            No   \n",
       "3        NaN       NaN     18.1     26.5        No      1.0            No   \n",
       "4        7.0       8.0     17.8     29.7        No      0.2            No   \n",
       "5        NaN       NaN     20.6     28.9        No      0.0            No   \n",
       "6        1.0       NaN     18.1     24.6        No      0.0            No   \n",
       "7        NaN       NaN     16.3     25.5        No      0.0            No   \n",
       "8        NaN       NaN     18.3     30.2        No      1.4            No   \n",
       "9        NaN       NaN     20.1     28.2       Yes      0.0            No   \n",
       "10       NaN       NaN     20.4     28.8        No      2.2           Yes   \n",
       "\n",
       "    RainTomorrow  \n",
       "1              0  \n",
       "2              0  \n",
       "3              0  \n",
       "4              0  \n",
       "5              0  \n",
       "6              0  \n",
       "7              0  \n",
       "8              1  \n",
       "9              0  \n",
       "10             1  "
      ]
     },
     "metadata": {},
     "output_type": "display_data"
    },
    {
     "data": {
      "text/plain": [
       "(140786, 25)"
      ]
     },
     "execution_count": 15,
     "metadata": {},
     "output_type": "execute_result"
    }
   ],
   "source": [
    "display(weather.head(10))\n",
    "weather.shape"
   ]
  },
  {
   "cell_type": "markdown",
   "metadata": {},
   "source": [
    "# Feature Selection"
   ]
  },
  {
   "cell_type": "code",
   "execution_count": 25,
   "metadata": {},
   "outputs": [],
   "source": [
    "weather_for_selection = weather.drop(['RISK_MM'], axis = 1)"
   ]
  },
  {
   "cell_type": "code",
   "execution_count": 26,
   "metadata": {},
   "outputs": [
    {
     "data": {
      "text/plain": [
       "(140786, 24)"
      ]
     },
     "execution_count": 26,
     "metadata": {},
     "output_type": "execute_result"
    }
   ],
   "source": [
    "weather_for_selection.shape"
   ]
  },
  {
   "cell_type": "code",
   "execution_count": 27,
   "metadata": {},
   "outputs": [],
   "source": [
    "#change date to month\n",
    "weather_for_selection['Date'] = weather_for_selection['Date'].astype('datetime64')\n",
    "weather_for_selection['Date'] = weather_for_selection['Date'].dt.month\n",
    "weather_for_selection.rename(columns = {'Date':'Month'}, inplace = True)"
   ]
  },
  {
   "cell_type": "code",
   "execution_count": 28,
   "metadata": {},
   "outputs": [],
   "source": [
    "remove_all_nan = weather_for_selection[~weather_for_selection.isna()]"
   ]
  },
  {
   "cell_type": "code",
   "execution_count": 29,
   "metadata": {},
   "outputs": [],
   "source": [
    "#split features into two lists based on their datatype\n",
    "def split_col(dataframe):\n",
    "    categorical_features = []\n",
    "    numerical_features = []\n",
    "    for i in dataframe.columns.values:\n",
    "        if dataframe[i].dtypes != 'object':\n",
    "            numerical_features.append(i)\n",
    "        else:\n",
    "            categorical_features.append(i)\n",
    "    return categorical_features, numerical_features"
   ]
  },
  {
   "cell_type": "code",
   "execution_count": 30,
   "metadata": {},
   "outputs": [
    {
     "data": {
      "text/html": [
       "<div>\n",
       "<style scoped>\n",
       "    .dataframe tbody tr th:only-of-type {\n",
       "        vertical-align: middle;\n",
       "    }\n",
       "\n",
       "    .dataframe tbody tr th {\n",
       "        vertical-align: top;\n",
       "    }\n",
       "\n",
       "    .dataframe thead th {\n",
       "        text-align: right;\n",
       "    }\n",
       "</style>\n",
       "<table border=\"1\" class=\"dataframe\">\n",
       "  <thead>\n",
       "    <tr style=\"text-align: right;\">\n",
       "      <th></th>\n",
       "      <th>Month</th>\n",
       "      <th>Location</th>\n",
       "      <th>MinTemp</th>\n",
       "      <th>MaxTemp</th>\n",
       "      <th>Rainfall</th>\n",
       "      <th>Evaporation</th>\n",
       "      <th>Sunshine</th>\n",
       "      <th>WindGustDir</th>\n",
       "      <th>WindGustSpeed</th>\n",
       "      <th>WindDir9am</th>\n",
       "      <th>WindDir3pm</th>\n",
       "      <th>WindSpeed9am</th>\n",
       "      <th>WindSpeed3pm</th>\n",
       "      <th>Humidity9am</th>\n",
       "      <th>Humidity3pm</th>\n",
       "      <th>Pressure9am</th>\n",
       "      <th>Pressure3pm</th>\n",
       "      <th>Cloud9am</th>\n",
       "      <th>Cloud3pm</th>\n",
       "      <th>Temp9am</th>\n",
       "      <th>Temp3pm</th>\n",
       "      <th>RainToday</th>\n",
       "      <th>RainYesturady</th>\n",
       "      <th>RainTomorrow</th>\n",
       "    </tr>\n",
       "  </thead>\n",
       "  <tbody>\n",
       "    <tr>\n",
       "      <th>1</th>\n",
       "      <td>12</td>\n",
       "      <td>Albury</td>\n",
       "      <td>7.4</td>\n",
       "      <td>25.1</td>\n",
       "      <td>0.0</td>\n",
       "      <td>NaN</td>\n",
       "      <td>NaN</td>\n",
       "      <td>WNW</td>\n",
       "      <td>44.0</td>\n",
       "      <td>NNW</td>\n",
       "      <td>WSW</td>\n",
       "      <td>4.0</td>\n",
       "      <td>22.0</td>\n",
       "      <td>44.0</td>\n",
       "      <td>25.0</td>\n",
       "      <td>1010.6</td>\n",
       "      <td>1007.8</td>\n",
       "      <td>NaN</td>\n",
       "      <td>NaN</td>\n",
       "      <td>17.2</td>\n",
       "      <td>24.3</td>\n",
       "      <td>No</td>\n",
       "      <td>No</td>\n",
       "      <td>0</td>\n",
       "    </tr>\n",
       "    <tr>\n",
       "      <th>2</th>\n",
       "      <td>12</td>\n",
       "      <td>Albury</td>\n",
       "      <td>12.9</td>\n",
       "      <td>25.7</td>\n",
       "      <td>0.0</td>\n",
       "      <td>NaN</td>\n",
       "      <td>NaN</td>\n",
       "      <td>WSW</td>\n",
       "      <td>46.0</td>\n",
       "      <td>W</td>\n",
       "      <td>WSW</td>\n",
       "      <td>19.0</td>\n",
       "      <td>26.0</td>\n",
       "      <td>38.0</td>\n",
       "      <td>30.0</td>\n",
       "      <td>1007.6</td>\n",
       "      <td>1008.7</td>\n",
       "      <td>NaN</td>\n",
       "      <td>2.0</td>\n",
       "      <td>21.0</td>\n",
       "      <td>23.2</td>\n",
       "      <td>No</td>\n",
       "      <td>No</td>\n",
       "      <td>0</td>\n",
       "    </tr>\n",
       "    <tr>\n",
       "      <th>3</th>\n",
       "      <td>12</td>\n",
       "      <td>Albury</td>\n",
       "      <td>9.2</td>\n",
       "      <td>28.0</td>\n",
       "      <td>0.0</td>\n",
       "      <td>NaN</td>\n",
       "      <td>NaN</td>\n",
       "      <td>NE</td>\n",
       "      <td>24.0</td>\n",
       "      <td>SE</td>\n",
       "      <td>E</td>\n",
       "      <td>11.0</td>\n",
       "      <td>9.0</td>\n",
       "      <td>45.0</td>\n",
       "      <td>16.0</td>\n",
       "      <td>1017.6</td>\n",
       "      <td>1012.8</td>\n",
       "      <td>NaN</td>\n",
       "      <td>NaN</td>\n",
       "      <td>18.1</td>\n",
       "      <td>26.5</td>\n",
       "      <td>No</td>\n",
       "      <td>No</td>\n",
       "      <td>0</td>\n",
       "    </tr>\n",
       "    <tr>\n",
       "      <th>4</th>\n",
       "      <td>12</td>\n",
       "      <td>Albury</td>\n",
       "      <td>17.5</td>\n",
       "      <td>32.3</td>\n",
       "      <td>1.0</td>\n",
       "      <td>NaN</td>\n",
       "      <td>NaN</td>\n",
       "      <td>W</td>\n",
       "      <td>41.0</td>\n",
       "      <td>ENE</td>\n",
       "      <td>NW</td>\n",
       "      <td>7.0</td>\n",
       "      <td>20.0</td>\n",
       "      <td>82.0</td>\n",
       "      <td>33.0</td>\n",
       "      <td>1010.8</td>\n",
       "      <td>1006.0</td>\n",
       "      <td>7.0</td>\n",
       "      <td>8.0</td>\n",
       "      <td>17.8</td>\n",
       "      <td>29.7</td>\n",
       "      <td>No</td>\n",
       "      <td>No</td>\n",
       "      <td>0</td>\n",
       "    </tr>\n",
       "    <tr>\n",
       "      <th>5</th>\n",
       "      <td>12</td>\n",
       "      <td>Albury</td>\n",
       "      <td>14.6</td>\n",
       "      <td>29.7</td>\n",
       "      <td>0.2</td>\n",
       "      <td>NaN</td>\n",
       "      <td>NaN</td>\n",
       "      <td>WNW</td>\n",
       "      <td>56.0</td>\n",
       "      <td>W</td>\n",
       "      <td>W</td>\n",
       "      <td>19.0</td>\n",
       "      <td>24.0</td>\n",
       "      <td>55.0</td>\n",
       "      <td>23.0</td>\n",
       "      <td>1009.2</td>\n",
       "      <td>1005.4</td>\n",
       "      <td>NaN</td>\n",
       "      <td>NaN</td>\n",
       "      <td>20.6</td>\n",
       "      <td>28.9</td>\n",
       "      <td>No</td>\n",
       "      <td>No</td>\n",
       "      <td>0</td>\n",
       "    </tr>\n",
       "  </tbody>\n",
       "</table>\n",
       "</div>"
      ],
      "text/plain": [
       "   Month Location  MinTemp  MaxTemp  Rainfall  Evaporation  Sunshine  \\\n",
       "1     12   Albury      7.4     25.1       0.0          NaN       NaN   \n",
       "2     12   Albury     12.9     25.7       0.0          NaN       NaN   \n",
       "3     12   Albury      9.2     28.0       0.0          NaN       NaN   \n",
       "4     12   Albury     17.5     32.3       1.0          NaN       NaN   \n",
       "5     12   Albury     14.6     29.7       0.2          NaN       NaN   \n",
       "\n",
       "  WindGustDir  WindGustSpeed WindDir9am WindDir3pm  WindSpeed9am  \\\n",
       "1         WNW           44.0        NNW        WSW           4.0   \n",
       "2         WSW           46.0          W        WSW          19.0   \n",
       "3          NE           24.0         SE          E          11.0   \n",
       "4           W           41.0        ENE         NW           7.0   \n",
       "5         WNW           56.0          W          W          19.0   \n",
       "\n",
       "   WindSpeed3pm  Humidity9am  Humidity3pm  Pressure9am  Pressure3pm  Cloud9am  \\\n",
       "1          22.0         44.0         25.0       1010.6       1007.8       NaN   \n",
       "2          26.0         38.0         30.0       1007.6       1008.7       NaN   \n",
       "3           9.0         45.0         16.0       1017.6       1012.8       NaN   \n",
       "4          20.0         82.0         33.0       1010.8       1006.0       7.0   \n",
       "5          24.0         55.0         23.0       1009.2       1005.4       NaN   \n",
       "\n",
       "   Cloud3pm  Temp9am  Temp3pm RainToday RainYesturady  RainTomorrow  \n",
       "1       NaN     17.2     24.3        No            No             0  \n",
       "2       2.0     21.0     23.2        No            No             0  \n",
       "3       NaN     18.1     26.5        No            No             0  \n",
       "4       8.0     17.8     29.7        No            No             0  \n",
       "5       NaN     20.6     28.9        No            No             0  "
      ]
     },
     "metadata": {},
     "output_type": "display_data"
    }
   ],
   "source": [
    "display(weather_for_selection.head())\n",
    "category_f, numerical_f = split_col(remove_all_nan.iloc[:,:-1])"
   ]
  },
  {
   "cell_type": "markdown",
   "metadata": {},
   "source": [
    "### Look at the replationship between each feature and the target variable"
   ]
  },
  {
   "cell_type": "code",
   "execution_count": 31,
   "metadata": {},
   "outputs": [],
   "source": [
    "def selection_catergory(category_f):\n",
    "    result = []\n",
    "    for i in np.arange(len(category_f)):\n",
    "        x = remove_all_nan[~remove_all_nan[category_f[i]].isna()]\n",
    "        feature = LabelEncoder().fit_transform(x[category_f[i]])\n",
    "        label = x['RainTomorrow']\n",
    "        fstat, pval = chi2(feature.reshape(-1,1), label)\n",
    "        mi = mutual_info_classif(feature.reshape(-1,1), label)\n",
    "        result.append([category_f[i], round(fstat[0],5), round(pval[0],5), round(mi[0],5)])\n",
    "    return pd.DataFrame(result, columns =['Category_f', 'Chi2', 'Pval', 'MI'])\n",
    "\n",
    "def selection_number(numerical_f):\n",
    "    result = []\n",
    "    for i in np.arange(len(numerical_f)):\n",
    "        x = remove_all_nan[~remove_all_nan[numerical_f[i]].isna()]\n",
    "        feature = StandardScaler().fit_transform(x[[numerical_f[i]]])\n",
    "        label = x['RainTomorrow']\n",
    "        fstat, pval = f_classif(feature.reshape(-1,1), label)\n",
    "        mi = mutual_info_classif(feature.reshape(-1,1), label)\n",
    "        result.append([numerical_f[i], round(fstat[0],5), round(pval[0],5), round(mi[0],5)])\n",
    "    return pd.DataFrame(result, columns =['Number_f', 'Fstat', 'Pval', 'MI'])"
   ]
  },
  {
   "cell_type": "code",
   "execution_count": 32,
   "metadata": {},
   "outputs": [
    {
     "data": {
      "text/html": [
       "<div>\n",
       "<style scoped>\n",
       "    .dataframe tbody tr th:only-of-type {\n",
       "        vertical-align: middle;\n",
       "    }\n",
       "\n",
       "    .dataframe tbody tr th {\n",
       "        vertical-align: top;\n",
       "    }\n",
       "\n",
       "    .dataframe thead th {\n",
       "        text-align: right;\n",
       "    }\n",
       "</style>\n",
       "<table border=\"1\" class=\"dataframe\">\n",
       "  <thead>\n",
       "    <tr style=\"text-align: right;\">\n",
       "      <th></th>\n",
       "      <th>Category_f</th>\n",
       "      <th>Chi2</th>\n",
       "      <th>Pval</th>\n",
       "      <th>MI</th>\n",
       "    </tr>\n",
       "  </thead>\n",
       "  <tbody>\n",
       "    <tr>\n",
       "      <th>0</th>\n",
       "      <td>Location</td>\n",
       "      <td>33.52780</td>\n",
       "      <td>0.0</td>\n",
       "      <td>0.01455</td>\n",
       "    </tr>\n",
       "    <tr>\n",
       "      <th>1</th>\n",
       "      <td>WindGustDir</td>\n",
       "      <td>920.22286</td>\n",
       "      <td>0.0</td>\n",
       "      <td>0.00676</td>\n",
       "    </tr>\n",
       "    <tr>\n",
       "      <th>2</th>\n",
       "      <td>WindDir9am</td>\n",
       "      <td>383.52921</td>\n",
       "      <td>0.0</td>\n",
       "      <td>0.00907</td>\n",
       "    </tr>\n",
       "    <tr>\n",
       "      <th>3</th>\n",
       "      <td>WindDir3pm</td>\n",
       "      <td>324.81925</td>\n",
       "      <td>0.0</td>\n",
       "      <td>0.00630</td>\n",
       "    </tr>\n",
       "    <tr>\n",
       "      <th>4</th>\n",
       "      <td>RainToday</td>\n",
       "      <td>10717.57554</td>\n",
       "      <td>0.0</td>\n",
       "      <td>0.04337</td>\n",
       "    </tr>\n",
       "    <tr>\n",
       "      <th>5</th>\n",
       "      <td>RainYesturady</td>\n",
       "      <td>2391.01837</td>\n",
       "      <td>0.0</td>\n",
       "      <td>0.00912</td>\n",
       "    </tr>\n",
       "  </tbody>\n",
       "</table>\n",
       "</div>"
      ],
      "text/plain": [
       "      Category_f         Chi2  Pval       MI\n",
       "0       Location     33.52780   0.0  0.01455\n",
       "1    WindGustDir    920.22286   0.0  0.00676\n",
       "2     WindDir9am    383.52921   0.0  0.00907\n",
       "3     WindDir3pm    324.81925   0.0  0.00630\n",
       "4      RainToday  10717.57554   0.0  0.04337\n",
       "5  RainYesturady   2391.01837   0.0  0.00912"
      ]
     },
     "metadata": {},
     "output_type": "display_data"
    },
    {
     "data": {
      "text/html": [
       "<div>\n",
       "<style scoped>\n",
       "    .dataframe tbody tr th:only-of-type {\n",
       "        vertical-align: middle;\n",
       "    }\n",
       "\n",
       "    .dataframe tbody tr th {\n",
       "        vertical-align: top;\n",
       "    }\n",
       "\n",
       "    .dataframe thead th {\n",
       "        text-align: right;\n",
       "    }\n",
       "</style>\n",
       "<table border=\"1\" class=\"dataframe\">\n",
       "  <thead>\n",
       "    <tr style=\"text-align: right;\">\n",
       "      <th></th>\n",
       "      <th>Number_f</th>\n",
       "      <th>Fstat</th>\n",
       "      <th>Pval</th>\n",
       "      <th>MI</th>\n",
       "    </tr>\n",
       "  </thead>\n",
       "  <tbody>\n",
       "    <tr>\n",
       "      <th>0</th>\n",
       "      <td>Month</td>\n",
       "      <td>7.29448</td>\n",
       "      <td>0.00692</td>\n",
       "      <td>0.00293</td>\n",
       "    </tr>\n",
       "    <tr>\n",
       "      <th>1</th>\n",
       "      <td>MinTemp</td>\n",
       "      <td>1004.84990</td>\n",
       "      <td>0.00000</td>\n",
       "      <td>0.00532</td>\n",
       "    </tr>\n",
       "    <tr>\n",
       "      <th>2</th>\n",
       "      <td>MaxTemp</td>\n",
       "      <td>3662.61380</td>\n",
       "      <td>0.00000</td>\n",
       "      <td>0.01475</td>\n",
       "    </tr>\n",
       "    <tr>\n",
       "      <th>3</th>\n",
       "      <td>Rainfall</td>\n",
       "      <td>8531.27144</td>\n",
       "      <td>0.00000</td>\n",
       "      <td>0.05850</td>\n",
       "    </tr>\n",
       "    <tr>\n",
       "      <th>4</th>\n",
       "      <td>Evaporation</td>\n",
       "      <td>1167.46923</td>\n",
       "      <td>0.00000</td>\n",
       "      <td>0.01196</td>\n",
       "    </tr>\n",
       "    <tr>\n",
       "      <th>5</th>\n",
       "      <td>Sunshine</td>\n",
       "      <td>18976.15330</td>\n",
       "      <td>0.00000</td>\n",
       "      <td>0.11192</td>\n",
       "    </tr>\n",
       "    <tr>\n",
       "      <th>6</th>\n",
       "      <td>WindGustSpeed</td>\n",
       "      <td>7647.64315</td>\n",
       "      <td>0.00000</td>\n",
       "      <td>0.02728</td>\n",
       "    </tr>\n",
       "    <tr>\n",
       "      <th>7</th>\n",
       "      <td>WindSpeed9am</td>\n",
       "      <td>1136.09843</td>\n",
       "      <td>0.00000</td>\n",
       "      <td>0.00509</td>\n",
       "    </tr>\n",
       "    <tr>\n",
       "      <th>8</th>\n",
       "      <td>WindSpeed3pm</td>\n",
       "      <td>1048.67875</td>\n",
       "      <td>0.00000</td>\n",
       "      <td>0.00558</td>\n",
       "    </tr>\n",
       "    <tr>\n",
       "      <th>9</th>\n",
       "      <td>Humidity9am</td>\n",
       "      <td>9908.80656</td>\n",
       "      <td>0.00000</td>\n",
       "      <td>0.03838</td>\n",
       "    </tr>\n",
       "    <tr>\n",
       "      <th>10</th>\n",
       "      <td>Humidity3pm</td>\n",
       "      <td>34439.51676</td>\n",
       "      <td>0.00000</td>\n",
       "      <td>0.11672</td>\n",
       "    </tr>\n",
       "    <tr>\n",
       "      <th>11</th>\n",
       "      <td>Pressure9am</td>\n",
       "      <td>8344.24915</td>\n",
       "      <td>0.00000</td>\n",
       "      <td>0.03106</td>\n",
       "    </tr>\n",
       "    <tr>\n",
       "      <th>12</th>\n",
       "      <td>Pressure3pm</td>\n",
       "      <td>6977.58924</td>\n",
       "      <td>0.00000</td>\n",
       "      <td>0.02847</td>\n",
       "    </tr>\n",
       "    <tr>\n",
       "      <th>13</th>\n",
       "      <td>Cloud9am</td>\n",
       "      <td>9821.32258</td>\n",
       "      <td>0.00000</td>\n",
       "      <td>0.05880</td>\n",
       "    </tr>\n",
       "    <tr>\n",
       "      <th>14</th>\n",
       "      <td>Cloud3pm</td>\n",
       "      <td>14507.05202</td>\n",
       "      <td>0.00000</td>\n",
       "      <td>0.08773</td>\n",
       "    </tr>\n",
       "    <tr>\n",
       "      <th>15</th>\n",
       "      <td>Temp9am</td>\n",
       "      <td>90.79751</td>\n",
       "      <td>0.00000</td>\n",
       "      <td>0.00295</td>\n",
       "    </tr>\n",
       "    <tr>\n",
       "      <th>16</th>\n",
       "      <td>Temp3pm</td>\n",
       "      <td>5330.88910</td>\n",
       "      <td>0.00000</td>\n",
       "      <td>0.01942</td>\n",
       "    </tr>\n",
       "  </tbody>\n",
       "</table>\n",
       "</div>"
      ],
      "text/plain": [
       "         Number_f        Fstat     Pval       MI\n",
       "0           Month      7.29448  0.00692  0.00293\n",
       "1         MinTemp   1004.84990  0.00000  0.00532\n",
       "2         MaxTemp   3662.61380  0.00000  0.01475\n",
       "3        Rainfall   8531.27144  0.00000  0.05850\n",
       "4     Evaporation   1167.46923  0.00000  0.01196\n",
       "5        Sunshine  18976.15330  0.00000  0.11192\n",
       "6   WindGustSpeed   7647.64315  0.00000  0.02728\n",
       "7    WindSpeed9am   1136.09843  0.00000  0.00509\n",
       "8    WindSpeed3pm   1048.67875  0.00000  0.00558\n",
       "9     Humidity9am   9908.80656  0.00000  0.03838\n",
       "10    Humidity3pm  34439.51676  0.00000  0.11672\n",
       "11    Pressure9am   8344.24915  0.00000  0.03106\n",
       "12    Pressure3pm   6977.58924  0.00000  0.02847\n",
       "13       Cloud9am   9821.32258  0.00000  0.05880\n",
       "14       Cloud3pm  14507.05202  0.00000  0.08773\n",
       "15        Temp9am     90.79751  0.00000  0.00295\n",
       "16        Temp3pm   5330.88910  0.00000  0.01942"
      ]
     },
     "metadata": {},
     "output_type": "display_data"
    }
   ],
   "source": [
    "result1 = selection_catergory(category_f)\n",
    "result2 = selection_number(numerical_f)\n",
    "display(result1)\n",
    "display(result2)"
   ]
  },
  {
   "cell_type": "code",
   "execution_count": 133,
   "metadata": {},
   "outputs": [
    {
     "data": {
      "text/plain": [
       "<matplotlib.legend.Legend at 0x1a45253fd0>"
      ]
     },
     "execution_count": 133,
     "metadata": {},
     "output_type": "execute_result"
    },
    {
     "data": {
      "image/png": "[encoded data removed]",
      "text/plain": [
       "<Figure size 1440x720 with 1 Axes>"
      ]
     },
     "metadata": {},
     "output_type": "display_data"
    },
    {
     "data": {
      "image/png": "[encoded data removed]",
      "text/plain": [
       "<Figure size 1440x720 with 1 Axes>"
      ]
     },
     "metadata": {},
     "output_type": "display_data"
    }
   ],
   "source": [
    "fig = plt.figure(figsize = (20,10))\n",
    "ax = fig.add_subplot(111)\n",
    "ax.plot(result1['Category_f'], result1['Pval'], label = 'Category_Pval', linewidth = 3)\n",
    "ax.plot(result1['Category_f'], [0.05]*6, linestyle = '--', label = 'Pval_Benchmark', linewidth = 3)\n",
    "plt.tick_params(axis = 'x',rotation = 30)\n",
    "plt.xlabel('Categorical_features')\n",
    "plt.ylabel('P-value')\n",
    "plt.legend()\n",
    "\n",
    "fig2 = plt.figure(figsize = (20,10))\n",
    "ax2 = fig2.add_subplot(111)\n",
    "ax2.plot(result2['Number_f'], result2['Pval'],label = 'Number_Pval', linewidth = 3)\n",
    "ax2.plot(result2['Number_f'], [0.05]*len(result2['Number_f']), linestyle = '--', label = 'Pval_Benchmark', linewidth = 3)\n",
    "plt.tick_params(axis = 'x',rotation = 30)\n",
    "plt.xlabel('Numerical_features')\n",
    "plt.ylabel('P-value')\n",
    "plt.legend()"
   ]
  },
  {
   "cell_type": "markdown",
   "metadata": {},
   "source": [
    "#### Conclusion: Drop 'Month' which has relatively higher value, although its p-value is less than 0.05"
   ]
  },
  {
   "cell_type": "code",
   "execution_count": 34,
   "metadata": {},
   "outputs": [
    {
     "data": {
      "text/plain": [
       "dict_keys(['explained_variance', 'r2', 'max_error', 'neg_median_absolute_error', 'neg_mean_absolute_error', 'neg_mean_squared_error', 'neg_mean_squared_log_error', 'accuracy', 'roc_auc', 'balanced_accuracy', 'average_precision', 'neg_log_loss', 'brier_score_loss', 'adjusted_rand_score', 'homogeneity_score', 'completeness_score', 'v_measure_score', 'mutual_info_score', 'adjusted_mutual_info_score', 'normalized_mutual_info_score', 'fowlkes_mallows_score', 'precision', 'precision_macro', 'precision_micro', 'precision_samples', 'precision_weighted', 'recall', 'recall_macro', 'recall_micro', 'recall_samples', 'recall_weighted', 'f1', 'f1_macro', 'f1_micro', 'f1_samples', 'f1_weighted', 'jaccard', 'jaccard_macro', 'jaccard_micro', 'jaccard_samples', 'jaccard_weighted'])"
      ]
     },
     "execution_count": 34,
     "metadata": {},
     "output_type": "execute_result"
    }
   ],
   "source": [
    "import sklearn\n",
    "sklearn.metrics.SCORERS.keys()"
   ]
  },
  {
   "cell_type": "markdown",
   "metadata": {},
   "source": [
    "# First Trial: Remove all rows with nan values"
   ]
  },
  {
   "cell_type": "code",
   "execution_count": 609,
   "metadata": {},
   "outputs": [
    {
     "data": {
      "text/html": [
       "<div>\n",
       "<style scoped>\n",
       "    .dataframe tbody tr th:only-of-type {\n",
       "        vertical-align: middle;\n",
       "    }\n",
       "\n",
       "    .dataframe tbody tr th {\n",
       "        vertical-align: top;\n",
       "    }\n",
       "\n",
       "    .dataframe thead th {\n",
       "        text-align: right;\n",
       "    }\n",
       "</style>\n",
       "<table border=\"1\" class=\"dataframe\">\n",
       "  <thead>\n",
       "    <tr style=\"text-align: right;\">\n",
       "      <th></th>\n",
       "      <th>Month</th>\n",
       "      <th>Location</th>\n",
       "      <th>MinTemp</th>\n",
       "      <th>MaxTemp</th>\n",
       "      <th>Rainfall</th>\n",
       "      <th>Evaporation</th>\n",
       "      <th>Sunshine</th>\n",
       "      <th>WindGustDir</th>\n",
       "      <th>WindGustSpeed</th>\n",
       "      <th>WindDir9am</th>\n",
       "      <th>WindDir3pm</th>\n",
       "      <th>WindSpeed9am</th>\n",
       "      <th>WindSpeed3pm</th>\n",
       "      <th>Humidity9am</th>\n",
       "      <th>Humidity3pm</th>\n",
       "      <th>Pressure9am</th>\n",
       "      <th>Pressure3pm</th>\n",
       "      <th>Cloud9am</th>\n",
       "      <th>Cloud3pm</th>\n",
       "      <th>Temp9am</th>\n",
       "      <th>Temp3pm</th>\n",
       "      <th>RainToday</th>\n",
       "      <th>RainYesturady</th>\n",
       "      <th>RainTomorrow</th>\n",
       "    </tr>\n",
       "  </thead>\n",
       "  <tbody>\n",
       "    <tr>\n",
       "      <th>1</th>\n",
       "      <td>12</td>\n",
       "      <td>Albury</td>\n",
       "      <td>7.4</td>\n",
       "      <td>25.1</td>\n",
       "      <td>0.0</td>\n",
       "      <td>NaN</td>\n",
       "      <td>NaN</td>\n",
       "      <td>WNW</td>\n",
       "      <td>44.0</td>\n",
       "      <td>NNW</td>\n",
       "      <td>WSW</td>\n",
       "      <td>4.0</td>\n",
       "      <td>22.0</td>\n",
       "      <td>44.0</td>\n",
       "      <td>25.0</td>\n",
       "      <td>1010.6</td>\n",
       "      <td>1007.8</td>\n",
       "      <td>NaN</td>\n",
       "      <td>NaN</td>\n",
       "      <td>17.2</td>\n",
       "      <td>24.3</td>\n",
       "      <td>No</td>\n",
       "      <td>No</td>\n",
       "      <td>0</td>\n",
       "    </tr>\n",
       "    <tr>\n",
       "      <th>2</th>\n",
       "      <td>12</td>\n",
       "      <td>Albury</td>\n",
       "      <td>12.9</td>\n",
       "      <td>25.7</td>\n",
       "      <td>0.0</td>\n",
       "      <td>NaN</td>\n",
       "      <td>NaN</td>\n",
       "      <td>WSW</td>\n",
       "      <td>46.0</td>\n",
       "      <td>W</td>\n",
       "      <td>WSW</td>\n",
       "      <td>19.0</td>\n",
       "      <td>26.0</td>\n",
       "      <td>38.0</td>\n",
       "      <td>30.0</td>\n",
       "      <td>1007.6</td>\n",
       "      <td>1008.7</td>\n",
       "      <td>NaN</td>\n",
       "      <td>2.0</td>\n",
       "      <td>21.0</td>\n",
       "      <td>23.2</td>\n",
       "      <td>No</td>\n",
       "      <td>No</td>\n",
       "      <td>0</td>\n",
       "    </tr>\n",
       "    <tr>\n",
       "      <th>3</th>\n",
       "      <td>12</td>\n",
       "      <td>Albury</td>\n",
       "      <td>9.2</td>\n",
       "      <td>28.0</td>\n",
       "      <td>0.0</td>\n",
       "      <td>NaN</td>\n",
       "      <td>NaN</td>\n",
       "      <td>NE</td>\n",
       "      <td>24.0</td>\n",
       "      <td>SE</td>\n",
       "      <td>E</td>\n",
       "      <td>11.0</td>\n",
       "      <td>9.0</td>\n",
       "      <td>45.0</td>\n",
       "      <td>16.0</td>\n",
       "      <td>1017.6</td>\n",
       "      <td>1012.8</td>\n",
       "      <td>NaN</td>\n",
       "      <td>NaN</td>\n",
       "      <td>18.1</td>\n",
       "      <td>26.5</td>\n",
       "      <td>No</td>\n",
       "      <td>No</td>\n",
       "      <td>0</td>\n",
       "    </tr>\n",
       "    <tr>\n",
       "      <th>4</th>\n",
       "      <td>12</td>\n",
       "      <td>Albury</td>\n",
       "      <td>17.5</td>\n",
       "      <td>32.3</td>\n",
       "      <td>1.0</td>\n",
       "      <td>NaN</td>\n",
       "      <td>NaN</td>\n",
       "      <td>W</td>\n",
       "      <td>41.0</td>\n",
       "      <td>ENE</td>\n",
       "      <td>NW</td>\n",
       "      <td>7.0</td>\n",
       "      <td>20.0</td>\n",
       "      <td>82.0</td>\n",
       "      <td>33.0</td>\n",
       "      <td>1010.8</td>\n",
       "      <td>1006.0</td>\n",
       "      <td>7.0</td>\n",
       "      <td>8.0</td>\n",
       "      <td>17.8</td>\n",
       "      <td>29.7</td>\n",
       "      <td>No</td>\n",
       "      <td>No</td>\n",
       "      <td>0</td>\n",
       "    </tr>\n",
       "    <tr>\n",
       "      <th>5</th>\n",
       "      <td>12</td>\n",
       "      <td>Albury</td>\n",
       "      <td>14.6</td>\n",
       "      <td>29.7</td>\n",
       "      <td>0.2</td>\n",
       "      <td>NaN</td>\n",
       "      <td>NaN</td>\n",
       "      <td>WNW</td>\n",
       "      <td>56.0</td>\n",
       "      <td>W</td>\n",
       "      <td>W</td>\n",
       "      <td>19.0</td>\n",
       "      <td>24.0</td>\n",
       "      <td>55.0</td>\n",
       "      <td>23.0</td>\n",
       "      <td>1009.2</td>\n",
       "      <td>1005.4</td>\n",
       "      <td>NaN</td>\n",
       "      <td>NaN</td>\n",
       "      <td>20.6</td>\n",
       "      <td>28.9</td>\n",
       "      <td>No</td>\n",
       "      <td>No</td>\n",
       "      <td>0</td>\n",
       "    </tr>\n",
       "  </tbody>\n",
       "</table>\n",
       "</div>"
      ],
      "text/plain": [
       "   Month Location  MinTemp  MaxTemp  Rainfall  Evaporation  Sunshine  \\\n",
       "1     12   Albury      7.4     25.1       0.0          NaN       NaN   \n",
       "2     12   Albury     12.9     25.7       0.0          NaN       NaN   \n",
       "3     12   Albury      9.2     28.0       0.0          NaN       NaN   \n",
       "4     12   Albury     17.5     32.3       1.0          NaN       NaN   \n",
       "5     12   Albury     14.6     29.7       0.2          NaN       NaN   \n",
       "\n",
       "  WindGustDir  WindGustSpeed WindDir9am WindDir3pm  WindSpeed9am  \\\n",
       "1         WNW           44.0        NNW        WSW           4.0   \n",
       "2         WSW           46.0          W        WSW          19.0   \n",
       "3          NE           24.0         SE          E          11.0   \n",
       "4           W           41.0        ENE         NW           7.0   \n",
       "5         WNW           56.0          W          W          19.0   \n",
       "\n",
       "   WindSpeed3pm  Humidity9am  Humidity3pm  Pressure9am  Pressure3pm  Cloud9am  \\\n",
       "1          22.0         44.0         25.0       1010.6       1007.8       NaN   \n",
       "2          26.0         38.0         30.0       1007.6       1008.7       NaN   \n",
       "3           9.0         45.0         16.0       1017.6       1012.8       NaN   \n",
       "4          20.0         82.0         33.0       1010.8       1006.0       7.0   \n",
       "5          24.0         55.0         23.0       1009.2       1005.4       NaN   \n",
       "\n",
       "   Cloud3pm  Temp9am  Temp3pm RainToday RainYesturady  RainTomorrow  \n",
       "1       NaN     17.2     24.3        No            No             0  \n",
       "2       2.0     21.0     23.2        No            No             0  \n",
       "3       NaN     18.1     26.5        No            No             0  \n",
       "4       8.0     17.8     29.7        No            No             0  \n",
       "5       NaN     20.6     28.9        No            No             0  "
      ]
     },
     "metadata": {},
     "output_type": "display_data"
    },
    {
     "name": "stderr",
     "output_type": "stream",
     "text": [
      "/anaconda3/envs/FTDS/lib/python3.7/site-packages/pandas/core/frame.py:3940: SettingWithCopyWarning: \n",
      "A value is trying to be set on a copy of a slice from a DataFrame\n",
      "\n",
      "See the caveats in the documentation: http://pandas.pydata.org/pandas-docs/stable/indexing.html#indexing-view-versus-copy\n",
      "  errors=errors)\n"
     ]
    },
    {
     "data": {
      "text/html": [
       "<div>\n",
       "<style scoped>\n",
       "    .dataframe tbody tr th:only-of-type {\n",
       "        vertical-align: middle;\n",
       "    }\n",
       "\n",
       "    .dataframe tbody tr th {\n",
       "        vertical-align: top;\n",
       "    }\n",
       "\n",
       "    .dataframe thead th {\n",
       "        text-align: right;\n",
       "    }\n",
       "</style>\n",
       "<table border=\"1\" class=\"dataframe\">\n",
       "  <thead>\n",
       "    <tr style=\"text-align: right;\">\n",
       "      <th></th>\n",
       "      <th>Location</th>\n",
       "      <th>MinTemp</th>\n",
       "      <th>MaxTemp</th>\n",
       "      <th>Rainfall</th>\n",
       "      <th>Evaporation</th>\n",
       "      <th>Sunshine</th>\n",
       "      <th>WindGustDir</th>\n",
       "      <th>WindGustSpeed</th>\n",
       "      <th>WindDir9am</th>\n",
       "      <th>WindDir3pm</th>\n",
       "      <th>WindSpeed9am</th>\n",
       "      <th>WindSpeed3pm</th>\n",
       "      <th>Humidity9am</th>\n",
       "      <th>Humidity3pm</th>\n",
       "      <th>Pressure9am</th>\n",
       "      <th>Pressure3pm</th>\n",
       "      <th>Cloud9am</th>\n",
       "      <th>Cloud3pm</th>\n",
       "      <th>Temp9am</th>\n",
       "      <th>Temp3pm</th>\n",
       "      <th>RainToday</th>\n",
       "      <th>RainYesturady</th>\n",
       "      <th>RainTomorrow</th>\n",
       "    </tr>\n",
       "  </thead>\n",
       "  <tbody>\n",
       "    <tr>\n",
       "      <th>5939</th>\n",
       "      <td>Cobar</td>\n",
       "      <td>17.9</td>\n",
       "      <td>35.2</td>\n",
       "      <td>0.0</td>\n",
       "      <td>12.0</td>\n",
       "      <td>12.3</td>\n",
       "      <td>SSW</td>\n",
       "      <td>48.0</td>\n",
       "      <td>ENE</td>\n",
       "      <td>SW</td>\n",
       "      <td>6.0</td>\n",
       "      <td>20.0</td>\n",
       "      <td>20.0</td>\n",
       "      <td>13.0</td>\n",
       "      <td>1006.3</td>\n",
       "      <td>1004.4</td>\n",
       "      <td>2.0</td>\n",
       "      <td>5.0</td>\n",
       "      <td>26.6</td>\n",
       "      <td>33.4</td>\n",
       "      <td>No</td>\n",
       "      <td>No</td>\n",
       "      <td>0</td>\n",
       "    </tr>\n",
       "    <tr>\n",
       "      <th>5940</th>\n",
       "      <td>Cobar</td>\n",
       "      <td>18.4</td>\n",
       "      <td>28.9</td>\n",
       "      <td>0.0</td>\n",
       "      <td>14.8</td>\n",
       "      <td>13.0</td>\n",
       "      <td>S</td>\n",
       "      <td>37.0</td>\n",
       "      <td>SSE</td>\n",
       "      <td>SSE</td>\n",
       "      <td>19.0</td>\n",
       "      <td>19.0</td>\n",
       "      <td>30.0</td>\n",
       "      <td>8.0</td>\n",
       "      <td>1012.9</td>\n",
       "      <td>1012.1</td>\n",
       "      <td>1.0</td>\n",
       "      <td>1.0</td>\n",
       "      <td>20.3</td>\n",
       "      <td>27.0</td>\n",
       "      <td>No</td>\n",
       "      <td>No</td>\n",
       "      <td>0</td>\n",
       "    </tr>\n",
       "    <tr>\n",
       "      <th>5942</th>\n",
       "      <td>Cobar</td>\n",
       "      <td>19.4</td>\n",
       "      <td>37.6</td>\n",
       "      <td>0.0</td>\n",
       "      <td>10.8</td>\n",
       "      <td>10.6</td>\n",
       "      <td>NNE</td>\n",
       "      <td>46.0</td>\n",
       "      <td>NNE</td>\n",
       "      <td>NNW</td>\n",
       "      <td>30.0</td>\n",
       "      <td>15.0</td>\n",
       "      <td>42.0</td>\n",
       "      <td>22.0</td>\n",
       "      <td>1012.3</td>\n",
       "      <td>1009.2</td>\n",
       "      <td>1.0</td>\n",
       "      <td>6.0</td>\n",
       "      <td>28.7</td>\n",
       "      <td>34.9</td>\n",
       "      <td>No</td>\n",
       "      <td>No</td>\n",
       "      <td>0</td>\n",
       "    </tr>\n",
       "    <tr>\n",
       "      <th>5943</th>\n",
       "      <td>Cobar</td>\n",
       "      <td>21.9</td>\n",
       "      <td>38.4</td>\n",
       "      <td>0.0</td>\n",
       "      <td>11.4</td>\n",
       "      <td>12.2</td>\n",
       "      <td>WNW</td>\n",
       "      <td>31.0</td>\n",
       "      <td>WNW</td>\n",
       "      <td>WSW</td>\n",
       "      <td>6.0</td>\n",
       "      <td>6.0</td>\n",
       "      <td>37.0</td>\n",
       "      <td>22.0</td>\n",
       "      <td>1012.7</td>\n",
       "      <td>1009.1</td>\n",
       "      <td>1.0</td>\n",
       "      <td>5.0</td>\n",
       "      <td>29.1</td>\n",
       "      <td>35.6</td>\n",
       "      <td>No</td>\n",
       "      <td>No</td>\n",
       "      <td>0</td>\n",
       "    </tr>\n",
       "    <tr>\n",
       "      <th>5944</th>\n",
       "      <td>Cobar</td>\n",
       "      <td>24.2</td>\n",
       "      <td>41.0</td>\n",
       "      <td>0.0</td>\n",
       "      <td>11.2</td>\n",
       "      <td>8.4</td>\n",
       "      <td>WNW</td>\n",
       "      <td>35.0</td>\n",
       "      <td>NW</td>\n",
       "      <td>WNW</td>\n",
       "      <td>17.0</td>\n",
       "      <td>13.0</td>\n",
       "      <td>19.0</td>\n",
       "      <td>15.0</td>\n",
       "      <td>1010.7</td>\n",
       "      <td>1007.4</td>\n",
       "      <td>1.0</td>\n",
       "      <td>6.0</td>\n",
       "      <td>33.6</td>\n",
       "      <td>37.6</td>\n",
       "      <td>No</td>\n",
       "      <td>No</td>\n",
       "      <td>0</td>\n",
       "    </tr>\n",
       "  </tbody>\n",
       "</table>\n",
       "</div>"
      ],
      "text/plain": [
       "     Location  MinTemp  MaxTemp  Rainfall  Evaporation  Sunshine WindGustDir  \\\n",
       "5939    Cobar     17.9     35.2       0.0         12.0      12.3         SSW   \n",
       "5940    Cobar     18.4     28.9       0.0         14.8      13.0           S   \n",
       "5942    Cobar     19.4     37.6       0.0         10.8      10.6         NNE   \n",
       "5943    Cobar     21.9     38.4       0.0         11.4      12.2         WNW   \n",
       "5944    Cobar     24.2     41.0       0.0         11.2       8.4         WNW   \n",
       "\n",
       "      WindGustSpeed WindDir9am WindDir3pm  WindSpeed9am  WindSpeed3pm  \\\n",
       "5939           48.0        ENE         SW           6.0          20.0   \n",
       "5940           37.0        SSE        SSE          19.0          19.0   \n",
       "5942           46.0        NNE        NNW          30.0          15.0   \n",
       "5943           31.0        WNW        WSW           6.0           6.0   \n",
       "5944           35.0         NW        WNW          17.0          13.0   \n",
       "\n",
       "      Humidity9am  Humidity3pm  Pressure9am  Pressure3pm  Cloud9am  Cloud3pm  \\\n",
       "5939         20.0         13.0       1006.3       1004.4       2.0       5.0   \n",
       "5940         30.0          8.0       1012.9       1012.1       1.0       1.0   \n",
       "5942         42.0         22.0       1012.3       1009.2       1.0       6.0   \n",
       "5943         37.0         22.0       1012.7       1009.1       1.0       5.0   \n",
       "5944         19.0         15.0       1010.7       1007.4       1.0       6.0   \n",
       "\n",
       "      Temp9am  Temp3pm RainToday RainYesturady  RainTomorrow  \n",
       "5939     26.6     33.4        No            No             0  \n",
       "5940     20.3     27.0        No            No             0  \n",
       "5942     28.7     34.9        No            No             0  \n",
       "5943     29.1     35.6        No            No             0  \n",
       "5944     33.6     37.6        No            No             0  "
      ]
     },
     "metadata": {},
     "output_type": "display_data"
    },
    {
     "data": {
      "text/plain": [
       "(56420, 23)"
      ]
     },
     "execution_count": 609,
     "metadata": {},
     "output_type": "execute_result"
    }
   ],
   "source": [
    "display(weather_for_selection.head())\n",
    "weather_first_trial = weather_for_selection.dropna()\n",
    "weather_first_trial.drop(['Month'], axis = 1, inplace = True)\n",
    "display(weather_first_trial.head())\n",
    "weather_first_trial.shape"
   ]
  },
  {
   "cell_type": "code",
   "execution_count": 610,
   "metadata": {},
   "outputs": [
    {
     "data": {
      "text/plain": [
       "array(['MinTemp', 'MaxTemp', 'Rainfall', 'Evaporation', 'Sunshine',\n",
       "       'WindGustSpeed', 'WindSpeed9am', 'WindSpeed3pm', 'Humidity9am',\n",
       "       'Humidity3pm', 'Pressure9am', 'Pressure3pm', 'Cloud9am',\n",
       "       'Cloud3pm', 'Temp9am', 'Temp3pm'], dtype=object)"
      ]
     },
     "execution_count": 610,
     "metadata": {},
     "output_type": "execute_result"
    }
   ],
   "source": [
    "result2['Number_f'].values[1:]"
   ]
  },
  {
   "cell_type": "code",
   "execution_count": 611,
   "metadata": {},
   "outputs": [],
   "source": [
    "x_train, x_test, y_train, y_test = train_test_split(weather_first_trial.iloc[:,:-1], weather_first_trial.iloc[:,-1]\n",
    "                                                    , test_size = 0.2, random_state = 300)\n",
    "\n",
    "col = ColumnTransformer(transformers=[('standardized', StandardScaler(), result2['Number_f'].values[1:])],remainder = 'passthrough', \n",
    "                       sparse_threshold = 0)\n",
    "\n",
    "x_test1 = x_test.copy()\n",
    "y_test1 = y_test.copy()\n",
    "#Resampling\n",
    "x_train = pd.get_dummies(x_train, drop_first = True)\n",
    "x_test = pd.get_dummies(x_test, drop_first = True)\n",
    "x_train_columns = x_train.columns.values\n",
    "x_train = col.fit_transform(x_train)\n",
    "x_test = col.transform(x_test)\n",
    "x_train, y_train = SMOTE(sampling_strategy='minority').fit_resample(x_train, y_train)\n",
    "# neg_pos = 35220.0/9916.0\n",
    "\n",
    "#models\n",
    "logisticR = LogisticRegression(penalty = 'l2', solver = 'newton-cg', multi_class = 'multinomial',random_state = 300)\n",
    "randomF = RandomForestClassifier(random_state=300)\n",
    "adaboost = AdaBoostClassifier(base_estimator=DecisionTreeClassifier(max_depth = 1),n_estimators=50, random_state=300)\n",
    "xgboost = XGBClassifier(random_state=300)\n"
   ]
  },
  {
   "cell_type": "code",
   "execution_count": 612,
   "metadata": {},
   "outputs": [
    {
     "data": {
      "text/plain": [
       "array(['MinTemp', 'MaxTemp', 'Rainfall', 'Evaporation', 'Sunshine',\n",
       "       'WindGustSpeed', 'WindSpeed9am', 'WindSpeed3pm', 'Humidity9am',\n",
       "       'Humidity3pm', 'Pressure9am', 'Pressure3pm', 'Cloud9am',\n",
       "       'Cloud3pm', 'Temp9am', 'Temp3pm', 'Location_Brisbane',\n",
       "       'Location_Cairns', 'Location_Canberra', 'Location_Cobar',\n",
       "       'Location_CoffsHarbour', 'Location_Darwin', 'Location_Hobart',\n",
       "       'Location_Melbourne', 'Location_MelbourneAirport',\n",
       "       'Location_Mildura', 'Location_Moree', 'Location_MountGambier',\n",
       "       'Location_NorfolkIsland', 'Location_Nuriootpa', 'Location_Perth',\n",
       "       'Location_PerthAirport', 'Location_Portland', 'Location_Sale',\n",
       "       'Location_Sydney', 'Location_SydneyAirport', 'Location_Townsville',\n",
       "       'Location_WaggaWagga', 'Location_Watsonia', 'Location_Williamtown',\n",
       "       'Location_Woomera', 'WindGustDir_ENE', 'WindGustDir_ESE',\n",
       "       'WindGustDir_N', 'WindGustDir_NE', 'WindGustDir_NNE',\n",
       "       'WindGustDir_NNW', 'WindGustDir_NW', 'WindGustDir_S',\n",
       "       'WindGustDir_SE', 'WindGustDir_SSE', 'WindGustDir_SSW',\n",
       "       'WindGustDir_SW', 'WindGustDir_W', 'WindGustDir_WNW',\n",
       "       'WindGustDir_WSW', 'WindDir9am_ENE', 'WindDir9am_ESE',\n",
       "       'WindDir9am_N', 'WindDir9am_NE', 'WindDir9am_NNE',\n",
       "       'WindDir9am_NNW', 'WindDir9am_NW', 'WindDir9am_S', 'WindDir9am_SE',\n",
       "       'WindDir9am_SSE', 'WindDir9am_SSW', 'WindDir9am_SW',\n",
       "       'WindDir9am_W', 'WindDir9am_WNW', 'WindDir9am_WSW',\n",
       "       'WindDir3pm_ENE', 'WindDir3pm_ESE', 'WindDir3pm_N',\n",
       "       'WindDir3pm_NE', 'WindDir3pm_NNE', 'WindDir3pm_NNW',\n",
       "       'WindDir3pm_NW', 'WindDir3pm_S', 'WindDir3pm_SE', 'WindDir3pm_SSE',\n",
       "       'WindDir3pm_SSW', 'WindDir3pm_SW', 'WindDir3pm_W',\n",
       "       'WindDir3pm_WNW', 'WindDir3pm_WSW', 'RainToday_Yes',\n",
       "       'RainYesturady_Yes'], dtype=object)"
      ]
     },
     "execution_count": 612,
     "metadata": {},
     "output_type": "execute_result"
    }
   ],
   "source": [
    "x_train_columns"
   ]
  },
  {
   "cell_type": "code",
   "execution_count": 613,
   "metadata": {},
   "outputs": [
    {
     "name": "stdout",
     "output_type": "stream",
     "text": [
      "CPU times: user 11 µs, sys: 1e+03 ns, total: 12 µs\n",
      "Wall time: 17.9 µs\n"
     ]
    }
   ],
   "source": [
    "%%time\n",
    "\n",
    "def check_model(models, models_name):\n",
    "    result_positive = []\n",
    "    for model in range(len(models)):\n",
    "        print(f'Processing: {models_names[model]}')\n",
    "        pipeline1 = Pipeline(steps=[('model', models[model])])\n",
    "        pipeline1.fit(x_train, y_train)\n",
    "        y_predicted = pipeline1.predict(x_test)\n",
    "        f1score = f1_score(y_test, y_predicted,average = None)[1]\n",
    "        result_positive.append([models_names[model], round(f1score,4)])\n",
    "    return pd.DataFrame(result_positive, columns = ['Model_Name', 'f1_Score_Positive'])"
   ]
  },
  {
   "cell_type": "markdown",
   "metadata": {},
   "source": [
    "### Compare 4 models' performance"
   ]
  },
  {
   "cell_type": "code",
   "execution_count": 614,
   "metadata": {},
   "outputs": [
    {
     "name": "stdout",
     "output_type": "stream",
     "text": [
      "Processing: logisticR\n",
      "Processing: randomF\n"
     ]
    },
    {
     "name": "stderr",
     "output_type": "stream",
     "text": [
      "/anaconda3/envs/FTDS/lib/python3.7/site-packages/sklearn/ensemble/forest.py:245: FutureWarning: The default value of n_estimators will change from 10 in version 0.20 to 100 in 0.22.\n",
      "  \"10 in version 0.20 to 100 in 0.22.\", FutureWarning)\n"
     ]
    },
    {
     "name": "stdout",
     "output_type": "stream",
     "text": [
      "Processing: adaboost\n",
      "Processing: xgboost\n",
      "CPU times: user 1min 2s, sys: 1.28 s, total: 1min 3s\n",
      "Wall time: 52 s\n"
     ]
    },
    {
     "data": {
      "text/html": [
       "<div>\n",
       "<style scoped>\n",
       "    .dataframe tbody tr th:only-of-type {\n",
       "        vertical-align: middle;\n",
       "    }\n",
       "\n",
       "    .dataframe tbody tr th {\n",
       "        vertical-align: top;\n",
       "    }\n",
       "\n",
       "    .dataframe thead th {\n",
       "        text-align: right;\n",
       "    }\n",
       "</style>\n",
       "<table border=\"1\" class=\"dataframe\">\n",
       "  <thead>\n",
       "    <tr style=\"text-align: right;\">\n",
       "      <th></th>\n",
       "      <th>Model_Name</th>\n",
       "      <th>f1_Score_Positive</th>\n",
       "    </tr>\n",
       "  </thead>\n",
       "  <tbody>\n",
       "    <tr>\n",
       "      <th>0</th>\n",
       "      <td>logisticR</td>\n",
       "      <td>0.6493</td>\n",
       "    </tr>\n",
       "    <tr>\n",
       "      <th>1</th>\n",
       "      <td>randomF</td>\n",
       "      <td>0.6206</td>\n",
       "    </tr>\n",
       "    <tr>\n",
       "      <th>2</th>\n",
       "      <td>adaboost</td>\n",
       "      <td>0.6306</td>\n",
       "    </tr>\n",
       "    <tr>\n",
       "      <th>3</th>\n",
       "      <td>xgboost</td>\n",
       "      <td>0.6606</td>\n",
       "    </tr>\n",
       "  </tbody>\n",
       "</table>\n",
       "</div>"
      ],
      "text/plain": [
       "  Model_Name  f1_Score_Positive\n",
       "0  logisticR             0.6493\n",
       "1    randomF             0.6206\n",
       "2   adaboost             0.6306\n",
       "3    xgboost             0.6606"
      ]
     },
     "execution_count": 614,
     "metadata": {},
     "output_type": "execute_result"
    }
   ],
   "source": [
    "%%time\n",
    "models = [logisticR, randomF, adaboost, xgboost]\n",
    "models_names = ['logisticR', 'randomF', 'adaboost', 'xgboost']\n",
    "result_positive = check_model(models, models_names)\n",
    "result_positive"
   ]
  },
  {
   "cell_type": "code",
   "execution_count": 615,
   "metadata": {},
   "outputs": [
    {
     "data": {
      "text/plain": [
       "Text(0.5, 1.0, 'Model Selection')"
      ]
     },
     "execution_count": 615,
     "metadata": {},
     "output_type": "execute_result"
    },
    {
     "data": {
      "image/png": "[encoded data removed]",
      "text/plain": [
       "<Figure size 1440x720 with 1 Axes>"
      ]
     },
     "metadata": {},
     "output_type": "display_data"
    }
   ],
   "source": [
    "plt.figure(figsize = (20,10))\n",
    "plt.plot(result_positive['Model_Name'], result_positive['f1_Score_Positive'], label = 'Model_Result', linewidth = 3)\n",
    "plt.legend(loc =5)\n",
    "plt.xlabel('Model_Name')\n",
    "plt.ylabel('f1_Score_Positive')\n",
    "plt.title('Model Selection')"
   ]
  },
  {
   "cell_type": "markdown",
   "metadata": {},
   "source": [
    "## Final Model"
   ]
  },
  {
   "cell_type": "code",
   "execution_count": 616,
   "metadata": {},
   "outputs": [
    {
     "data": {
      "text/plain": [
       "0    43993\n",
       "1    12427\n",
       "Name: RainTomorrow, dtype: int64"
      ]
     },
     "execution_count": 616,
     "metadata": {},
     "output_type": "execute_result"
    }
   ],
   "source": [
    "weather_first_trial['RainTomorrow'].value_counts()"
   ]
  },
  {
   "cell_type": "code",
   "execution_count": 617,
   "metadata": {
    "scrolled": true
   },
   "outputs": [
    {
     "name": "stdout",
     "output_type": "stream",
     "text": [
      "              precision    recall  f1-score   support\n",
      "\n",
      "          No       0.89      0.94      0.91      8773\n",
      "         Yes       0.73      0.61      0.66      2511\n",
      "\n",
      "    accuracy                           0.86     11284\n",
      "   macro avg       0.81      0.77      0.79     11284\n",
      "weighted avg       0.86      0.86      0.86     11284\n",
      "\n",
      "0.6640522875816993\n",
      "[CV]  ................................................................\n"
     ]
    },
    {
     "name": "stderr",
     "output_type": "stream",
     "text": [
      "[Parallel(n_jobs=1)]: Using backend SequentialBackend with 1 concurrent workers.\n"
     ]
    },
    {
     "name": "stdout",
     "output_type": "stream",
     "text": [
      "[CV] ................................................. , total= 2.0min\n",
      "[CV]  ................................................................\n"
     ]
    },
    {
     "name": "stderr",
     "output_type": "stream",
     "text": [
      "[Parallel(n_jobs=1)]: Done   1 out of   1 | elapsed:  2.0min remaining:    0.0s\n"
     ]
    },
    {
     "name": "stdout",
     "output_type": "stream",
     "text": [
      "[CV] ................................................. , total= 2.0min\n",
      "[CV]  ................................................................\n",
      "[CV] ................................................. , total= 2.2min\n",
      "[CV]  ................................................................\n",
      "[CV] ................................................. , total= 2.2min\n",
      "[CV]  ................................................................\n",
      "[CV] ................................................. , total= 2.3min\n",
      "[CV]  ................................................................\n",
      "[CV] ................................................. , total= 2.0min\n",
      "[CV]  ................................................................\n",
      "[CV] ................................................. , total= 2.7min\n",
      "[CV]  ................................................................\n",
      "[CV] ................................................. , total= 2.2min\n",
      "[CV]  ................................................................\n",
      "[CV] ................................................. , total= 2.1min\n",
      "[CV]  ................................................................\n",
      "[CV] ................................................. , total= 2.2min\n",
      "10-fold Cross Validation: 0.9056501987507097\n"
     ]
    },
    {
     "name": "stderr",
     "output_type": "stream",
     "text": [
      "[Parallel(n_jobs=1)]: Done  10 out of  10 | elapsed: 22.0min finished\n"
     ]
    }
   ],
   "source": [
    "# neg_pos = 35220.0/9916.0\n",
    "xgboost1 = XGBClassifier(n_estimators=300,random_state=300, max_depth = 5, cv = 3)\n",
    "xgboost1.fit(x_train, y_train)\n",
    "y_predicted = xgboost1.predict(x_test)\n",
    "\n",
    "print(classification_report(y_test, y_predicted, target_names=['No', 'Yes']))\n",
    "\n",
    "print(f1_score(y_test, y_predicted,average = None)[1])\n",
    "cvs = cross_val_score(estimator=xgboost1, X=x_train, y = y_train,cv = 10, verbose=2,scoring='accuracy')\n",
    "print(f'10-fold Cross Validation: {cvs.mean()}')"
   ]
  },
  {
   "cell_type": "code",
   "execution_count": 462,
   "metadata": {},
   "outputs": [
    {
     "data": {
      "text/plain": [
       "Text(66.5, 0.5, 'Actual')"
      ]
     },
     "execution_count": 462,
     "metadata": {},
     "output_type": "execute_result"
    },
    {
     "data": {
      "image/png": "[encoded data removed]",
      "text/plain": [
       "<Figure size 720x360 with 2 Axes>"
      ]
     },
     "metadata": {},
     "output_type": "display_data"
    }
   ],
   "source": [
    "fig = plt.figure(figsize = (10,5))\n",
    "ax = fig.add_subplot(111)\n",
    "plot_confusion =confusion_matrix(y_test, y_predicted)\n",
    "sns.heatmap(plot_confusion, annot = True, xticklabels = ['No', 'Yes'], yticklabels = ['No', 'Yes'])\n",
    "plt.xlabel('Prediction')\n",
    "plt.ylabel('Actual')"
   ]
  },
  {
   "cell_type": "code",
   "execution_count": 463,
   "metadata": {},
   "outputs": [
    {
     "data": {
      "text/plain": [
       "<matplotlib.axes._subplots.AxesSubplot at 0x1a50debcc0>"
      ]
     },
     "execution_count": 463,
     "metadata": {},
     "output_type": "execute_result"
    },
    {
     "data": {
      "image/png": "[encoded data removed]",
      "text/plain": [
       "<Figure size 720x1080 with 1 Axes>"
      ]
     },
     "metadata": {},
     "output_type": "display_data"
    }
   ],
   "source": [
    "fig2 = plt.figure(figsize = (10,15))\n",
    "ax = fig2.add_subplot(111)\n",
    "plot_importance(xgboost1, max_num_features = 10, ax=ax)"
   ]
  },
  {
   "cell_type": "code",
   "execution_count": 495,
   "metadata": {},
   "outputs": [
    {
     "name": "stdout",
     "output_type": "stream",
     "text": [
      "['Location', 'MinTemp', 'MaxTemp', 'Rainfall', 'Evaporation', 'Sunshine', 'WindGustDir', 'WindGustSpeed', 'WindDir9am', 'WindDir3pm', 'WindSpeed9am', 'WindSpeed3pm', 'Humidity9am', 'Humidity3pm', 'Pressure9am', 'Pressure3pm', 'Cloud9am', 'Cloud3pm', 'Temp9am', 'Temp3pm', 'RainToday', 'RainYesturady']\n",
      "------------------------\n",
      "Location:\n",
      "['Cobar', 'CoffsHarbour', 'Moree', 'NorfolkIsland', 'Sydney', 'SydneyAirport', 'WaggaWagga', 'Williamtown', 'Canberra', 'Sale', 'MelbourneAirport', 'Melbourne', 'Mildura', 'Portland', 'Watsonia', 'Brisbane', 'Cairns', 'Townsville', 'MountGambier', 'Nuriootpa', 'Woomera', 'PerthAirport', 'Perth', 'Hobart', 'AliceSprings', 'Darwin']\n",
      "------------------------\n",
      "WindGustDir:\n",
      "['SSW', 'S', 'NNE', 'WNW', 'N', 'SE', 'ENE', 'NE', 'E', 'SW', 'W', 'WSW', 'NNW', 'ESE', 'SSE', 'NW']\n",
      "------------------------\n",
      "WindDir9am:\n",
      "['ENE', 'SSE', 'NNE', 'WNW', 'NW', 'N', 'S', 'SE', 'NE', 'W', 'SSW', 'E', 'NNW', 'ESE', 'WSW', 'SW']\n",
      "------------------------\n",
      "WindDir3pm:\n",
      "['SW', 'SSE', 'NNW', 'WSW', 'WNW', 'S', 'ENE', 'N', 'SE', 'NNE', 'NW', 'E', 'ESE', 'NE', 'SSW', 'W']\n"
     ]
    }
   ],
   "source": [
    "features = weather_first_trial.columns[:-1]\n",
    "print(list(features))\n",
    "def prediction (data):\n",
    "    data = pd.get_dummies(data, drop_first = True)\n",
    "    data = col.fit_transform(data)\n",
    "    print(xgboost1.predict(data))\n",
    "    \n",
    "Location = list(weather_first_trial['Location'].unique())\n",
    "WindGustDir = list(weather_first_trial['WindGustDir'].unique())\n",
    "WindDir9am = list(weather_first_trial['WindDir9am'].unique())\n",
    "WindDir3pm = list(weather_first_trial['WindDir3pm'].unique())\n",
    "print('------------------------')\n",
    "print(f'Location:\\n{Location}')\n",
    "print('------------------------')\n",
    "print(f'WindGustDir:\\n{WindGustDir}')\n",
    "print('------------------------')\n",
    "print(f'WindDir9am:\\n{WindDir9am}')\n",
    "print('------------------------')\n",
    "print(f'WindDir3pm:\\n{WindDir3pm}')\n",
    "\n",
    "# ['Location', 'MinTemp', 'MaxTemp', 'Rainfall', 'Evaporation', 'Sunshine', \n",
    "# 'WindGustDir', 'WindGustSpeed', 'WindDir9am', 'WindDir3pm', 'WindSpeed9am', \n",
    "# 'WindSpeed3pm', 'Humidity9am', 'Humidity3pm', 'Pressure9am', 'Pressure3pm', \n",
    "# 'Cloud9am', 'Cloud3pm', 'Temp9am', 'Temp3pm', 'RainToday', 'RainYesturady']\n",
    "#input a list of all feature above to below function\n",
    "prediction()"
   ]
  },
  {
   "cell_type": "markdown",
   "metadata": {},
   "source": [
    "# Select the top 6 features (based on the feature importances above)"
   ]
  },
  {
   "cell_type": "code",
   "execution_count": 344,
   "metadata": {},
   "outputs": [
    {
     "data": {
      "text/plain": [
       "array(['Humidity3pm', 'WindGustSpeed', 'Pressure3pm', 'Cloud3pm',\n",
       "       'Sunshine', 'Rainfall'], dtype=object)"
      ]
     },
     "execution_count": 344,
     "metadata": {},
     "output_type": "execute_result"
    }
   ],
   "source": [
    "selection = x_train_columns[[9,5,11,13,4,2]]\n",
    "# [9,5,11,13,4,2]\n",
    "selection"
   ]
  },
  {
   "cell_type": "code",
   "execution_count": 345,
   "metadata": {},
   "outputs": [
    {
     "data": {
      "text/html": [
       "<div>\n",
       "<style scoped>\n",
       "    .dataframe tbody tr th:only-of-type {\n",
       "        vertical-align: middle;\n",
       "    }\n",
       "\n",
       "    .dataframe tbody tr th {\n",
       "        vertical-align: top;\n",
       "    }\n",
       "\n",
       "    .dataframe thead th {\n",
       "        text-align: right;\n",
       "    }\n",
       "</style>\n",
       "<table border=\"1\" class=\"dataframe\">\n",
       "  <thead>\n",
       "    <tr style=\"text-align: right;\">\n",
       "      <th></th>\n",
       "      <th>Humidity3pm</th>\n",
       "      <th>WindGustSpeed</th>\n",
       "      <th>Pressure3pm</th>\n",
       "      <th>Cloud3pm</th>\n",
       "      <th>Sunshine</th>\n",
       "      <th>Rainfall</th>\n",
       "    </tr>\n",
       "  </thead>\n",
       "  <tbody>\n",
       "    <tr>\n",
       "      <th>5939</th>\n",
       "      <td>13.0</td>\n",
       "      <td>48.0</td>\n",
       "      <td>1004.4</td>\n",
       "      <td>5.0</td>\n",
       "      <td>12.3</td>\n",
       "      <td>0.0</td>\n",
       "    </tr>\n",
       "    <tr>\n",
       "      <th>5940</th>\n",
       "      <td>8.0</td>\n",
       "      <td>37.0</td>\n",
       "      <td>1012.1</td>\n",
       "      <td>1.0</td>\n",
       "      <td>13.0</td>\n",
       "      <td>0.0</td>\n",
       "    </tr>\n",
       "    <tr>\n",
       "      <th>5942</th>\n",
       "      <td>22.0</td>\n",
       "      <td>46.0</td>\n",
       "      <td>1009.2</td>\n",
       "      <td>6.0</td>\n",
       "      <td>10.6</td>\n",
       "      <td>0.0</td>\n",
       "    </tr>\n",
       "    <tr>\n",
       "      <th>5943</th>\n",
       "      <td>22.0</td>\n",
       "      <td>31.0</td>\n",
       "      <td>1009.1</td>\n",
       "      <td>5.0</td>\n",
       "      <td>12.2</td>\n",
       "      <td>0.0</td>\n",
       "    </tr>\n",
       "    <tr>\n",
       "      <th>5944</th>\n",
       "      <td>15.0</td>\n",
       "      <td>35.0</td>\n",
       "      <td>1007.4</td>\n",
       "      <td>6.0</td>\n",
       "      <td>8.4</td>\n",
       "      <td>0.0</td>\n",
       "    </tr>\n",
       "  </tbody>\n",
       "</table>\n",
       "</div>"
      ],
      "text/plain": [
       "      Humidity3pm  WindGustSpeed  Pressure3pm  Cloud3pm  Sunshine  Rainfall\n",
       "5939         13.0           48.0       1004.4       5.0      12.3       0.0\n",
       "5940          8.0           37.0       1012.1       1.0      13.0       0.0\n",
       "5942         22.0           46.0       1009.2       6.0      10.6       0.0\n",
       "5943         22.0           31.0       1009.1       5.0      12.2       0.0\n",
       "5944         15.0           35.0       1007.4       6.0       8.4       0.0"
      ]
     },
     "metadata": {},
     "output_type": "display_data"
    },
    {
     "data": {
      "text/plain": [
       "5939    0\n",
       "5940    0\n",
       "5942    0\n",
       "5943    0\n",
       "5944    0\n",
       "Name: RainTomorrow, dtype: int64"
      ]
     },
     "metadata": {},
     "output_type": "display_data"
    }
   ],
   "source": [
    "x_weather_selected = weather_first_trial[selection]\n",
    "y_weather_selected = weather_first_trial.iloc[:,-1]\n",
    "display(x_weather_selected.head())\n",
    "display(y_weather_selected.head())"
   ]
  },
  {
   "cell_type": "code",
   "execution_count": 437,
   "metadata": {},
   "outputs": [],
   "source": [
    "x_train_s, x_test_s, y_train_s, y_test_s = train_test_split(x_weather_selected, y_weather_selected, \n",
    "                                                           test_size = 0.2, random_state = 200)\n",
    "coltrans = ColumnTransformer(transformers = [('standard', StandardScaler(), selection)])\n",
    "NegoverPos = y_train_s.value_counts()[0] / y_train_s.value_counts()[1]\n",
    "x_train_s = coltrans.fit_transform(x_train_s)\n",
    "x_test_s = coltrans.transform(x_test_s)\n",
    "\n",
    "def determine_n_estimators(start = 100, end = 110, step = 1, **kwarg):\n",
    "    result = []\n",
    "    for i in range(start,end+1,step):\n",
    "        xgboost2 = XGBClassifier(random_state=300,\n",
    "                                 n_estimators=i,\n",
    "                                 max_depth = 3,\n",
    "                                 learning_rate=0.1, \n",
    "                                 min_child_weight = 1, \n",
    "                                 gamma = 0.2,\n",
    "                                 subsample = 0.8,\n",
    "                                 colsample_bytree= 0.8,\n",
    "                                 objective= 'binary:logistic',\n",
    "                                 scale_pos_weight = NegoverPos,\n",
    "                                 n_jobs=-1)\n",
    "\n",
    "        xgboost2.fit(x_train_s, y_train_s)\n",
    "        y_predicted1 = xgboost2.predict(x_test_s)\n",
    "        result.append([i,f1_score(y_test_s, y_predicted1,average = None)[1]])\n",
    "    print(xgboost2.get_params)\n",
    "    plotgraph = pd.DataFrame(result, columns = ['n_estimators', 'f1_score for +ve result'])\n",
    "    sns.lineplot(data = plotgraph, x = 'n_estimators', y = 'f1_score for +ve result')\n",
    "    plt.title(f'n_estimators from {start} to {end}, step = {step}')\n",
    "    print(plotgraph.sort_values('f1_score for +ve result', ascending = False).iloc[0])\n",
    "    return result"
   ]
  },
  {
   "cell_type": "code",
   "execution_count": 438,
   "metadata": {},
   "outputs": [
    {
     "name": "stdout",
     "output_type": "stream",
     "text": [
      "<bound method XGBModel.get_params of XGBClassifier(base_score=0.5, booster='gbtree', colsample_bylevel=1,\n",
      "              colsample_bynode=1, colsample_bytree=0.8, gamma=0.2,\n",
      "              learning_rate=0.1, max_delta_step=0, max_depth=3,\n",
      "              min_child_weight=1, missing=None, n_estimators=1000, n_jobs=-1,\n",
      "              nthread=None, objective='binary:logistic', random_state=300,\n",
      "              reg_alpha=0, reg_lambda=1, scale_pos_weight=3.5555106984255147,\n",
      "              seed=None, silent=None, subsample=0.8, verbosity=1)>\n",
      "n_estimators               900.000000\n",
      "f1_score for +ve result      0.642586\n",
      "Name: 8, dtype: float64\n"
     ]
    },
    {
     "data": {
      "text/plain": [
       "[[100, 0.6393493900531748],\n",
       " [200, 0.6401004079071226],\n",
       " [300, 0.6397496087636932],\n",
       " [400, 0.6405290505432215],\n",
       " [500, 0.6397359320968248],\n",
       " [600, 0.6416640403403719],\n",
       " [700, 0.6413369068264229],\n",
       " [800, 0.6409241968665929],\n",
       " [900, 0.6425855513307984],\n",
       " [1000, 0.6398096748612213]]"
      ]
     },
     "execution_count": 438,
     "metadata": {},
     "output_type": "execute_result"
    },
    {
     "data": {
      "image/png": "[encoded data removed]",
      "text/plain": [
       "<Figure size 432x288 with 1 Axes>"
      ]
     },
     "metadata": {},
     "output_type": "display_data"
    }
   ],
   "source": [
    "determine_n_estimators(start = 100, end = 1000, step = 100)"
   ]
  },
  {
   "cell_type": "markdown",
   "metadata": {},
   "source": [
    "# Tuning Hyperparameters (I only kept the last turning and update the hyperparameter to the function above)"
   ]
  },
  {
   "cell_type": "code",
   "execution_count": 440,
   "metadata": {},
   "outputs": [],
   "source": [
    "xgboost2 = XGBClassifier(random_state=300,\n",
    "                         n_estimators=900,\n",
    "                         max_depth = 3,\n",
    "                         learning_rate=0.1, \n",
    "                         min_child_weight = 1, \n",
    "                         gamma = 0.2,\n",
    "                         subsample = 0.8,\n",
    "                         colsample_bytree= 0.8,\n",
    "                         objective= 'binary:logistic',\n",
    "                         scale_pos_weight = NegoverPos,\n",
    "                         n_jobs=-1)\n",
    "\n",
    "param2 = {'subsample':(0.6,0.7,0.8),\n",
    "         'colsample_bytree':(0.6,0.7,0.8)}\n",
    "gridsearch2 = GridSearchCV(estimator = xgboost2, param_grid=param2, cv = 3, scoring='f1')\n",
    "gridsearch2.fit(x_train_s, y_train_s)\n",
    "y_predicted1 = gridsearch2.predict(x_test_s)\n",
    "print(classification_report(y_test_s, y_predicted1, target_names=['No', 'Yes']))"
   ]
  },
  {
   "cell_type": "code",
   "execution_count": 441,
   "metadata": {},
   "outputs": [
    {
     "data": {
      "text/plain": [
       "{'colsample_bytree': 0.6, 'subsample': 0.8}"
      ]
     },
     "execution_count": 441,
     "metadata": {},
     "output_type": "execute_result"
    }
   ],
   "source": [
    "gridsearch2.best_params_"
   ]
  },
  {
   "cell_type": "code",
   "execution_count": 442,
   "metadata": {},
   "outputs": [
    {
     "data": {
      "text/plain": [
       "0.62971961586139"
      ]
     },
     "execution_count": 442,
     "metadata": {},
     "output_type": "execute_result"
    }
   ],
   "source": [
    "gridsearch2.best_score_"
   ]
  },
  {
   "cell_type": "code",
   "execution_count": 376,
   "metadata": {},
   "outputs": [
    {
     "data": {
      "text/plain": [
       "<matplotlib.axes._subplots.AxesSubplot at 0x1a55df99e8>"
      ]
     },
     "execution_count": 376,
     "metadata": {},
     "output_type": "execute_result"
    },
    {
     "data": {
      "image/png": "[encoded data removed]",
      "text/plain": [
       "<Figure size 432x288 with 1 Axes>"
      ]
     },
     "metadata": {},
     "output_type": "display_data"
    }
   ],
   "source": [
    "plot_importance(xgboost2)"
   ]
  },
  {
   "cell_type": "markdown",
   "metadata": {},
   "source": [
    "# Second Trial"
   ]
  },
  {
   "cell_type": "code",
   "execution_count": 2,
   "metadata": {},
   "outputs": [],
   "source": [
    "weather2 = pd.read_csv('weatherAUS.csv')"
   ]
  },
  {
   "cell_type": "code",
   "execution_count": 3,
   "metadata": {},
   "outputs": [
    {
     "data": {
      "text/plain": [
       "(142193, 24)"
      ]
     },
     "execution_count": 3,
     "metadata": {},
     "output_type": "execute_result"
    }
   ],
   "source": [
    "weather2.shape"
   ]
  },
  {
   "cell_type": "code",
   "execution_count": 4,
   "metadata": {},
   "outputs": [
    {
     "data": {
      "text/plain": [
       "Date                 0\n",
       "Location             0\n",
       "MinTemp            637\n",
       "MaxTemp            322\n",
       "Rainfall          1406\n",
       "Evaporation      60843\n",
       "Sunshine         67816\n",
       "WindGustDir       9330\n",
       "WindGustSpeed     9270\n",
       "WindDir9am       10013\n",
       "WindDir3pm        3778\n",
       "WindSpeed9am      1348\n",
       "WindSpeed3pm      2630\n",
       "Humidity9am       1774\n",
       "Humidity3pm       3610\n",
       "Pressure9am      14014\n",
       "Pressure3pm      13981\n",
       "Cloud9am         53657\n",
       "Cloud3pm         57094\n",
       "Temp9am            904\n",
       "Temp3pm           2726\n",
       "RainToday         1406\n",
       "RISK_MM              0\n",
       "RainTomorrow         0\n",
       "dtype: int64"
      ]
     },
     "execution_count": 4,
     "metadata": {},
     "output_type": "execute_result"
    }
   ],
   "source": [
    "weather2.isna().sum()"
   ]
  },
  {
   "cell_type": "code",
   "execution_count": 5,
   "metadata": {},
   "outputs": [],
   "source": [
    "weather2.drop(['RISK_MM', 'Date'],axis =1, inplace = True)"
   ]
  },
  {
   "cell_type": "markdown",
   "metadata": {},
   "source": [
    "### Find Features with higher correlations"
   ]
  },
  {
   "cell_type": "code",
   "execution_count": 6,
   "metadata": {},
   "outputs": [
    {
     "data": {
      "text/html": [
       "<div>\n",
       "<style scoped>\n",
       "    .dataframe tbody tr th:only-of-type {\n",
       "        vertical-align: middle;\n",
       "    }\n",
       "\n",
       "    .dataframe tbody tr th {\n",
       "        vertical-align: top;\n",
       "    }\n",
       "\n",
       "    .dataframe thead th {\n",
       "        text-align: right;\n",
       "    }\n",
       "</style>\n",
       "<table border=\"1\" class=\"dataframe\">\n",
       "  <thead>\n",
       "    <tr style=\"text-align: right;\">\n",
       "      <th></th>\n",
       "      <th>MinTemp</th>\n",
       "      <th>MaxTemp</th>\n",
       "      <th>Rainfall</th>\n",
       "      <th>Evaporation</th>\n",
       "      <th>Sunshine</th>\n",
       "      <th>WindGustSpeed</th>\n",
       "      <th>WindSpeed9am</th>\n",
       "      <th>WindSpeed3pm</th>\n",
       "      <th>Humidity9am</th>\n",
       "      <th>Humidity3pm</th>\n",
       "      <th>Pressure9am</th>\n",
       "      <th>Pressure3pm</th>\n",
       "      <th>Cloud9am</th>\n",
       "      <th>Cloud3pm</th>\n",
       "      <th>Temp9am</th>\n",
       "      <th>Temp3pm</th>\n",
       "      <th>RainTomorrow</th>\n",
       "    </tr>\n",
       "  </thead>\n",
       "  <tbody>\n",
       "    <tr>\n",
       "      <th>MinTemp</th>\n",
       "      <td>1.000000</td>\n",
       "      <td>0.736267</td>\n",
       "      <td>0.104255</td>\n",
       "      <td>0.467261</td>\n",
       "      <td>0.072961</td>\n",
       "      <td>0.177285</td>\n",
       "      <td>0.176005</td>\n",
       "      <td>0.175749</td>\n",
       "      <td>-0.234211</td>\n",
       "      <td>0.005999</td>\n",
       "      <td>-0.451260</td>\n",
       "      <td>-0.461623</td>\n",
       "      <td>0.077625</td>\n",
       "      <td>0.020489</td>\n",
       "      <td>0.901813</td>\n",
       "      <td>0.708865</td>\n",
       "      <td>0.083936</td>\n",
       "    </tr>\n",
       "    <tr>\n",
       "      <th>MaxTemp</th>\n",
       "      <td>0.736267</td>\n",
       "      <td>1.000000</td>\n",
       "      <td>-0.074839</td>\n",
       "      <td>0.588915</td>\n",
       "      <td>0.469967</td>\n",
       "      <td>0.067690</td>\n",
       "      <td>0.014680</td>\n",
       "      <td>0.050800</td>\n",
       "      <td>-0.505432</td>\n",
       "      <td>-0.509270</td>\n",
       "      <td>-0.332293</td>\n",
       "      <td>-0.427279</td>\n",
       "      <td>-0.289865</td>\n",
       "      <td>-0.279053</td>\n",
       "      <td>0.887020</td>\n",
       "      <td>0.984562</td>\n",
       "      <td>-0.159237</td>\n",
       "    </tr>\n",
       "    <tr>\n",
       "      <th>Rainfall</th>\n",
       "      <td>0.104255</td>\n",
       "      <td>-0.074839</td>\n",
       "      <td>1.000000</td>\n",
       "      <td>-0.064549</td>\n",
       "      <td>-0.227525</td>\n",
       "      <td>0.133497</td>\n",
       "      <td>0.086816</td>\n",
       "      <td>0.057759</td>\n",
       "      <td>0.223725</td>\n",
       "      <td>0.255312</td>\n",
       "      <td>-0.168085</td>\n",
       "      <td>-0.126728</td>\n",
       "      <td>0.198195</td>\n",
       "      <td>0.171993</td>\n",
       "      <td>0.011477</td>\n",
       "      <td>-0.079178</td>\n",
       "      <td>0.239032</td>\n",
       "    </tr>\n",
       "    <tr>\n",
       "      <th>Evaporation</th>\n",
       "      <td>0.467261</td>\n",
       "      <td>0.588915</td>\n",
       "      <td>-0.064549</td>\n",
       "      <td>1.000000</td>\n",
       "      <td>0.366607</td>\n",
       "      <td>0.203001</td>\n",
       "      <td>0.193936</td>\n",
       "      <td>0.128895</td>\n",
       "      <td>-0.505890</td>\n",
       "      <td>-0.392785</td>\n",
       "      <td>-0.269907</td>\n",
       "      <td>-0.293160</td>\n",
       "      <td>-0.185032</td>\n",
       "      <td>-0.184287</td>\n",
       "      <td>0.545497</td>\n",
       "      <td>0.574275</td>\n",
       "      <td>-0.119285</td>\n",
       "    </tr>\n",
       "    <tr>\n",
       "      <th>Sunshine</th>\n",
       "      <td>0.072961</td>\n",
       "      <td>0.469967</td>\n",
       "      <td>-0.227525</td>\n",
       "      <td>0.366607</td>\n",
       "      <td>1.000000</td>\n",
       "      <td>-0.032831</td>\n",
       "      <td>0.008040</td>\n",
       "      <td>0.056012</td>\n",
       "      <td>-0.491603</td>\n",
       "      <td>-0.629122</td>\n",
       "      <td>0.040959</td>\n",
       "      <td>-0.020464</td>\n",
       "      <td>-0.675610</td>\n",
       "      <td>-0.704202</td>\n",
       "      <td>0.291139</td>\n",
       "      <td>0.490180</td>\n",
       "      <td>-0.450768</td>\n",
       "    </tr>\n",
       "    <tr>\n",
       "      <th>WindGustSpeed</th>\n",
       "      <td>0.177285</td>\n",
       "      <td>0.067690</td>\n",
       "      <td>0.133497</td>\n",
       "      <td>0.203001</td>\n",
       "      <td>-0.032831</td>\n",
       "      <td>1.000000</td>\n",
       "      <td>0.604837</td>\n",
       "      <td>0.686419</td>\n",
       "      <td>-0.215461</td>\n",
       "      <td>-0.026663</td>\n",
       "      <td>-0.457891</td>\n",
       "      <td>-0.412922</td>\n",
       "      <td>0.071235</td>\n",
       "      <td>0.109088</td>\n",
       "      <td>0.150258</td>\n",
       "      <td>0.032970</td>\n",
       "      <td>0.234010</td>\n",
       "    </tr>\n",
       "    <tr>\n",
       "      <th>WindSpeed9am</th>\n",
       "      <td>0.176005</td>\n",
       "      <td>0.014680</td>\n",
       "      <td>0.086816</td>\n",
       "      <td>0.193936</td>\n",
       "      <td>0.008040</td>\n",
       "      <td>0.604837</td>\n",
       "      <td>1.000000</td>\n",
       "      <td>0.519971</td>\n",
       "      <td>-0.270807</td>\n",
       "      <td>-0.031607</td>\n",
       "      <td>-0.227923</td>\n",
       "      <td>-0.174916</td>\n",
       "      <td>0.024280</td>\n",
       "      <td>0.053584</td>\n",
       "      <td>0.129298</td>\n",
       "      <td>0.005108</td>\n",
       "      <td>0.090995</td>\n",
       "    </tr>\n",
       "    <tr>\n",
       "      <th>WindSpeed3pm</th>\n",
       "      <td>0.175749</td>\n",
       "      <td>0.050800</td>\n",
       "      <td>0.057759</td>\n",
       "      <td>0.128895</td>\n",
       "      <td>0.056012</td>\n",
       "      <td>0.686419</td>\n",
       "      <td>0.519971</td>\n",
       "      <td>1.000000</td>\n",
       "      <td>-0.145942</td>\n",
       "      <td>0.015903</td>\n",
       "      <td>-0.295567</td>\n",
       "      <td>-0.254988</td>\n",
       "      <td>0.052780</td>\n",
       "      <td>0.025269</td>\n",
       "      <td>0.163601</td>\n",
       "      <td>0.028567</td>\n",
       "      <td>0.087817</td>\n",
       "    </tr>\n",
       "    <tr>\n",
       "      <th>Humidity9am</th>\n",
       "      <td>-0.234211</td>\n",
       "      <td>-0.505432</td>\n",
       "      <td>0.223725</td>\n",
       "      <td>-0.505890</td>\n",
       "      <td>-0.491603</td>\n",
       "      <td>-0.215461</td>\n",
       "      <td>-0.270807</td>\n",
       "      <td>-0.145942</td>\n",
       "      <td>1.000000</td>\n",
       "      <td>0.667388</td>\n",
       "      <td>0.139519</td>\n",
       "      <td>0.186955</td>\n",
       "      <td>0.452182</td>\n",
       "      <td>0.358043</td>\n",
       "      <td>-0.472826</td>\n",
       "      <td>-0.499777</td>\n",
       "      <td>0.257161</td>\n",
       "    </tr>\n",
       "    <tr>\n",
       "      <th>Humidity3pm</th>\n",
       "      <td>0.005999</td>\n",
       "      <td>-0.509270</td>\n",
       "      <td>0.255312</td>\n",
       "      <td>-0.392785</td>\n",
       "      <td>-0.629122</td>\n",
       "      <td>-0.026663</td>\n",
       "      <td>-0.031607</td>\n",
       "      <td>0.015903</td>\n",
       "      <td>0.667388</td>\n",
       "      <td>1.000000</td>\n",
       "      <td>-0.027449</td>\n",
       "      <td>0.051840</td>\n",
       "      <td>0.517037</td>\n",
       "      <td>0.523270</td>\n",
       "      <td>-0.221467</td>\n",
       "      <td>-0.557989</td>\n",
       "      <td>0.446160</td>\n",
       "    </tr>\n",
       "    <tr>\n",
       "      <th>Pressure9am</th>\n",
       "      <td>-0.451260</td>\n",
       "      <td>-0.332293</td>\n",
       "      <td>-0.168085</td>\n",
       "      <td>-0.269907</td>\n",
       "      <td>0.040959</td>\n",
       "      <td>-0.457891</td>\n",
       "      <td>-0.227923</td>\n",
       "      <td>-0.295567</td>\n",
       "      <td>0.139519</td>\n",
       "      <td>-0.027449</td>\n",
       "      <td>1.000000</td>\n",
       "      <td>0.961348</td>\n",
       "      <td>-0.130081</td>\n",
       "      <td>-0.148139</td>\n",
       "      <td>-0.422773</td>\n",
       "      <td>-0.287301</td>\n",
       "      <td>-0.246371</td>\n",
       "    </tr>\n",
       "    <tr>\n",
       "      <th>Pressure3pm</th>\n",
       "      <td>-0.461623</td>\n",
       "      <td>-0.427279</td>\n",
       "      <td>-0.126728</td>\n",
       "      <td>-0.293160</td>\n",
       "      <td>-0.020464</td>\n",
       "      <td>-0.412922</td>\n",
       "      <td>-0.174916</td>\n",
       "      <td>-0.254988</td>\n",
       "      <td>0.186955</td>\n",
       "      <td>0.051840</td>\n",
       "      <td>0.961348</td>\n",
       "      <td>1.000000</td>\n",
       "      <td>-0.061152</td>\n",
       "      <td>-0.084963</td>\n",
       "      <td>-0.470325</td>\n",
       "      <td>-0.389863</td>\n",
       "      <td>-0.226031</td>\n",
       "    </tr>\n",
       "    <tr>\n",
       "      <th>Cloud9am</th>\n",
       "      <td>0.077625</td>\n",
       "      <td>-0.289865</td>\n",
       "      <td>0.198195</td>\n",
       "      <td>-0.185032</td>\n",
       "      <td>-0.675610</td>\n",
       "      <td>0.071235</td>\n",
       "      <td>0.024280</td>\n",
       "      <td>0.052780</td>\n",
       "      <td>0.452182</td>\n",
       "      <td>0.517037</td>\n",
       "      <td>-0.130081</td>\n",
       "      <td>-0.061152</td>\n",
       "      <td>1.000000</td>\n",
       "      <td>0.604118</td>\n",
       "      <td>-0.137843</td>\n",
       "      <td>-0.302520</td>\n",
       "      <td>0.317380</td>\n",
       "    </tr>\n",
       "    <tr>\n",
       "      <th>Cloud3pm</th>\n",
       "      <td>0.020489</td>\n",
       "      <td>-0.279053</td>\n",
       "      <td>0.171993</td>\n",
       "      <td>-0.184287</td>\n",
       "      <td>-0.704202</td>\n",
       "      <td>0.109088</td>\n",
       "      <td>0.053584</td>\n",
       "      <td>0.025269</td>\n",
       "      <td>0.358043</td>\n",
       "      <td>0.523270</td>\n",
       "      <td>-0.148139</td>\n",
       "      <td>-0.084963</td>\n",
       "      <td>0.604118</td>\n",
       "      <td>1.000000</td>\n",
       "      <td>-0.127869</td>\n",
       "      <td>-0.318254</td>\n",
       "      <td>0.381870</td>\n",
       "    </tr>\n",
       "    <tr>\n",
       "      <th>Temp9am</th>\n",
       "      <td>0.901813</td>\n",
       "      <td>0.887020</td>\n",
       "      <td>0.011477</td>\n",
       "      <td>0.545497</td>\n",
       "      <td>0.291139</td>\n",
       "      <td>0.150258</td>\n",
       "      <td>0.129298</td>\n",
       "      <td>0.163601</td>\n",
       "      <td>-0.472826</td>\n",
       "      <td>-0.221467</td>\n",
       "      <td>-0.422773</td>\n",
       "      <td>-0.470325</td>\n",
       "      <td>-0.137843</td>\n",
       "      <td>-0.127869</td>\n",
       "      <td>1.000000</td>\n",
       "      <td>0.860574</td>\n",
       "      <td>-0.025691</td>\n",
       "    </tr>\n",
       "    <tr>\n",
       "      <th>Temp3pm</th>\n",
       "      <td>0.708865</td>\n",
       "      <td>0.984562</td>\n",
       "      <td>-0.079178</td>\n",
       "      <td>0.574275</td>\n",
       "      <td>0.490180</td>\n",
       "      <td>0.032970</td>\n",
       "      <td>0.005108</td>\n",
       "      <td>0.028567</td>\n",
       "      <td>-0.499777</td>\n",
       "      <td>-0.557989</td>\n",
       "      <td>-0.287301</td>\n",
       "      <td>-0.389863</td>\n",
       "      <td>-0.302520</td>\n",
       "      <td>-0.318254</td>\n",
       "      <td>0.860574</td>\n",
       "      <td>1.000000</td>\n",
       "      <td>-0.192424</td>\n",
       "    </tr>\n",
       "    <tr>\n",
       "      <th>RainTomorrow</th>\n",
       "      <td>0.083936</td>\n",
       "      <td>-0.159237</td>\n",
       "      <td>0.239032</td>\n",
       "      <td>-0.119285</td>\n",
       "      <td>-0.450768</td>\n",
       "      <td>0.234010</td>\n",
       "      <td>0.090995</td>\n",
       "      <td>0.087817</td>\n",
       "      <td>0.257161</td>\n",
       "      <td>0.446160</td>\n",
       "      <td>-0.246371</td>\n",
       "      <td>-0.226031</td>\n",
       "      <td>0.317380</td>\n",
       "      <td>0.381870</td>\n",
       "      <td>-0.025691</td>\n",
       "      <td>-0.192424</td>\n",
       "      <td>1.000000</td>\n",
       "    </tr>\n",
       "  </tbody>\n",
       "</table>\n",
       "</div>"
      ],
      "text/plain": [
       "                MinTemp   MaxTemp  Rainfall  Evaporation  Sunshine  \\\n",
       "MinTemp        1.000000  0.736267  0.104255     0.467261  0.072961   \n",
       "MaxTemp        0.736267  1.000000 -0.074839     0.588915  0.469967   \n",
       "Rainfall       0.104255 -0.074839  1.000000    -0.064549 -0.227525   \n",
       "Evaporation    0.467261  0.588915 -0.064549     1.000000  0.366607   \n",
       "Sunshine       0.072961  0.469967 -0.227525     0.366607  1.000000   \n",
       "WindGustSpeed  0.177285  0.067690  0.133497     0.203001 -0.032831   \n",
       "WindSpeed9am   0.176005  0.014680  0.086816     0.193936  0.008040   \n",
       "WindSpeed3pm   0.175749  0.050800  0.057759     0.128895  0.056012   \n",
       "Humidity9am   -0.234211 -0.505432  0.223725    -0.505890 -0.491603   \n",
       "Humidity3pm    0.005999 -0.509270  0.255312    -0.392785 -0.629122   \n",
       "Pressure9am   -0.451260 -0.332293 -0.168085    -0.269907  0.040959   \n",
       "Pressure3pm   -0.461623 -0.427279 -0.126728    -0.293160 -0.020464   \n",
       "Cloud9am       0.077625 -0.289865  0.198195    -0.185032 -0.675610   \n",
       "Cloud3pm       0.020489 -0.279053  0.171993    -0.184287 -0.704202   \n",
       "Temp9am        0.901813  0.887020  0.011477     0.545497  0.291139   \n",
       "Temp3pm        0.708865  0.984562 -0.079178     0.574275  0.490180   \n",
       "RainTomorrow   0.083936 -0.159237  0.239032    -0.119285 -0.450768   \n",
       "\n",
       "               WindGustSpeed  WindSpeed9am  WindSpeed3pm  Humidity9am  \\\n",
       "MinTemp             0.177285      0.176005      0.175749    -0.234211   \n",
       "MaxTemp             0.067690      0.014680      0.050800    -0.505432   \n",
       "Rainfall            0.133497      0.086816      0.057759     0.223725   \n",
       "Evaporation         0.203001      0.193936      0.128895    -0.505890   \n",
       "Sunshine           -0.032831      0.008040      0.056012    -0.491603   \n",
       "WindGustSpeed       1.000000      0.604837      0.686419    -0.215461   \n",
       "WindSpeed9am        0.604837      1.000000      0.519971    -0.270807   \n",
       "WindSpeed3pm        0.686419      0.519971      1.000000    -0.145942   \n",
       "Humidity9am        -0.215461     -0.270807     -0.145942     1.000000   \n",
       "Humidity3pm        -0.026663     -0.031607      0.015903     0.667388   \n",
       "Pressure9am        -0.457891     -0.227923     -0.295567     0.139519   \n",
       "Pressure3pm        -0.412922     -0.174916     -0.254988     0.186955   \n",
       "Cloud9am            0.071235      0.024280      0.052780     0.452182   \n",
       "Cloud3pm            0.109088      0.053584      0.025269     0.358043   \n",
       "Temp9am             0.150258      0.129298      0.163601    -0.472826   \n",
       "Temp3pm             0.032970      0.005108      0.028567    -0.499777   \n",
       "RainTomorrow        0.234010      0.090995      0.087817     0.257161   \n",
       "\n",
       "               Humidity3pm  Pressure9am  Pressure3pm  Cloud9am  Cloud3pm  \\\n",
       "MinTemp           0.005999    -0.451260    -0.461623  0.077625  0.020489   \n",
       "MaxTemp          -0.509270    -0.332293    -0.427279 -0.289865 -0.279053   \n",
       "Rainfall          0.255312    -0.168085    -0.126728  0.198195  0.171993   \n",
       "Evaporation      -0.392785    -0.269907    -0.293160 -0.185032 -0.184287   \n",
       "Sunshine         -0.629122     0.040959    -0.020464 -0.675610 -0.704202   \n",
       "WindGustSpeed    -0.026663    -0.457891    -0.412922  0.071235  0.109088   \n",
       "WindSpeed9am     -0.031607    -0.227923    -0.174916  0.024280  0.053584   \n",
       "WindSpeed3pm      0.015903    -0.295567    -0.254988  0.052780  0.025269   \n",
       "Humidity9am       0.667388     0.139519     0.186955  0.452182  0.358043   \n",
       "Humidity3pm       1.000000    -0.027449     0.051840  0.517037  0.523270   \n",
       "Pressure9am      -0.027449     1.000000     0.961348 -0.130081 -0.148139   \n",
       "Pressure3pm       0.051840     0.961348     1.000000 -0.061152 -0.084963   \n",
       "Cloud9am          0.517037    -0.130081    -0.061152  1.000000  0.604118   \n",
       "Cloud3pm          0.523270    -0.148139    -0.084963  0.604118  1.000000   \n",
       "Temp9am          -0.221467    -0.422773    -0.470325 -0.137843 -0.127869   \n",
       "Temp3pm          -0.557989    -0.287301    -0.389863 -0.302520 -0.318254   \n",
       "RainTomorrow      0.446160    -0.246371    -0.226031  0.317380  0.381870   \n",
       "\n",
       "                Temp9am   Temp3pm  RainTomorrow  \n",
       "MinTemp        0.901813  0.708865      0.083936  \n",
       "MaxTemp        0.887020  0.984562     -0.159237  \n",
       "Rainfall       0.011477 -0.079178      0.239032  \n",
       "Evaporation    0.545497  0.574275     -0.119285  \n",
       "Sunshine       0.291139  0.490180     -0.450768  \n",
       "WindGustSpeed  0.150258  0.032970      0.234010  \n",
       "WindSpeed9am   0.129298  0.005108      0.090995  \n",
       "WindSpeed3pm   0.163601  0.028567      0.087817  \n",
       "Humidity9am   -0.472826 -0.499777      0.257161  \n",
       "Humidity3pm   -0.221467 -0.557989      0.446160  \n",
       "Pressure9am   -0.422773 -0.287301     -0.246371  \n",
       "Pressure3pm   -0.470325 -0.389863     -0.226031  \n",
       "Cloud9am      -0.137843 -0.302520      0.317380  \n",
       "Cloud3pm      -0.127869 -0.318254      0.381870  \n",
       "Temp9am        1.000000  0.860574     -0.025691  \n",
       "Temp3pm        0.860574  1.000000     -0.192424  \n",
       "RainTomorrow  -0.025691 -0.192424      1.000000  "
      ]
     },
     "execution_count": 6,
     "metadata": {},
     "output_type": "execute_result"
    }
   ],
   "source": [
    "weather2['RainTomorrow'] = LabelBinarizer().fit_transform(weather2.RainTomorrow)\n",
    "corr = weather2.corr(method = 'pearson')\n",
    "corr"
   ]
  },
  {
   "cell_type": "code",
   "execution_count": 7,
   "metadata": {},
   "outputs": [
    {
     "data": {
      "text/html": [
       "<div>\n",
       "<style scoped>\n",
       "    .dataframe tbody tr th:only-of-type {\n",
       "        vertical-align: middle;\n",
       "    }\n",
       "\n",
       "    .dataframe tbody tr th {\n",
       "        vertical-align: top;\n",
       "    }\n",
       "\n",
       "    .dataframe thead th {\n",
       "        text-align: right;\n",
       "    }\n",
       "</style>\n",
       "<table border=\"1\" class=\"dataframe\">\n",
       "  <thead>\n",
       "    <tr style=\"text-align: right;\">\n",
       "      <th></th>\n",
       "      <th>Location</th>\n",
       "      <th>Rainfall</th>\n",
       "      <th>Sunshine</th>\n",
       "      <th>WindGustDir</th>\n",
       "      <th>WindDir9am</th>\n",
       "      <th>WindDir3pm</th>\n",
       "      <th>Humidity9am</th>\n",
       "      <th>Humidity3pm</th>\n",
       "      <th>Pressure9am</th>\n",
       "      <th>Cloud9am</th>\n",
       "      <th>Cloud3pm</th>\n",
       "      <th>RainToday</th>\n",
       "      <th>RainTomorrow</th>\n",
       "    </tr>\n",
       "  </thead>\n",
       "  <tbody>\n",
       "    <tr>\n",
       "      <th>0</th>\n",
       "      <td>Albury</td>\n",
       "      <td>0.6</td>\n",
       "      <td>NaN</td>\n",
       "      <td>W</td>\n",
       "      <td>W</td>\n",
       "      <td>WNW</td>\n",
       "      <td>71.0</td>\n",
       "      <td>22.0</td>\n",
       "      <td>1007.7</td>\n",
       "      <td>8.0</td>\n",
       "      <td>NaN</td>\n",
       "      <td>No</td>\n",
       "      <td>0</td>\n",
       "    </tr>\n",
       "    <tr>\n",
       "      <th>1</th>\n",
       "      <td>Albury</td>\n",
       "      <td>0.0</td>\n",
       "      <td>NaN</td>\n",
       "      <td>WNW</td>\n",
       "      <td>NNW</td>\n",
       "      <td>WSW</td>\n",
       "      <td>44.0</td>\n",
       "      <td>25.0</td>\n",
       "      <td>1010.6</td>\n",
       "      <td>NaN</td>\n",
       "      <td>NaN</td>\n",
       "      <td>No</td>\n",
       "      <td>0</td>\n",
       "    </tr>\n",
       "    <tr>\n",
       "      <th>2</th>\n",
       "      <td>Albury</td>\n",
       "      <td>0.0</td>\n",
       "      <td>NaN</td>\n",
       "      <td>WSW</td>\n",
       "      <td>W</td>\n",
       "      <td>WSW</td>\n",
       "      <td>38.0</td>\n",
       "      <td>30.0</td>\n",
       "      <td>1007.6</td>\n",
       "      <td>NaN</td>\n",
       "      <td>2.0</td>\n",
       "      <td>No</td>\n",
       "      <td>0</td>\n",
       "    </tr>\n",
       "    <tr>\n",
       "      <th>3</th>\n",
       "      <td>Albury</td>\n",
       "      <td>0.0</td>\n",
       "      <td>NaN</td>\n",
       "      <td>NE</td>\n",
       "      <td>SE</td>\n",
       "      <td>E</td>\n",
       "      <td>45.0</td>\n",
       "      <td>16.0</td>\n",
       "      <td>1017.6</td>\n",
       "      <td>NaN</td>\n",
       "      <td>NaN</td>\n",
       "      <td>No</td>\n",
       "      <td>0</td>\n",
       "    </tr>\n",
       "    <tr>\n",
       "      <th>4</th>\n",
       "      <td>Albury</td>\n",
       "      <td>1.0</td>\n",
       "      <td>NaN</td>\n",
       "      <td>W</td>\n",
       "      <td>ENE</td>\n",
       "      <td>NW</td>\n",
       "      <td>82.0</td>\n",
       "      <td>33.0</td>\n",
       "      <td>1010.8</td>\n",
       "      <td>7.0</td>\n",
       "      <td>8.0</td>\n",
       "      <td>No</td>\n",
       "      <td>0</td>\n",
       "    </tr>\n",
       "  </tbody>\n",
       "</table>\n",
       "</div>"
      ],
      "text/plain": [
       "  Location  Rainfall  Sunshine WindGustDir WindDir9am WindDir3pm  Humidity9am  \\\n",
       "0   Albury       0.6       NaN           W          W        WNW         71.0   \n",
       "1   Albury       0.0       NaN         WNW        NNW        WSW         44.0   \n",
       "2   Albury       0.0       NaN         WSW          W        WSW         38.0   \n",
       "3   Albury       0.0       NaN          NE         SE          E         45.0   \n",
       "4   Albury       1.0       NaN           W        ENE         NW         82.0   \n",
       "\n",
       "   Humidity3pm  Pressure9am  Cloud9am  Cloud3pm RainToday  RainTomorrow  \n",
       "0         22.0       1007.7       8.0       NaN        No             0  \n",
       "1         25.0       1010.6       NaN       NaN        No             0  \n",
       "2         30.0       1007.6       NaN       2.0        No             0  \n",
       "3         16.0       1017.6       NaN       NaN        No             0  \n",
       "4         33.0       1010.8       7.0       8.0        No             0  "
      ]
     },
     "metadata": {},
     "output_type": "display_data"
    }
   ],
   "source": [
    "new_weather = weather2.drop(['MinTemp', 'MaxTemp','Evaporation', 'WindSpeed9am', 'WindSpeed3pm', 'Temp9am', 'Temp3pm', 'Pressure3pm', 'WindGustSpeed'], axis =1)\n",
    "# display(new_weather[(abs(corr['Sunshine']) >= 0.5) & (abs(corr['Sunshine']) < 1)])\n",
    "display(new_weather.head())\n",
    "corr\n",
    "#combine sunshine + humidity9pm + humidity3pm + cloud9am + cloud3pm\n",
    "#pressure9am + pressure 3pm\n",
    "ls = corr.drop(['MinTemp', 'MaxTemp','Evaporation', 'WindSpeed9am', 'WindSpeed3pm', 'Temp9am', 'Temp3pm'], axis =1)"
   ]
  },
  {
   "cell_type": "code",
   "execution_count": 8,
   "metadata": {},
   "outputs": [
    {
     "data": {
      "text/html": [
       "<div>\n",
       "<style scoped>\n",
       "    .dataframe tbody tr th:only-of-type {\n",
       "        vertical-align: middle;\n",
       "    }\n",
       "\n",
       "    .dataframe tbody tr th {\n",
       "        vertical-align: top;\n",
       "    }\n",
       "\n",
       "    .dataframe thead th {\n",
       "        text-align: right;\n",
       "    }\n",
       "</style>\n",
       "<table border=\"1\" class=\"dataframe\">\n",
       "  <thead>\n",
       "    <tr style=\"text-align: right;\">\n",
       "      <th></th>\n",
       "      <th>index</th>\n",
       "      <th>RainTomorrow</th>\n",
       "    </tr>\n",
       "  </thead>\n",
       "  <tbody>\n",
       "    <tr>\n",
       "      <th>0</th>\n",
       "      <td>Sunshine</td>\n",
       "      <td>-0.450768</td>\n",
       "    </tr>\n",
       "    <tr>\n",
       "      <th>1</th>\n",
       "      <td>Humidity9am</td>\n",
       "      <td>0.257161</td>\n",
       "    </tr>\n",
       "    <tr>\n",
       "      <th>2</th>\n",
       "      <td>Humidity3pm</td>\n",
       "      <td>0.446160</td>\n",
       "    </tr>\n",
       "    <tr>\n",
       "      <th>3</th>\n",
       "      <td>Cloud9am</td>\n",
       "      <td>0.317380</td>\n",
       "    </tr>\n",
       "    <tr>\n",
       "      <th>4</th>\n",
       "      <td>Cloud3pm</td>\n",
       "      <td>0.381870</td>\n",
       "    </tr>\n",
       "  </tbody>\n",
       "</table>\n",
       "</div>"
      ],
      "text/plain": [
       "         index  RainTomorrow\n",
       "0     Sunshine     -0.450768\n",
       "1  Humidity9am      0.257161\n",
       "2  Humidity3pm      0.446160\n",
       "3     Cloud9am      0.317380\n",
       "4     Cloud3pm      0.381870"
      ]
     },
     "execution_count": 8,
     "metadata": {},
     "output_type": "execute_result"
    }
   ],
   "source": [
    "weight = corr.loc['RainTomorrow',['Sunshine','Humidity9am','Humidity3pm','Cloud9am','Cloud3pm']].reset_index()\n",
    "weight"
   ]
  },
  {
   "cell_type": "code",
   "execution_count": 9,
   "metadata": {},
   "outputs": [
    {
     "data": {
      "text/html": [
       "<div>\n",
       "<style scoped>\n",
       "    .dataframe tbody tr th:only-of-type {\n",
       "        vertical-align: middle;\n",
       "    }\n",
       "\n",
       "    .dataframe tbody tr th {\n",
       "        vertical-align: top;\n",
       "    }\n",
       "\n",
       "    .dataframe thead th {\n",
       "        text-align: right;\n",
       "    }\n",
       "</style>\n",
       "<table border=\"1\" class=\"dataframe\">\n",
       "  <thead>\n",
       "    <tr style=\"text-align: right;\">\n",
       "      <th></th>\n",
       "      <th>Location</th>\n",
       "      <th>Rainfall</th>\n",
       "      <th>Sunshine</th>\n",
       "      <th>WindGustDir</th>\n",
       "      <th>WindDir9am</th>\n",
       "      <th>WindDir3pm</th>\n",
       "      <th>Humidity9am</th>\n",
       "      <th>Humidity3pm</th>\n",
       "      <th>Pressure9am</th>\n",
       "      <th>Cloud9am</th>\n",
       "      <th>Cloud3pm</th>\n",
       "      <th>RainToday</th>\n",
       "      <th>RainTomorrow</th>\n",
       "    </tr>\n",
       "  </thead>\n",
       "  <tbody>\n",
       "    <tr>\n",
       "      <th>0</th>\n",
       "      <td>Albury</td>\n",
       "      <td>0.6</td>\n",
       "      <td>NaN</td>\n",
       "      <td>W</td>\n",
       "      <td>W</td>\n",
       "      <td>WNW</td>\n",
       "      <td>71.0</td>\n",
       "      <td>22.0</td>\n",
       "      <td>1007.7</td>\n",
       "      <td>8.0</td>\n",
       "      <td>NaN</td>\n",
       "      <td>No</td>\n",
       "      <td>0</td>\n",
       "    </tr>\n",
       "    <tr>\n",
       "      <th>1</th>\n",
       "      <td>Albury</td>\n",
       "      <td>0.0</td>\n",
       "      <td>NaN</td>\n",
       "      <td>WNW</td>\n",
       "      <td>NNW</td>\n",
       "      <td>WSW</td>\n",
       "      <td>44.0</td>\n",
       "      <td>25.0</td>\n",
       "      <td>1010.6</td>\n",
       "      <td>NaN</td>\n",
       "      <td>NaN</td>\n",
       "      <td>No</td>\n",
       "      <td>0</td>\n",
       "    </tr>\n",
       "    <tr>\n",
       "      <th>2</th>\n",
       "      <td>Albury</td>\n",
       "      <td>0.0</td>\n",
       "      <td>NaN</td>\n",
       "      <td>WSW</td>\n",
       "      <td>W</td>\n",
       "      <td>WSW</td>\n",
       "      <td>38.0</td>\n",
       "      <td>30.0</td>\n",
       "      <td>1007.6</td>\n",
       "      <td>NaN</td>\n",
       "      <td>2.0</td>\n",
       "      <td>No</td>\n",
       "      <td>0</td>\n",
       "    </tr>\n",
       "    <tr>\n",
       "      <th>3</th>\n",
       "      <td>Albury</td>\n",
       "      <td>0.0</td>\n",
       "      <td>NaN</td>\n",
       "      <td>NE</td>\n",
       "      <td>SE</td>\n",
       "      <td>E</td>\n",
       "      <td>45.0</td>\n",
       "      <td>16.0</td>\n",
       "      <td>1017.6</td>\n",
       "      <td>NaN</td>\n",
       "      <td>NaN</td>\n",
       "      <td>No</td>\n",
       "      <td>0</td>\n",
       "    </tr>\n",
       "    <tr>\n",
       "      <th>4</th>\n",
       "      <td>Albury</td>\n",
       "      <td>1.0</td>\n",
       "      <td>NaN</td>\n",
       "      <td>W</td>\n",
       "      <td>ENE</td>\n",
       "      <td>NW</td>\n",
       "      <td>82.0</td>\n",
       "      <td>33.0</td>\n",
       "      <td>1010.8</td>\n",
       "      <td>7.0</td>\n",
       "      <td>8.0</td>\n",
       "      <td>No</td>\n",
       "      <td>0</td>\n",
       "    </tr>\n",
       "  </tbody>\n",
       "</table>\n",
       "</div>"
      ],
      "text/plain": [
       "  Location  Rainfall  Sunshine WindGustDir WindDir9am WindDir3pm  Humidity9am  \\\n",
       "0   Albury       0.6       NaN           W          W        WNW         71.0   \n",
       "1   Albury       0.0       NaN         WNW        NNW        WSW         44.0   \n",
       "2   Albury       0.0       NaN         WSW          W        WSW         38.0   \n",
       "3   Albury       0.0       NaN          NE         SE          E         45.0   \n",
       "4   Albury       1.0       NaN           W        ENE         NW         82.0   \n",
       "\n",
       "   Humidity3pm  Pressure9am  Cloud9am  Cloud3pm RainToday  RainTomorrow  \n",
       "0         22.0       1007.7       8.0       NaN        No             0  \n",
       "1         25.0       1010.6       NaN       NaN        No             0  \n",
       "2         30.0       1007.6       NaN       2.0        No             0  \n",
       "3         16.0       1017.6       NaN       NaN        No             0  \n",
       "4         33.0       1010.8       7.0       8.0        No             0  "
      ]
     },
     "execution_count": 9,
     "metadata": {},
     "output_type": "execute_result"
    }
   ],
   "source": [
    "new_weather.head()"
   ]
  },
  {
   "cell_type": "code",
   "execution_count": 10,
   "metadata": {},
   "outputs": [],
   "source": [
    "minmax = MinMaxScaler(feature_range = (0,1))\n",
    "columntransformer = ColumnTransformer(transformers = [('ordinal', OrdinalEncoder(),['Location', 'WindGustDir','WindDir9am',\n",
    "                                                                                   'WindDir3pm', 'RainToday'])],remainder = 'passthrough', sparse_threshold = 0)\n",
    "new_weather.dropna(inplace = True)\n"
   ]
  },
  {
   "cell_type": "code",
   "execution_count": 11,
   "metadata": {},
   "outputs": [],
   "source": [
    "x_train_2nd, x_test_2nd, y_train_2nd, y_test_2nd = train_test_split(new_weather.iloc[:,:-1], new_weather.iloc[:,-1],\n",
    "                                                                   test_size = 0.2, random_state = 222)"
   ]
  },
  {
   "cell_type": "code",
   "execution_count": 12,
   "metadata": {},
   "outputs": [
    {
     "data": {
      "text/html": [
       "<div>\n",
       "<style scoped>\n",
       "    .dataframe tbody tr th:only-of-type {\n",
       "        vertical-align: middle;\n",
       "    }\n",
       "\n",
       "    .dataframe tbody tr th {\n",
       "        vertical-align: top;\n",
       "    }\n",
       "\n",
       "    .dataframe thead th {\n",
       "        text-align: right;\n",
       "    }\n",
       "</style>\n",
       "<table border=\"1\" class=\"dataframe\">\n",
       "  <thead>\n",
       "    <tr style=\"text-align: right;\">\n",
       "      <th></th>\n",
       "      <th>Location</th>\n",
       "      <th>Rainfall</th>\n",
       "      <th>Sunshine</th>\n",
       "      <th>WindGustDir</th>\n",
       "      <th>WindDir9am</th>\n",
       "      <th>WindDir3pm</th>\n",
       "      <th>Humidity9am</th>\n",
       "      <th>Humidity3pm</th>\n",
       "      <th>Pressure9am</th>\n",
       "      <th>Cloud9am</th>\n",
       "      <th>Cloud3pm</th>\n",
       "      <th>RainToday</th>\n",
       "    </tr>\n",
       "  </thead>\n",
       "  <tbody>\n",
       "    <tr>\n",
       "      <th>68004</th>\n",
       "      <td>Melbourne</td>\n",
       "      <td>0.0</td>\n",
       "      <td>2.6</td>\n",
       "      <td>SW</td>\n",
       "      <td>ENE</td>\n",
       "      <td>SSW</td>\n",
       "      <td>69.0</td>\n",
       "      <td>74.0</td>\n",
       "      <td>1005.6</td>\n",
       "      <td>6.0</td>\n",
       "      <td>8.0</td>\n",
       "      <td>No</td>\n",
       "    </tr>\n",
       "    <tr>\n",
       "      <th>84711</th>\n",
       "      <td>Brisbane</td>\n",
       "      <td>6.6</td>\n",
       "      <td>10.8</td>\n",
       "      <td>ENE</td>\n",
       "      <td>E</td>\n",
       "      <td>ENE</td>\n",
       "      <td>66.0</td>\n",
       "      <td>58.0</td>\n",
       "      <td>1016.2</td>\n",
       "      <td>5.0</td>\n",
       "      <td>1.0</td>\n",
       "      <td>Yes</td>\n",
       "    </tr>\n",
       "    <tr>\n",
       "      <th>76778</th>\n",
       "      <td>Watsonia</td>\n",
       "      <td>0.0</td>\n",
       "      <td>13.6</td>\n",
       "      <td>SSW</td>\n",
       "      <td>W</td>\n",
       "      <td>WSW</td>\n",
       "      <td>68.0</td>\n",
       "      <td>48.0</td>\n",
       "      <td>1026.5</td>\n",
       "      <td>1.0</td>\n",
       "      <td>1.0</td>\n",
       "      <td>No</td>\n",
       "    </tr>\n",
       "    <tr>\n",
       "      <th>114061</th>\n",
       "      <td>PearceRAAF</td>\n",
       "      <td>0.0</td>\n",
       "      <td>8.4</td>\n",
       "      <td>ESE</td>\n",
       "      <td>S</td>\n",
       "      <td>SSW</td>\n",
       "      <td>83.0</td>\n",
       "      <td>49.0</td>\n",
       "      <td>1025.5</td>\n",
       "      <td>8.0</td>\n",
       "      <td>7.0</td>\n",
       "      <td>No</td>\n",
       "    </tr>\n",
       "    <tr>\n",
       "      <th>100802</th>\n",
       "      <td>Nuriootpa</td>\n",
       "      <td>1.6</td>\n",
       "      <td>5.3</td>\n",
       "      <td>SSE</td>\n",
       "      <td>ENE</td>\n",
       "      <td>ESE</td>\n",
       "      <td>70.0</td>\n",
       "      <td>47.0</td>\n",
       "      <td>1018.6</td>\n",
       "      <td>6.0</td>\n",
       "      <td>4.0</td>\n",
       "      <td>Yes</td>\n",
       "    </tr>\n",
       "  </tbody>\n",
       "</table>\n",
       "</div>"
      ],
      "text/plain": [
       "          Location  Rainfall  Sunshine WindGustDir WindDir9am WindDir3pm  \\\n",
       "68004    Melbourne       0.0       2.6          SW        ENE        SSW   \n",
       "84711     Brisbane       6.6      10.8         ENE          E        ENE   \n",
       "76778     Watsonia       0.0      13.6         SSW          W        WSW   \n",
       "114061  PearceRAAF       0.0       8.4         ESE          S        SSW   \n",
       "100802   Nuriootpa       1.6       5.3         SSE        ENE        ESE   \n",
       "\n",
       "        Humidity9am  Humidity3pm  Pressure9am  Cloud9am  Cloud3pm RainToday  \n",
       "68004          69.0         74.0       1005.6       6.0       8.0        No  \n",
       "84711          66.0         58.0       1016.2       5.0       1.0       Yes  \n",
       "76778          68.0         48.0       1026.5       1.0       1.0        No  \n",
       "114061         83.0         49.0       1025.5       8.0       7.0        No  \n",
       "100802         70.0         47.0       1018.6       6.0       4.0       Yes  "
      ]
     },
     "execution_count": 12,
     "metadata": {},
     "output_type": "execute_result"
    }
   ],
   "source": [
    "x_train_2nd.head()"
   ]
  },
  {
   "cell_type": "markdown",
   "metadata": {},
   "source": [
    "### Combine feartures with higher correlation"
   ]
  },
  {
   "cell_type": "code",
   "execution_count": 13,
   "metadata": {},
   "outputs": [
    {
     "data": {
      "text/html": [
       "<div>\n",
       "<style scoped>\n",
       "    .dataframe tbody tr th:only-of-type {\n",
       "        vertical-align: middle;\n",
       "    }\n",
       "\n",
       "    .dataframe tbody tr th {\n",
       "        vertical-align: top;\n",
       "    }\n",
       "\n",
       "    .dataframe thead th {\n",
       "        text-align: right;\n",
       "    }\n",
       "</style>\n",
       "<table border=\"1\" class=\"dataframe\">\n",
       "  <thead>\n",
       "    <tr style=\"text-align: right;\">\n",
       "      <th></th>\n",
       "      <th>Location</th>\n",
       "      <th>Rainfall</th>\n",
       "      <th>Sunshine</th>\n",
       "      <th>WindGustDir</th>\n",
       "      <th>WindDir9am</th>\n",
       "      <th>WindDir3pm</th>\n",
       "      <th>Humidity9am</th>\n",
       "      <th>Humidity3pm</th>\n",
       "      <th>Pressure9am</th>\n",
       "      <th>Cloud9am</th>\n",
       "      <th>Cloud3pm</th>\n",
       "      <th>RainToday</th>\n",
       "    </tr>\n",
       "  </thead>\n",
       "  <tbody>\n",
       "    <tr>\n",
       "      <th>68004</th>\n",
       "      <td>Melbourne</td>\n",
       "      <td>0.000000</td>\n",
       "      <td>0.181818</td>\n",
       "      <td>SW</td>\n",
       "      <td>ENE</td>\n",
       "      <td>SSW</td>\n",
       "      <td>0.69</td>\n",
       "      <td>0.74</td>\n",
       "      <td>0.419032</td>\n",
       "      <td>0.750</td>\n",
       "      <td>0.888889</td>\n",
       "      <td>No</td>\n",
       "    </tr>\n",
       "    <tr>\n",
       "      <th>84711</th>\n",
       "      <td>Brisbane</td>\n",
       "      <td>0.017954</td>\n",
       "      <td>0.755245</td>\n",
       "      <td>ENE</td>\n",
       "      <td>E</td>\n",
       "      <td>ENE</td>\n",
       "      <td>0.66</td>\n",
       "      <td>0.58</td>\n",
       "      <td>0.595993</td>\n",
       "      <td>0.625</td>\n",
       "      <td>0.111111</td>\n",
       "      <td>Yes</td>\n",
       "    </tr>\n",
       "    <tr>\n",
       "      <th>76778</th>\n",
       "      <td>Watsonia</td>\n",
       "      <td>0.000000</td>\n",
       "      <td>0.951049</td>\n",
       "      <td>SSW</td>\n",
       "      <td>W</td>\n",
       "      <td>WSW</td>\n",
       "      <td>0.68</td>\n",
       "      <td>0.48</td>\n",
       "      <td>0.767947</td>\n",
       "      <td>0.125</td>\n",
       "      <td>0.111111</td>\n",
       "      <td>No</td>\n",
       "    </tr>\n",
       "    <tr>\n",
       "      <th>114061</th>\n",
       "      <td>PearceRAAF</td>\n",
       "      <td>0.000000</td>\n",
       "      <td>0.587413</td>\n",
       "      <td>ESE</td>\n",
       "      <td>S</td>\n",
       "      <td>SSW</td>\n",
       "      <td>0.83</td>\n",
       "      <td>0.49</td>\n",
       "      <td>0.751252</td>\n",
       "      <td>1.000</td>\n",
       "      <td>0.777778</td>\n",
       "      <td>No</td>\n",
       "    </tr>\n",
       "    <tr>\n",
       "      <th>100802</th>\n",
       "      <td>Nuriootpa</td>\n",
       "      <td>0.004353</td>\n",
       "      <td>0.370629</td>\n",
       "      <td>SSE</td>\n",
       "      <td>ENE</td>\n",
       "      <td>ESE</td>\n",
       "      <td>0.70</td>\n",
       "      <td>0.47</td>\n",
       "      <td>0.636060</td>\n",
       "      <td>0.750</td>\n",
       "      <td>0.444444</td>\n",
       "      <td>Yes</td>\n",
       "    </tr>\n",
       "  </tbody>\n",
       "</table>\n",
       "</div>"
      ],
      "text/plain": [
       "          Location  Rainfall  Sunshine WindGustDir WindDir9am WindDir3pm  \\\n",
       "68004    Melbourne  0.000000  0.181818          SW        ENE        SSW   \n",
       "84711     Brisbane  0.017954  0.755245         ENE          E        ENE   \n",
       "76778     Watsonia  0.000000  0.951049         SSW          W        WSW   \n",
       "114061  PearceRAAF  0.000000  0.587413         ESE          S        SSW   \n",
       "100802   Nuriootpa  0.004353  0.370629         SSE        ENE        ESE   \n",
       "\n",
       "        Humidity9am  Humidity3pm  Pressure9am  Cloud9am  Cloud3pm RainToday  \n",
       "68004          0.69         0.74     0.419032     0.750  0.888889        No  \n",
       "84711          0.66         0.58     0.595993     0.625  0.111111       Yes  \n",
       "76778          0.68         0.48     0.767947     0.125  0.111111        No  \n",
       "114061         0.83         0.49     0.751252     1.000  0.777778        No  \n",
       "100802         0.70         0.47     0.636060     0.750  0.444444       Yes  "
      ]
     },
     "metadata": {},
     "output_type": "display_data"
    },
    {
     "data": {
      "text/html": [
       "<div>\n",
       "<style scoped>\n",
       "    .dataframe tbody tr th:only-of-type {\n",
       "        vertical-align: middle;\n",
       "    }\n",
       "\n",
       "    .dataframe tbody tr th {\n",
       "        vertical-align: top;\n",
       "    }\n",
       "\n",
       "    .dataframe thead th {\n",
       "        text-align: right;\n",
       "    }\n",
       "</style>\n",
       "<table border=\"1\" class=\"dataframe\">\n",
       "  <thead>\n",
       "    <tr style=\"text-align: right;\">\n",
       "      <th></th>\n",
       "      <th>Location</th>\n",
       "      <th>Rainfall</th>\n",
       "      <th>WindGustDir</th>\n",
       "      <th>WindDir9am</th>\n",
       "      <th>WindDir3pm</th>\n",
       "      <th>Pressure9am</th>\n",
       "      <th>RainToday</th>\n",
       "      <th>Sunshine_Humidity_Cloudy</th>\n",
       "    </tr>\n",
       "  </thead>\n",
       "  <tbody>\n",
       "    <tr>\n",
       "      <th>68004</th>\n",
       "      <td>Melbourne</td>\n",
       "      <td>0.000000</td>\n",
       "      <td>SW</td>\n",
       "      <td>ENE</td>\n",
       "      <td>SSW</td>\n",
       "      <td>0.419032</td>\n",
       "      <td>No</td>\n",
       "      <td>1.003117</td>\n",
       "    </tr>\n",
       "    <tr>\n",
       "      <th>84711</th>\n",
       "      <td>Brisbane</td>\n",
       "      <td>0.017954</td>\n",
       "      <td>ENE</td>\n",
       "      <td>E</td>\n",
       "      <td>ENE</td>\n",
       "      <td>0.595993</td>\n",
       "      <td>Yes</td>\n",
       "      <td>0.328852</td>\n",
       "    </tr>\n",
       "    <tr>\n",
       "      <th>76778</th>\n",
       "      <td>Watsonia</td>\n",
       "      <td>0.000000</td>\n",
       "      <td>SSW</td>\n",
       "      <td>W</td>\n",
       "      <td>WSW</td>\n",
       "      <td>0.767947</td>\n",
       "      <td>No</td>\n",
       "      <td>0.042427</td>\n",
       "    </tr>\n",
       "    <tr>\n",
       "      <th>114061</th>\n",
       "      <td>PearceRAAF</td>\n",
       "      <td>0.000000</td>\n",
       "      <td>ESE</td>\n",
       "      <td>S</td>\n",
       "      <td>SSW</td>\n",
       "      <td>0.751252</td>\n",
       "      <td>No</td>\n",
       "      <td>0.781666</td>\n",
       "    </tr>\n",
       "    <tr>\n",
       "      <th>100802</th>\n",
       "      <td>Nuriootpa</td>\n",
       "      <td>0.004353</td>\n",
       "      <td>SSE</td>\n",
       "      <td>ENE</td>\n",
       "      <td>ESE</td>\n",
       "      <td>0.636060</td>\n",
       "      <td>Yes</td>\n",
       "      <td>0.630395</td>\n",
       "    </tr>\n",
       "  </tbody>\n",
       "</table>\n",
       "</div>"
      ],
      "text/plain": [
       "          Location  Rainfall WindGustDir WindDir9am WindDir3pm  Pressure9am  \\\n",
       "68004    Melbourne  0.000000          SW        ENE        SSW     0.419032   \n",
       "84711     Brisbane  0.017954         ENE          E        ENE     0.595993   \n",
       "76778     Watsonia  0.000000         SSW          W        WSW     0.767947   \n",
       "114061  PearceRAAF  0.000000         ESE          S        SSW     0.751252   \n",
       "100802   Nuriootpa  0.004353         SSE        ENE        ESE     0.636060   \n",
       "\n",
       "       RainToday  Sunshine_Humidity_Cloudy  \n",
       "68004         No                  1.003117  \n",
       "84711        Yes                  0.328852  \n",
       "76778         No                  0.042427  \n",
       "114061        No                  0.781666  \n",
       "100802       Yes                  0.630395  "
      ]
     },
     "metadata": {},
     "output_type": "display_data"
    }
   ],
   "source": [
    "numerical_features = ['Rainfall', 'Sunshine','Humidity9am','Humidity3pm','Pressure9am', 'Cloud9am','Cloud3pm']\n",
    "#minmax the numerical_features\n",
    "minmax =  MinMaxScaler(feature_range=(0, 1))\n",
    "x_train_2nd[numerical_features] = minmax.fit_transform(x_train_2nd[numerical_features])\n",
    "x_test_2nd[numerical_features] = minmax.transform(x_test_2nd[numerical_features])\n",
    "display(x_train_2nd.head())\n",
    "x_train_2nd['Sunshine_Humidity_Cloudy'] = x_train_2nd['Sunshine'] * weight.iloc[0,1] + x_train_2nd['Humidity9am'] * weight.iloc[1,1] + x_train_2nd['Humidity3pm'] * weight.iloc[2,1] + x_train_2nd['Cloud9am'] * weight.iloc[3,1] + x_train_2nd['Cloud3pm'] * weight.iloc[4,1]\n",
    "# x_train_2nd['Pressure9am3pm'] = x_train_2nd['Pressure9am'] * weight.iloc[5,1] + x_train_2nd['Pressure3pm'] * weight.iloc[6,1] \n",
    "\n",
    "x_test_2nd['Sunshine_Humidity_Cloudy'] = x_test_2nd['Sunshine'] * weight.iloc[0,1] + x_test_2nd['Humidity9am'] * weight.iloc[1,1] + x_test_2nd['Humidity3pm'] * weight.iloc[2,1] + x_test_2nd['Cloud9am'] * weight.iloc[3,1] + x_test_2nd['Cloud3pm'] * weight.iloc[4,1]\n",
    "# x_test_2nd['Pressure9am3pm'] = x_test_2nd['Pressure9am'] * weight.iloc[5,1] + x_test_2nd['Pressure3pm'] * weight.iloc[6,1] \n",
    "\n",
    "x_train_2nd.drop(weight['index'].values, axis = 1, inplace = True)\n",
    "x_test_2nd.drop(weight['index'].values, axis = 1, inplace = True)\n",
    "display(x_train_2nd.head())\n"
   ]
  },
  {
   "cell_type": "code",
   "execution_count": 14,
   "metadata": {},
   "outputs": [
    {
     "data": {
      "text/html": [
       "<div>\n",
       "<style scoped>\n",
       "    .dataframe tbody tr th:only-of-type {\n",
       "        vertical-align: middle;\n",
       "    }\n",
       "\n",
       "    .dataframe tbody tr th {\n",
       "        vertical-align: top;\n",
       "    }\n",
       "\n",
       "    .dataframe thead th {\n",
       "        text-align: right;\n",
       "    }\n",
       "</style>\n",
       "<table border=\"1\" class=\"dataframe\">\n",
       "  <thead>\n",
       "    <tr style=\"text-align: right;\">\n",
       "      <th></th>\n",
       "      <th>Rainfall</th>\n",
       "      <th>Pressure9am</th>\n",
       "      <th>Sunshine_Humidity_Cloudy</th>\n",
       "      <th>RainT</th>\n",
       "    </tr>\n",
       "  </thead>\n",
       "  <tbody>\n",
       "    <tr>\n",
       "      <th>Rainfall</th>\n",
       "      <td>1.000000</td>\n",
       "      <td>-0.174526</td>\n",
       "      <td>0.266374</td>\n",
       "      <td>0.237021</td>\n",
       "    </tr>\n",
       "    <tr>\n",
       "      <th>Pressure9am</th>\n",
       "      <td>-0.174526</td>\n",
       "      <td>1.000000</td>\n",
       "      <td>-0.112679</td>\n",
       "      <td>-0.261025</td>\n",
       "    </tr>\n",
       "    <tr>\n",
       "      <th>Sunshine_Humidity_Cloudy</th>\n",
       "      <td>0.266374</td>\n",
       "      <td>-0.112679</td>\n",
       "      <td>1.000000</td>\n",
       "      <td>0.481280</td>\n",
       "    </tr>\n",
       "    <tr>\n",
       "      <th>RainT</th>\n",
       "      <td>0.237021</td>\n",
       "      <td>-0.261025</td>\n",
       "      <td>0.481280</td>\n",
       "      <td>1.000000</td>\n",
       "    </tr>\n",
       "  </tbody>\n",
       "</table>\n",
       "</div>"
      ],
      "text/plain": [
       "                          Rainfall  Pressure9am  Sunshine_Humidity_Cloudy  \\\n",
       "Rainfall                  1.000000    -0.174526                  0.266374   \n",
       "Pressure9am              -0.174526     1.000000                 -0.112679   \n",
       "Sunshine_Humidity_Cloudy  0.266374    -0.112679                  1.000000   \n",
       "RainT                     0.237021    -0.261025                  0.481280   \n",
       "\n",
       "                             RainT  \n",
       "Rainfall                  0.237021  \n",
       "Pressure9am              -0.261025  \n",
       "Sunshine_Humidity_Cloudy  0.481280  \n",
       "RainT                     1.000000  "
      ]
     },
     "execution_count": 14,
     "metadata": {},
     "output_type": "execute_result"
    }
   ],
   "source": [
    "test = x_train_2nd.copy()\n",
    "test['RainT'] = y_train_2nd\n",
    "test.corr()"
   ]
  },
  {
   "cell_type": "code",
   "execution_count": 15,
   "metadata": {},
   "outputs": [],
   "source": [
    "# x_train_2nd['Sunshine_Humidity_Cloudy_WindGustSpeed'] = x_train_2nd['Sunshine_Humidity_Cloudy'] * 0.481937 + x_train_2nd['WindGustSpeed'] * 0.237568\n",
    "\n",
    "# x_test_2nd['Sunshine_Humidity_Cloudy_WindGustSpeed'] =  x_test_2nd['Sunshine_Humidity_Cloudy'] * 0.481937 + x_test_2nd['WindGustSpeed'] * 0.237568\n",
    "\n",
    "# x_train_2nd.drop(['WindGustSpeed','Sunshine_Humidity_Cloudy'], axis = 1, inplace = True)\n",
    "# x_test_2nd.drop(['WindGustSpeed','Sunshine_Humidity_Cloudy'], axis = 1, inplace = True)\n",
    "# x_train_2nd.head()"
   ]
  },
  {
   "cell_type": "code",
   "execution_count": 16,
   "metadata": {},
   "outputs": [],
   "source": [
    "x_train_2nd = columntransformer.fit_transform(x_train_2nd)\n",
    "x_test_2nd = columntransformer.fit_transform(x_test_2nd)\n",
    "x_train_2nd, y_train_2nd = SMOTE(sampling_strategy='minority').fit_resample(x_train_2nd, y_train_2nd)"
   ]
  },
  {
   "cell_type": "code",
   "execution_count": 17,
   "metadata": {},
   "outputs": [
    {
     "data": {
      "text/plain": [
       "36247"
      ]
     },
     "execution_count": 17,
     "metadata": {},
     "output_type": "execute_result"
    }
   ],
   "source": [
    "y_train_2nd.tolist().count(1)"
   ]
  },
  {
   "cell_type": "code",
   "execution_count": 18,
   "metadata": {},
   "outputs": [
    {
     "data": {
      "text/plain": [
       "(72494, 8)"
      ]
     },
     "execution_count": 18,
     "metadata": {},
     "output_type": "execute_result"
    }
   ],
   "source": [
    "x_train_2nd.shape"
   ]
  },
  {
   "cell_type": "code",
   "execution_count": 19,
   "metadata": {},
   "outputs": [
    {
     "data": {
      "text/plain": [
       "XGBClassifier(base_score=0.5, booster='gbtree', colsample_bylevel=1,\n",
       "              colsample_bynode=1, colsample_bytree=1, gamma=0,\n",
       "              learning_rate=0.1, max_delta_step=0, max_depth=5,\n",
       "              min_child_weight=1, missing=None, n_estimators=350, n_jobs=1,\n",
       "              nthread=None, objective='binary:logistic', random_state=222,\n",
       "              reg_alpha=0, reg_lambda=1, scale_pos_weight=1, seed=None,\n",
       "              silent=None, subsample=1, verbosity=1)"
      ]
     },
     "execution_count": 19,
     "metadata": {},
     "output_type": "execute_result"
    }
   ],
   "source": [
    "xgboost_2nd = XGBClassifier(n_estimators=350, learning_rate=0.1, max_depth=5, random_state=222 )\n",
    "xgboost_2nd.fit(x_train_2nd, y_train_2nd)"
   ]
  },
  {
   "cell_type": "code",
   "execution_count": 20,
   "metadata": {},
   "outputs": [
    {
     "name": "stdout",
     "output_type": "stream",
     "text": [
      "              precision    recall  f1-score   support\n",
      "\n",
      "           0       0.90      0.89      0.89      9063\n",
      "           1       0.62      0.64      0.63      2601\n",
      "\n",
      "    accuracy                           0.83     11664\n",
      "   macro avg       0.76      0.77      0.76     11664\n",
      "weighted avg       0.84      0.83      0.83     11664\n",
      "\n"
     ]
    }
   ],
   "source": [
    "predicted_y_2nd = xgboost_2nd.predict(x_test_2nd)\n",
    "print(classification_report(y_test_2nd,predicted_y_2nd))"
   ]
  },
  {
   "cell_type": "code",
   "execution_count": 21,
   "metadata": {},
   "outputs": [
    {
     "data": {
      "text/plain": [
       "<matplotlib.axes._subplots.AxesSubplot at 0x1a25368b38>"
      ]
     },
     "execution_count": 21,
     "metadata": {},
     "output_type": "execute_result"
    },
    {
     "data": {
      "image/png": "[encoded data removed]",
      "text/plain": [
       "<Figure size 432x288 with 1 Axes>"
      ]
     },
     "metadata": {
      "needs_background": "light"
     },
     "output_type": "display_data"
    }
   ],
   "source": [
    "plot_importance(xgboost_2nd)"
   ]
  },
  {
   "cell_type": "markdown",
   "metadata": {},
   "source": [
    "## Remove the least important feature"
   ]
  },
  {
   "cell_type": "code",
   "execution_count": 22,
   "metadata": {},
   "outputs": [],
   "source": [
    "x_train_2nd = np.delete(x_train_2nd, 4, axis = 1)\n",
    "x_test_2nd = np.delete(x_test_2nd, 4, axis = 1)"
   ]
  },
  {
   "cell_type": "code",
   "execution_count": 23,
   "metadata": {},
   "outputs": [
    {
     "data": {
      "text/plain": [
       "(72494, 7)"
      ]
     },
     "execution_count": 23,
     "metadata": {},
     "output_type": "execute_result"
    }
   ],
   "source": [
    "x_train_2nd.shape"
   ]
  },
  {
   "cell_type": "code",
   "execution_count": 68,
   "metadata": {},
   "outputs": [],
   "source": [
    "xgboost_2nd = XGBClassifier(random_state=300,\n",
    "                         n_estimators=100,\n",
    "                         max_depth = 9,\n",
    "                         learning_rate=0.1, \n",
    "                         min_child_weight = 2, \n",
    "                         gamma = 0.1,\n",
    "                         reg_alpha= 0.01,\n",
    "                         subsample = 0.9,\n",
    "                         colsample_bytree= 0.85,\n",
    "                         objective= 'binary:logistic',\n",
    "                         n_jobs=-1)"
   ]
  },
  {
   "cell_type": "code",
   "execution_count": 70,
   "metadata": {},
   "outputs": [
    {
     "name": "stdout",
     "output_type": "stream",
     "text": [
      "              precision    recall  f1-score   support\n",
      "\n",
      "           0       0.90      0.86      0.88      9063\n",
      "           1       0.59      0.67      0.62      2601\n",
      "\n",
      "    accuracy                           0.82     11664\n",
      "   macro avg       0.74      0.77      0.75     11664\n",
      "weighted avg       0.83      0.82      0.82     11664\n",
      "\n"
     ]
    }
   ],
   "source": [
    "param_2nd = {'n_estimators':np.arange(100,1000,100)}\n",
    "gridsearch_2nd = GridSearchCV(estimator = xgboost_2nd, param_grid=param_2nd, cv = 3, scoring='f1')\n",
    "gridsearch_2nd.fit(x_train_2nd, y_train_2nd)\n",
    "\n",
    "predicted_y_2nd = gridsearch_2nd.predict(x_test_2nd)\n",
    "print(classification_report(y_test_2nd, predicted_y_2nd))\n",
    "# plot_importance(xgboost_2nd)\n",
    "\n",
    "\n"
   ]
  },
  {
   "cell_type": "code",
   "execution_count": 71,
   "metadata": {},
   "outputs": [
    {
     "data": {
      "text/plain": [
       "{'n_estimators': 100}"
      ]
     },
     "execution_count": 71,
     "metadata": {},
     "output_type": "execute_result"
    }
   ],
   "source": [
    "gridsearch_2nd.best_params_"
   ]
  },
  {
   "cell_type": "code",
   "execution_count": 72,
   "metadata": {},
   "outputs": [
    {
     "data": {
      "text/plain": [
       "XGBClassifier(base_score=0.5, booster='gbtree', colsample_bylevel=1,\n",
       "              colsample_bynode=1, colsample_bytree=0.85, gamma=0.1,\n",
       "              learning_rate=0.1, max_delta_step=0, max_depth=9,\n",
       "              min_child_weight=2, missing=None, n_estimators=100, n_jobs=-1,\n",
       "              nthread=None, objective='binary:logistic', random_state=300,\n",
       "              reg_alpha=0.01, reg_lambda=1, scale_pos_weight=1, seed=None,\n",
       "              silent=None, subsample=0.9, verbosity=1)"
      ]
     },
     "execution_count": 72,
     "metadata": {},
     "output_type": "execute_result"
    }
   ],
   "source": [
    "gridsearch_2nd.best_estimator_"
   ]
  },
  {
   "cell_type": "markdown",
   "metadata": {},
   "source": [
    "### 1st tuning"
   ]
  },
  {
   "cell_type": "code",
   "execution_count": 36,
   "metadata": {},
   "outputs": [
    {
     "name": "stdout",
     "output_type": "stream",
     "text": [
      "Fitting 3 folds for each of 9 candidates, totalling 27 fits\n",
      "[CV] max_depth=8, min_child_weight=2 .................................\n"
     ]
    },
    {
     "name": "stderr",
     "output_type": "stream",
     "text": [
      "[Parallel(n_jobs=1)]: Using backend SequentialBackend with 1 concurrent workers.\n"
     ]
    },
    {
     "name": "stdout",
     "output_type": "stream",
     "text": [
      "[CV] .................. max_depth=8, min_child_weight=2, total=   6.5s\n",
      "[CV] max_depth=8, min_child_weight=2 .................................\n"
     ]
    },
    {
     "name": "stderr",
     "output_type": "stream",
     "text": [
      "[Parallel(n_jobs=1)]: Done   1 out of   1 | elapsed:    6.5s remaining:    0.0s\n"
     ]
    },
    {
     "name": "stdout",
     "output_type": "stream",
     "text": [
      "[CV] .................. max_depth=8, min_child_weight=2, total=   5.8s\n",
      "[CV] max_depth=8, min_child_weight=2 .................................\n",
      "[CV] .................. max_depth=8, min_child_weight=2, total=   5.8s\n",
      "[CV] max_depth=8, min_child_weight=3 .................................\n",
      "[CV] .................. max_depth=8, min_child_weight=3, total=   5.8s\n",
      "[CV] max_depth=8, min_child_weight=3 .................................\n",
      "[CV] .................. max_depth=8, min_child_weight=3, total=   5.5s\n",
      "[CV] max_depth=8, min_child_weight=3 .................................\n",
      "[CV] .................. max_depth=8, min_child_weight=3, total=   5.4s\n",
      "[CV] max_depth=8, min_child_weight=4 .................................\n",
      "[CV] .................. max_depth=8, min_child_weight=4, total=   5.3s\n",
      "[CV] max_depth=8, min_child_weight=4 .................................\n",
      "[CV] .................. max_depth=8, min_child_weight=4, total=   5.3s\n",
      "[CV] max_depth=8, min_child_weight=4 .................................\n",
      "[CV] .................. max_depth=8, min_child_weight=4, total=   5.3s\n",
      "[CV] max_depth=9, min_child_weight=2 .................................\n",
      "[CV] .................. max_depth=9, min_child_weight=2, total=   5.9s\n",
      "[CV] max_depth=9, min_child_weight=2 .................................\n",
      "[CV] .................. max_depth=9, min_child_weight=2, total=   6.1s\n",
      "[CV] max_depth=9, min_child_weight=2 .................................\n",
      "[CV] .................. max_depth=9, min_child_weight=2, total=   6.0s\n",
      "[CV] max_depth=9, min_child_weight=3 .................................\n",
      "[CV] .................. max_depth=9, min_child_weight=3, total=   6.0s\n",
      "[CV] max_depth=9, min_child_weight=3 .................................\n",
      "[CV] .................. max_depth=9, min_child_weight=3, total=   6.2s\n",
      "[CV] max_depth=9, min_child_weight=3 .................................\n",
      "[CV] .................. max_depth=9, min_child_weight=3, total=   6.0s\n",
      "[CV] max_depth=9, min_child_weight=4 .................................\n",
      "[CV] .................. max_depth=9, min_child_weight=4, total=   6.1s\n",
      "[CV] max_depth=9, min_child_weight=4 .................................\n",
      "[CV] .................. max_depth=9, min_child_weight=4, total=   6.0s\n",
      "[CV] max_depth=9, min_child_weight=4 .................................\n",
      "[CV] .................. max_depth=9, min_child_weight=4, total=   6.4s\n",
      "[CV] max_depth=10, min_child_weight=2 ................................\n",
      "[CV] ................. max_depth=10, min_child_weight=2, total=   7.1s\n",
      "[CV] max_depth=10, min_child_weight=2 ................................\n",
      "[CV] ................. max_depth=10, min_child_weight=2, total=   6.7s\n",
      "[CV] max_depth=10, min_child_weight=2 ................................\n",
      "[CV] ................. max_depth=10, min_child_weight=2, total=   6.7s\n",
      "[CV] max_depth=10, min_child_weight=3 ................................\n",
      "[CV] ................. max_depth=10, min_child_weight=3, total=   6.9s\n",
      "[CV] max_depth=10, min_child_weight=3 ................................\n",
      "[CV] ................. max_depth=10, min_child_weight=3, total=   7.0s\n",
      "[CV] max_depth=10, min_child_weight=3 ................................\n",
      "[CV] ................. max_depth=10, min_child_weight=3, total=   7.5s\n",
      "[CV] max_depth=10, min_child_weight=4 ................................\n",
      "[CV] ................. max_depth=10, min_child_weight=4, total=  10.0s\n",
      "[CV] max_depth=10, min_child_weight=4 ................................\n",
      "[CV] ................. max_depth=10, min_child_weight=4, total=   7.1s\n",
      "[CV] max_depth=10, min_child_weight=4 ................................\n",
      "[CV] ................. max_depth=10, min_child_weight=4, total=   6.8s\n"
     ]
    },
    {
     "name": "stderr",
     "output_type": "stream",
     "text": [
      "[Parallel(n_jobs=1)]: Done  27 out of  27 | elapsed:  2.9min finished\n"
     ]
    },
    {
     "name": "stdout",
     "output_type": "stream",
     "text": [
      "              precision    recall  f1-score   support\n",
      "\n",
      "           0       0.90      0.86      0.88      9063\n",
      "           1       0.59      0.67      0.62      2601\n",
      "\n",
      "    accuracy                           0.82     11664\n",
      "   macro avg       0.74      0.77      0.75     11664\n",
      "weighted avg       0.83      0.82      0.82     11664\n",
      "\n"
     ]
    }
   ],
   "source": [
    "param_2nd = { 'max_depth':(8,9,10), 'min_child_weight':(2,3,4)}\n",
    "gridsearch_2nd = GridSearchCV(estimator = xgboost_2nd, param_grid=param_2nd, cv = 3, scoring='f1', verbose=2)\n",
    "gridsearch_2nd.fit(x_train_2nd, y_train_2nd)\n",
    "\n",
    "predicted_y_2nd = gridsearch_2nd.predict(x_test_2nd)\n",
    "print(classification_report(y_test_2nd, predicted_y_2nd))"
   ]
  },
  {
   "cell_type": "code",
   "execution_count": 37,
   "metadata": {},
   "outputs": [
    {
     "data": {
      "text/plain": [
       "{'max_depth': 9, 'min_child_weight': 2}"
      ]
     },
     "execution_count": 37,
     "metadata": {},
     "output_type": "execute_result"
    }
   ],
   "source": [
    "gridsearch_2nd.best_params_"
   ]
  },
  {
   "cell_type": "code",
   "execution_count": 39,
   "metadata": {},
   "outputs": [
    {
     "data": {
      "text/plain": [
       "XGBClassifier(base_score=0.5, booster='gbtree', colsample_bylevel=1,\n",
       "              colsample_bynode=1, colsample_bytree=0.8, gamma=0,\n",
       "              learning_rate=0.1, max_delta_step=0, max_depth=9,\n",
       "              min_child_weight=2, missing=None, n_estimators=100, n_jobs=-1,\n",
       "              nthread=None, objective='binary:logistic', random_state=300,\n",
       "              reg_alpha=0.1, reg_lambda=1, scale_pos_weight=1, seed=None,\n",
       "              silent=None, subsample=0.8, verbosity=1)"
      ]
     },
     "execution_count": 39,
     "metadata": {},
     "output_type": "execute_result"
    }
   ],
   "source": [
    "gridsearch_2nd.best_estimator_"
   ]
  },
  {
   "cell_type": "markdown",
   "metadata": {},
   "source": [
    "### 2rd Tuning"
   ]
  },
  {
   "cell_type": "code",
   "execution_count": 46,
   "metadata": {},
   "outputs": [
    {
     "name": "stdout",
     "output_type": "stream",
     "text": [
      "Fitting 3 folds for each of 3 candidates, totalling 9 fits\n",
      "[CV] gamma=0.05 ......................................................\n"
     ]
    },
    {
     "name": "stderr",
     "output_type": "stream",
     "text": [
      "[Parallel(n_jobs=1)]: Using backend SequentialBackend with 1 concurrent workers.\n"
     ]
    },
    {
     "name": "stdout",
     "output_type": "stream",
     "text": [
      "[CV] ....................................... gamma=0.05, total=   6.6s\n",
      "[CV] gamma=0.05 ......................................................\n"
     ]
    },
    {
     "name": "stderr",
     "output_type": "stream",
     "text": [
      "[Parallel(n_jobs=1)]: Done   1 out of   1 | elapsed:    6.6s remaining:    0.0s\n"
     ]
    },
    {
     "name": "stdout",
     "output_type": "stream",
     "text": [
      "[CV] ....................................... gamma=0.05, total=   6.9s\n",
      "[CV] gamma=0.05 ......................................................\n",
      "[CV] ....................................... gamma=0.05, total=   5.9s\n",
      "[CV] gamma=0.1 .......................................................\n",
      "[CV] ........................................ gamma=0.1, total=   6.0s\n",
      "[CV] gamma=0.1 .......................................................\n",
      "[CV] ........................................ gamma=0.1, total=   5.9s\n",
      "[CV] gamma=0.1 .......................................................\n",
      "[CV] ........................................ gamma=0.1, total=   5.9s\n",
      "[CV] gamma=0.15 ......................................................\n",
      "[CV] ....................................... gamma=0.15, total=   6.0s\n",
      "[CV] gamma=0.15 ......................................................\n",
      "[CV] ....................................... gamma=0.15, total=   6.2s\n",
      "[CV] gamma=0.15 ......................................................\n",
      "[CV] ....................................... gamma=0.15, total=   6.1s\n"
     ]
    },
    {
     "name": "stderr",
     "output_type": "stream",
     "text": [
      "[Parallel(n_jobs=1)]: Done   9 out of   9 | elapsed:   55.5s finished\n"
     ]
    },
    {
     "name": "stdout",
     "output_type": "stream",
     "text": [
      "              precision    recall  f1-score   support\n",
      "\n",
      "           0       0.90      0.86      0.88      9063\n",
      "           1       0.59      0.67      0.63      2601\n",
      "\n",
      "    accuracy                           0.82     11664\n",
      "   macro avg       0.74      0.77      0.75     11664\n",
      "weighted avg       0.83      0.82      0.82     11664\n",
      "\n"
     ]
    }
   ],
   "source": [
    "param_2nd = {'gamma':[0.05, 0.1, 0.15]}\n",
    "gridsearch_2nd = GridSearchCV(estimator = xgboost_2nd, param_grid=param_2nd, cv = 3, scoring='f1', verbose=2)\n",
    "gridsearch_2nd.fit(x_train_2nd, y_train_2nd)\n",
    "\n",
    "predicted_y_2nd = gridsearch_2nd.predict(x_test_2nd)\n",
    "print(classification_report(y_test_2nd, predicted_y_2nd))"
   ]
  },
  {
   "cell_type": "code",
   "execution_count": 47,
   "metadata": {},
   "outputs": [
    {
     "data": {
      "text/plain": [
       "{'gamma': 0.1}"
      ]
     },
     "execution_count": 47,
     "metadata": {},
     "output_type": "execute_result"
    }
   ],
   "source": [
    "gridsearch_2nd.best_params_"
   ]
  },
  {
   "cell_type": "code",
   "execution_count": 48,
   "metadata": {},
   "outputs": [
    {
     "data": {
      "text/plain": [
       "XGBClassifier(base_score=0.5, booster='gbtree', colsample_bylevel=1,\n",
       "              colsample_bynode=1, colsample_bytree=0.8, gamma=0.1,\n",
       "              learning_rate=0.1, max_delta_step=0, max_depth=9,\n",
       "              min_child_weight=2, missing=None, n_estimators=100, n_jobs=-1,\n",
       "              nthread=None, objective='binary:logistic', random_state=300,\n",
       "              reg_alpha=0.1, reg_lambda=1, scale_pos_weight=1, seed=None,\n",
       "              silent=None, subsample=0.8, verbosity=1)"
      ]
     },
     "execution_count": 48,
     "metadata": {},
     "output_type": "execute_result"
    }
   ],
   "source": [
    "gridsearch_2nd.best_estimator_"
   ]
  },
  {
   "cell_type": "markdown",
   "metadata": {},
   "source": [
    "### 3nd Tuning"
   ]
  },
  {
   "cell_type": "code",
   "execution_count": 57,
   "metadata": {},
   "outputs": [
    {
     "name": "stdout",
     "output_type": "stream",
     "text": [
      "Fitting 3 folds for each of 20 candidates, totalling 60 fits\n",
      "[CV] colsample_bytree=0.7, subsample=0.8 .............................\n"
     ]
    },
    {
     "name": "stderr",
     "output_type": "stream",
     "text": [
      "[Parallel(n_jobs=1)]: Using backend SequentialBackend with 1 concurrent workers.\n"
     ]
    },
    {
     "name": "stdout",
     "output_type": "stream",
     "text": [
      "[CV] .............. colsample_bytree=0.7, subsample=0.8, total=   6.0s\n",
      "[CV] colsample_bytree=0.7, subsample=0.8 .............................\n"
     ]
    },
    {
     "name": "stderr",
     "output_type": "stream",
     "text": [
      "[Parallel(n_jobs=1)]: Done   1 out of   1 | elapsed:    6.0s remaining:    0.0s\n"
     ]
    },
    {
     "name": "stdout",
     "output_type": "stream",
     "text": [
      "[CV] .............. colsample_bytree=0.7, subsample=0.8, total=   6.0s\n",
      "[CV] colsample_bytree=0.7, subsample=0.8 .............................\n",
      "[CV] .............. colsample_bytree=0.7, subsample=0.8, total=   5.8s\n",
      "[CV] colsample_bytree=0.7, subsample=0.85 ............................\n",
      "[CV] ............. colsample_bytree=0.7, subsample=0.85, total=   5.9s\n",
      "[CV] colsample_bytree=0.7, subsample=0.85 ............................\n",
      "[CV] ............. colsample_bytree=0.7, subsample=0.85, total=   5.7s\n",
      "[CV] colsample_bytree=0.7, subsample=0.85 ............................\n",
      "[CV] ............. colsample_bytree=0.7, subsample=0.85, total=   5.7s\n",
      "[CV] colsample_bytree=0.7, subsample=0.9 .............................\n",
      "[CV] .............. colsample_bytree=0.7, subsample=0.9, total=   5.9s\n",
      "[CV] colsample_bytree=0.7, subsample=0.9 .............................\n",
      "[CV] .............. colsample_bytree=0.7, subsample=0.9, total=   5.6s\n",
      "[CV] colsample_bytree=0.7, subsample=0.9 .............................\n",
      "[CV] .............. colsample_bytree=0.7, subsample=0.9, total=   6.1s\n",
      "[CV] colsample_bytree=0.7, subsample=0.95 ............................\n",
      "[CV] ............. colsample_bytree=0.7, subsample=0.95, total=   6.3s\n",
      "[CV] colsample_bytree=0.7, subsample=0.95 ............................\n",
      "[CV] ............. colsample_bytree=0.7, subsample=0.95, total=   6.2s\n",
      "[CV] colsample_bytree=0.7, subsample=0.95 ............................\n",
      "[CV] ............. colsample_bytree=0.7, subsample=0.95, total=   6.7s\n",
      "[CV] colsample_bytree=0.75, subsample=0.8 ............................\n",
      "[CV] ............. colsample_bytree=0.75, subsample=0.8, total=   6.3s\n",
      "[CV] colsample_bytree=0.75, subsample=0.8 ............................\n",
      "[CV] ............. colsample_bytree=0.75, subsample=0.8, total=   6.7s\n",
      "[CV] colsample_bytree=0.75, subsample=0.8 ............................\n",
      "[CV] ............. colsample_bytree=0.75, subsample=0.8, total=   5.9s\n",
      "[CV] colsample_bytree=0.75, subsample=0.85 ...........................\n",
      "[CV] ............ colsample_bytree=0.75, subsample=0.85, total=   6.1s\n",
      "[CV] colsample_bytree=0.75, subsample=0.85 ...........................\n",
      "[CV] ............ colsample_bytree=0.75, subsample=0.85, total=   6.2s\n",
      "[CV] colsample_bytree=0.75, subsample=0.85 ...........................\n",
      "[CV] ............ colsample_bytree=0.75, subsample=0.85, total=   6.4s\n",
      "[CV] colsample_bytree=0.75, subsample=0.9 ............................\n",
      "[CV] ............. colsample_bytree=0.75, subsample=0.9, total=   6.5s\n",
      "[CV] colsample_bytree=0.75, subsample=0.9 ............................\n",
      "[CV] ............. colsample_bytree=0.75, subsample=0.9, total=   6.5s\n",
      "[CV] colsample_bytree=0.75, subsample=0.9 ............................\n",
      "[CV] ............. colsample_bytree=0.75, subsample=0.9, total=   6.6s\n",
      "[CV] colsample_bytree=0.75, subsample=0.95 ...........................\n",
      "[CV] ............ colsample_bytree=0.75, subsample=0.95, total=   6.6s\n",
      "[CV] colsample_bytree=0.75, subsample=0.95 ...........................\n",
      "[CV] ............ colsample_bytree=0.75, subsample=0.95, total=   6.5s\n",
      "[CV] colsample_bytree=0.75, subsample=0.95 ...........................\n",
      "[CV] ............ colsample_bytree=0.75, subsample=0.95, total=   6.1s\n",
      "[CV] colsample_bytree=0.8, subsample=0.8 .............................\n",
      "[CV] .............. colsample_bytree=0.8, subsample=0.8, total=   6.0s\n",
      "[CV] colsample_bytree=0.8, subsample=0.8 .............................\n",
      "[CV] .............. colsample_bytree=0.8, subsample=0.8, total=   6.1s\n",
      "[CV] colsample_bytree=0.8, subsample=0.8 .............................\n",
      "[CV] .............. colsample_bytree=0.8, subsample=0.8, total=   6.9s\n",
      "[CV] colsample_bytree=0.8, subsample=0.85 ............................\n",
      "[CV] ............. colsample_bytree=0.8, subsample=0.85, total=   6.9s\n",
      "[CV] colsample_bytree=0.8, subsample=0.85 ............................\n",
      "[CV] ............. colsample_bytree=0.8, subsample=0.85, total=   5.9s\n",
      "[CV] colsample_bytree=0.8, subsample=0.85 ............................\n",
      "[CV] ............. colsample_bytree=0.8, subsample=0.85, total=   7.6s\n",
      "[CV] colsample_bytree=0.8, subsample=0.9 .............................\n",
      "[CV] .............. colsample_bytree=0.8, subsample=0.9, total=   6.7s\n",
      "[CV] colsample_bytree=0.8, subsample=0.9 .............................\n",
      "[CV] .............. colsample_bytree=0.8, subsample=0.9, total=   6.1s\n",
      "[CV] colsample_bytree=0.8, subsample=0.9 .............................\n",
      "[CV] .............. colsample_bytree=0.8, subsample=0.9, total=   6.0s\n",
      "[CV] colsample_bytree=0.8, subsample=0.95 ............................\n",
      "[CV] ............. colsample_bytree=0.8, subsample=0.95, total=   6.1s\n",
      "[CV] colsample_bytree=0.8, subsample=0.95 ............................\n",
      "[CV] ............. colsample_bytree=0.8, subsample=0.95, total=   6.9s\n",
      "[CV] colsample_bytree=0.8, subsample=0.95 ............................\n",
      "[CV] ............. colsample_bytree=0.8, subsample=0.95, total=   6.6s\n",
      "[CV] colsample_bytree=0.85, subsample=0.8 ............................\n",
      "[CV] ............. colsample_bytree=0.85, subsample=0.8, total=   6.0s\n",
      "[CV] colsample_bytree=0.85, subsample=0.8 ............................\n",
      "[CV] ............. colsample_bytree=0.85, subsample=0.8, total=   6.0s\n",
      "[CV] colsample_bytree=0.85, subsample=0.8 ............................\n",
      "[CV] ............. colsample_bytree=0.85, subsample=0.8, total=   6.0s\n",
      "[CV] colsample_bytree=0.85, subsample=0.85 ...........................\n",
      "[CV] ............ colsample_bytree=0.85, subsample=0.85, total=   6.0s\n",
      "[CV] colsample_bytree=0.85, subsample=0.85 ...........................\n",
      "[CV] ............ colsample_bytree=0.85, subsample=0.85, total=   5.9s\n",
      "[CV] colsample_bytree=0.85, subsample=0.85 ...........................\n",
      "[CV] ............ colsample_bytree=0.85, subsample=0.85, total=   5.9s\n",
      "[CV] colsample_bytree=0.85, subsample=0.9 ............................\n",
      "[CV] ............. colsample_bytree=0.85, subsample=0.9, total=   6.2s\n",
      "[CV] colsample_bytree=0.85, subsample=0.9 ............................\n",
      "[CV] ............. colsample_bytree=0.85, subsample=0.9, total=   6.3s\n",
      "[CV] colsample_bytree=0.85, subsample=0.9 ............................\n",
      "[CV] ............. colsample_bytree=0.85, subsample=0.9, total=   6.1s\n",
      "[CV] colsample_bytree=0.85, subsample=0.95 ...........................\n",
      "[CV] ............ colsample_bytree=0.85, subsample=0.95, total=   7.3s\n",
      "[CV] colsample_bytree=0.85, subsample=0.95 ...........................\n",
      "[CV] ............ colsample_bytree=0.85, subsample=0.95, total=   6.0s\n",
      "[CV] colsample_bytree=0.85, subsample=0.95 ...........................\n",
      "[CV] ............ colsample_bytree=0.85, subsample=0.95, total=   6.0s\n",
      "[CV] colsample_bytree=0.9, subsample=0.8 .............................\n",
      "[CV] .............. colsample_bytree=0.9, subsample=0.8, total=   6.8s\n",
      "[CV] colsample_bytree=0.9, subsample=0.8 .............................\n",
      "[CV] .............. colsample_bytree=0.9, subsample=0.8, total=   7.5s\n",
      "[CV] colsample_bytree=0.9, subsample=0.8 .............................\n",
      "[CV] .............. colsample_bytree=0.9, subsample=0.8, total=   7.5s\n",
      "[CV] colsample_bytree=0.9, subsample=0.85 ............................\n",
      "[CV] ............. colsample_bytree=0.9, subsample=0.85, total=   7.8s\n",
      "[CV] colsample_bytree=0.9, subsample=0.85 ............................\n",
      "[CV] ............. colsample_bytree=0.9, subsample=0.85, total=   6.9s\n",
      "[CV] colsample_bytree=0.9, subsample=0.85 ............................\n",
      "[CV] ............. colsample_bytree=0.9, subsample=0.85, total=   6.9s\n",
      "[CV] colsample_bytree=0.9, subsample=0.9 .............................\n",
      "[CV] .............. colsample_bytree=0.9, subsample=0.9, total=   7.0s\n",
      "[CV] colsample_bytree=0.9, subsample=0.9 .............................\n",
      "[CV] .............. colsample_bytree=0.9, subsample=0.9, total=   7.0s\n",
      "[CV] colsample_bytree=0.9, subsample=0.9 .............................\n",
      "[CV] .............. colsample_bytree=0.9, subsample=0.9, total=   7.2s\n",
      "[CV] colsample_bytree=0.9, subsample=0.95 ............................\n",
      "[CV] ............. colsample_bytree=0.9, subsample=0.95, total=   7.8s\n",
      "[CV] colsample_bytree=0.9, subsample=0.95 ............................\n",
      "[CV] ............. colsample_bytree=0.9, subsample=0.95, total=   7.5s\n",
      "[CV] colsample_bytree=0.9, subsample=0.95 ............................\n"
     ]
    },
    {
     "name": "stdout",
     "output_type": "stream",
     "text": [
      "[CV] ............. colsample_bytree=0.9, subsample=0.95, total=   7.1s\n"
     ]
    },
    {
     "name": "stderr",
     "output_type": "stream",
     "text": [
      "[Parallel(n_jobs=1)]: Done  60 out of  60 | elapsed:  6.4min finished\n"
     ]
    },
    {
     "name": "stdout",
     "output_type": "stream",
     "text": [
      "              precision    recall  f1-score   support\n",
      "\n",
      "           0       0.90      0.87      0.88      9063\n",
      "           1       0.59      0.67      0.63      2601\n",
      "\n",
      "    accuracy                           0.82     11664\n",
      "   macro avg       0.75      0.77      0.76     11664\n",
      "weighted avg       0.83      0.82      0.83     11664\n",
      "\n"
     ]
    }
   ],
   "source": [
    "param_2nd = {  'subsample':[0.80,0.85, 0.9, 0.95],\n",
    " 'colsample_bytree':[0.70, 0.75, 0.80, 0.85, 0.90]}\n",
    "gridsearch_2nd = GridSearchCV(estimator = xgboost_2nd, param_grid=param_2nd, cv = 3, scoring='f1', verbose=2)\n",
    "gridsearch_2nd.fit(x_train_2nd, y_train_2nd)\n",
    "\n",
    "predicted_y_2nd = gridsearch_2nd.predict(x_test_2nd)\n",
    "print(classification_report(y_test_2nd, predicted_y_2nd))"
   ]
  },
  {
   "cell_type": "code",
   "execution_count": 58,
   "metadata": {},
   "outputs": [
    {
     "data": {
      "text/plain": [
       "{'colsample_bytree': 0.9, 'subsample': 0.85}"
      ]
     },
     "execution_count": 58,
     "metadata": {},
     "output_type": "execute_result"
    }
   ],
   "source": [
    "gridsearch_2nd.best_params_"
   ]
  },
  {
   "cell_type": "code",
   "execution_count": 59,
   "metadata": {},
   "outputs": [
    {
     "data": {
      "text/plain": [
       "XGBClassifier(base_score=0.5, booster='gbtree', colsample_bylevel=1,\n",
       "              colsample_bynode=1, colsample_bytree=0.9, gamma=0.1,\n",
       "              learning_rate=0.1, max_delta_step=0, max_depth=9,\n",
       "              min_child_weight=2, missing=None, n_estimators=100, n_jobs=-1,\n",
       "              nthread=None, objective='binary:logistic', random_state=300,\n",
       "              reg_alpha=0.1, reg_lambda=1, scale_pos_weight=1, seed=None,\n",
       "              silent=None, subsample=0.85, verbosity=1)"
      ]
     },
     "execution_count": 59,
     "metadata": {},
     "output_type": "execute_result"
    }
   ],
   "source": [
    "gridsearch_2nd.best_estimator_"
   ]
  },
  {
   "cell_type": "markdown",
   "metadata": {},
   "source": [
    "### 4th Tuning"
   ]
  },
  {
   "cell_type": "code",
   "execution_count": 61,
   "metadata": {},
   "outputs": [
    {
     "name": "stdout",
     "output_type": "stream",
     "text": [
      "Fitting 3 folds for each of 5 candidates, totalling 15 fits\n",
      "[CV] reg_alpha=0 .....................................................\n"
     ]
    },
    {
     "name": "stderr",
     "output_type": "stream",
     "text": [
      "[Parallel(n_jobs=1)]: Using backend SequentialBackend with 1 concurrent workers.\n"
     ]
    },
    {
     "name": "stdout",
     "output_type": "stream",
     "text": [
      "[CV] ...................................... reg_alpha=0, total=   6.2s\n",
      "[CV] reg_alpha=0 .....................................................\n"
     ]
    },
    {
     "name": "stderr",
     "output_type": "stream",
     "text": [
      "[Parallel(n_jobs=1)]: Done   1 out of   1 | elapsed:    6.2s remaining:    0.0s\n"
     ]
    },
    {
     "name": "stdout",
     "output_type": "stream",
     "text": [
      "[CV] ...................................... reg_alpha=0, total=   5.9s\n",
      "[CV] reg_alpha=0 .....................................................\n",
      "[CV] ...................................... reg_alpha=0, total=   5.9s\n",
      "[CV] reg_alpha=0.001 .................................................\n",
      "[CV] .................................. reg_alpha=0.001, total=   6.0s\n",
      "[CV] reg_alpha=0.001 .................................................\n",
      "[CV] .................................. reg_alpha=0.001, total=   5.9s\n",
      "[CV] reg_alpha=0.001 .................................................\n",
      "[CV] .................................. reg_alpha=0.001, total=   5.9s\n",
      "[CV] reg_alpha=0.005 .................................................\n",
      "[CV] .................................. reg_alpha=0.005, total=   6.0s\n",
      "[CV] reg_alpha=0.005 .................................................\n",
      "[CV] .................................. reg_alpha=0.005, total=   5.8s\n",
      "[CV] reg_alpha=0.005 .................................................\n",
      "[CV] .................................. reg_alpha=0.005, total=   5.9s\n",
      "[CV] reg_alpha=0.01 ..................................................\n",
      "[CV] ................................... reg_alpha=0.01, total=   5.9s\n",
      "[CV] reg_alpha=0.01 ..................................................\n",
      "[CV] ................................... reg_alpha=0.01, total=   5.9s\n",
      "[CV] reg_alpha=0.01 ..................................................\n",
      "[CV] ................................... reg_alpha=0.01, total=   5.9s\n",
      "[CV] reg_alpha=0.05 ..................................................\n",
      "[CV] ................................... reg_alpha=0.05, total=   5.9s\n",
      "[CV] reg_alpha=0.05 ..................................................\n",
      "[CV] ................................... reg_alpha=0.05, total=   5.9s\n",
      "[CV] reg_alpha=0.05 ..................................................\n",
      "[CV] ................................... reg_alpha=0.05, total=   5.9s\n"
     ]
    },
    {
     "name": "stderr",
     "output_type": "stream",
     "text": [
      "[Parallel(n_jobs=1)]: Done  15 out of  15 | elapsed:  1.5min finished\n"
     ]
    },
    {
     "name": "stdout",
     "output_type": "stream",
     "text": [
      "              precision    recall  f1-score   support\n",
      "\n",
      "           0       0.90      0.86      0.88      9063\n",
      "           1       0.59      0.67      0.62      2601\n",
      "\n",
      "    accuracy                           0.82     11664\n",
      "   macro avg       0.74      0.77      0.75     11664\n",
      "weighted avg       0.83      0.82      0.82     11664\n",
      "\n"
     ]
    }
   ],
   "source": [
    "param_2nd = { 'reg_alpha':[0, 0.001, 0.005, 0.01, 0.05]}\n",
    "gridsearch_2nd = GridSearchCV(estimator = xgboost_2nd, param_grid=param_2nd, cv = 3, scoring='f1', verbose=2)\n",
    "gridsearch_2nd.fit(x_train_2nd, y_train_2nd)\n",
    "\n",
    "predicted_y_2nd = gridsearch_2nd.predict(x_test_2nd)\n",
    "print(classification_report(y_test_2nd, predicted_y_2nd))"
   ]
  },
  {
   "cell_type": "code",
   "execution_count": 63,
   "metadata": {},
   "outputs": [
    {
     "name": "stdout",
     "output_type": "stream",
     "text": [
      "{'reg_alpha': 0.01}\n"
     ]
    },
    {
     "data": {
      "text/plain": [
       "0.8395412732325201"
      ]
     },
     "execution_count": 63,
     "metadata": {},
     "output_type": "execute_result"
    }
   ],
   "source": [
    "print(gridsearch_2nd.best_params_)\n",
    "gridsearch_2nd.best_score_"
   ]
  },
  {
   "cell_type": "code",
   "execution_count": 67,
   "metadata": {},
   "outputs": [
    {
     "name": "stdout",
     "output_type": "stream",
     "text": [
      "Fitting 3 folds for each of 9 candidates, totalling 27 fits\n"
     ]
    },
    {
     "name": "stderr",
     "output_type": "stream",
     "text": [
      "[Parallel(n_jobs=-1)]: Using backend LokyBackend with 4 concurrent workers.\n",
      "[Parallel(n_jobs=-1)]: Done  27 out of  27 | elapsed:  7.2min finished\n"
     ]
    },
    {
     "name": "stdout",
     "output_type": "stream",
     "text": [
      "              precision    recall  f1-score   support\n",
      "\n",
      "           0       0.90      0.86      0.88      9063\n",
      "           1       0.59      0.67      0.62      2601\n",
      "\n",
      "    accuracy                           0.82     11664\n",
      "   macro avg       0.74      0.77      0.75     11664\n",
      "weighted avg       0.83      0.82      0.82     11664\n",
      "\n"
     ]
    }
   ],
   "source": [
    "param_2nd = {'n_estimators':np.arange(100,1000,100)}\n",
    "gridsearch_2nd = GridSearchCV(estimator = xgboost_2nd, param_grid=param_2nd, cv = 3, scoring='f1', verbose=2,n_jobs=-1)\n",
    "gridsearch_2nd.fit(x_train_2nd, y_train_2nd)\n",
    "\n",
    "predicted_y_2nd = gridsearch_2nd.predict(x_test_2nd)\n",
    "print(classification_report(y_test_2nd, predicted_y_2nd))"
   ]
  },
  {
   "cell_type": "code",
   "execution_count": 66,
   "metadata": {},
   "outputs": [
    {
     "name": "stdout",
     "output_type": "stream",
     "text": [
      "{'n_estimators': 100}\n"
     ]
    },
    {
     "data": {
      "text/plain": [
       "XGBClassifier(base_score=0.5, booster='gbtree', colsample_bylevel=1,\n",
       "              colsample_bynode=1, colsample_bytree=0.85, gamma=0.1,\n",
       "              learning_rate=0.1, max_delta_step=0, max_depth=9,\n",
       "              min_child_weight=2, missing=None, n_estimators=100, n_jobs=-1,\n",
       "              nthread=None, objective='binary:logistic', random_state=300,\n",
       "              reg_alpha=0.01, reg_lambda=1, scale_pos_weight=1, seed=None,\n",
       "              silent=None, subsample=0.9, verbosity=1)"
      ]
     },
     "execution_count": 66,
     "metadata": {},
     "output_type": "execute_result"
    }
   ],
   "source": [
    "print(gridsearch_2nd.best_params_)\n",
    "gridsearch_2nd.best_estimator_"
   ]
  },
  {
   "cell_type": "code",
   "execution_count": 73,
   "metadata": {},
   "outputs": [
    {
     "name": "stdout",
     "output_type": "stream",
     "text": [
      "              precision    recall  f1-score   support\n",
      "\n",
      "           0       0.90      0.86      0.88      9063\n",
      "           1       0.59      0.67      0.62      2601\n",
      "\n",
      "    accuracy                           0.82     11664\n",
      "   macro avg       0.74      0.77      0.75     11664\n",
      "weighted avg       0.83      0.82      0.82     11664\n",
      "\n"
     ]
    }
   ],
   "source": [
    "xgboost_2nd = XGBClassifier(random_state=300,\n",
    "                         n_estimators=100,\n",
    "                         max_depth = 9,\n",
    "                         learning_rate=0.1, \n",
    "                         min_child_weight = 2, \n",
    "                         gamma = 0.1,\n",
    "                         reg_alpha= 0.01,\n",
    "                         subsample = 0.9,\n",
    "                         colsample_bytree= 0.85,\n",
    "                         objective= 'binary:logistic',\n",
    "                         n_jobs=-1)\n",
    "xgboost_2nd.fit(x_train_2nd, y_train_2nd)\n",
    "\n",
    "predicted_y_2nd = xgboost_2nd.predict(x_test_2nd)\n",
    "print(classification_report(y_test_2nd, predicted_y_2nd))"
   ]
  },
  {
   "cell_type": "code",
   "execution_count": 74,
   "metadata": {},
   "outputs": [
    {
     "data": {
      "text/plain": [
       "<matplotlib.axes._subplots.AxesSubplot at 0x1a24a78fd0>"
      ]
     },
     "execution_count": 74,
     "metadata": {},
     "output_type": "execute_result"
    },
    {
     "data": {
      "image/png": "[encoded data removed]",
      "text/plain": [
       "<Figure size 432x288 with 1 Axes>"
      ]
     },
     "metadata": {
      "needs_background": "light"
     },
     "output_type": "display_data"
    }
   ],
   "source": [
    "plot_importance(xgboost_2nd)"
   ]
  },
  {
   "cell_type": "markdown",
   "metadata": {},
   "source": [
    "Further Study\n",
    "- can investigate more about features which are highly correlated\n",
    "- can try to use prediction models to predict the missing values\n",
    "- can create new features based on domain knowledge"
   ]
  },
  {
   "cell_type": "code",
   "execution_count": 79,
   "metadata": {},
   "outputs": [
    {
     "name": "stdout",
     "output_type": "stream",
     "text": [
      "[TerminalIPythonApp] WARNING | Subcommand `ipython nbconvert` is deprecated and will be removed in future versions.\n",
      "[TerminalIPythonApp] WARNING | You likely want to use `jupyter nbconvert` in the future\n",
      "[NbConvertApp] Converting notebook Project_2_basic_ver.ipynb to python\n",
      "[NbConvertApp] Writing 22156 bytes to Project_2_basic_ver.py\n"
     ]
    }
   ],
   "source": [
    "!ipython nbconvert --to=python Project_2_basic_ver.ipynb"
   ]
  },
  {
   "cell_type": "code",
   "execution_count": null,
   "metadata": {},
   "outputs": [],
   "source": []
  }
 ],
 "metadata": {
  "kernelspec": {
   "display_name": "Python 3",
   "language": "python",
   "name": "python3"
  }
 },
 "nbformat": 4,
 "nbformat_minor": 2
}
